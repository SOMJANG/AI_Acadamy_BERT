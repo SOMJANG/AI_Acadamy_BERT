{
  "nbformat": 4,
  "nbformat_minor": 0,
  "metadata": {
    "accelerator": "GPU",
    "colab": {
      "name": "email_spam_classification_keras_bert2.ipynb",
      "provenance": [],
      "collapsed_sections": [
        "nM3U6_p7iEi0"
      ]
    },
    "kernelspec": {
      "display_name": "Python 3",
      "language": "python",
      "name": "python3"
    },
    "language_info": {
      "codemirror_mode": {
        "name": "ipython",
        "version": 3
      },
      "file_extension": ".py",
      "mimetype": "text/x-python",
      "name": "python",
      "nbconvert_exporter": "python",
      "pygments_lexer": "ipython3",
      "version": "3.7.3"
    }
  },
  "cells": [
    {
      "cell_type": "markdown",
      "metadata": {
        "id": "6SpClK4fmFTU",
        "colab_type": "text"
      },
      "source": [
        "### 이 코드는 김웅곤님의 코드를 데이터를 바꿔 사용하기 위해서 조금씩 수정하여 만든 코드입니다.\n",
        "### GitHub <a>https://github.com/kimwoonggon/publicservant_AI</a>"
      ]
    },
    {
      "cell_type": "markdown",
      "metadata": {
        "colab_type": "text",
        "id": "view-in-github"
      },
      "source": [
        "<a href=\"https://colab.research.google.com/github/kimwoonggon/publicservant_AI/blob/master/%EC%BC%80%EB%9D%BC%EC%8A%A4%EB%A1%9C_%EB%B2%84%ED%8A%B8_%EB%B9%A0%EB%A5%B4%EA%B2%8C_%EB%8F%8C%EB%A0%A4%EB%B3%B4%EA%B8%B0_With_%EB%84%A4%EC%9D%B4%EB%B2%84_%EC%98%81%ED%99%94_%EA%B0%90%EC%84%B1%EB%B6%84%EC%84%9D_TUTORIAL(1).ipynb\" target=\"_parent\"><img src=\"https://colab.research.google.com/assets/colab-badge.svg\" alt=\"Open In Colab\"/></a>"
      ]
    },
    {
      "cell_type": "markdown",
      "metadata": {
        "colab_type": "text",
        "id": "cp6z2_gFzr3A"
      },
      "source": [
        "\n",
        " #### 구글 드라이브와 Colab을 연동합니다\n",
        "\n"
      ]
    },
    {
      "cell_type": "code",
      "metadata": {
        "colab_type": "code",
        "id": "ybVfw9QC8KI1",
        "outputId": "eb2621ff-5c44-4791-beaa-1a7e4093b873",
        "colab": {
          "base_uri": "https://localhost:8080/",
          "height": 122
        }
      },
      "source": [
        "import os, sys \n",
        "from google.colab import drive \n",
        "drive.mount('/content/mnt') \n",
        "nb_path = '/content/notebooks' \n",
        "os.symlink('/content/mnt/My Drive/Colab Notebooks', nb_path) \n",
        "sys.path.insert(0, nb_path)"
      ],
      "execution_count": 1,
      "outputs": [
        {
          "output_type": "stream",
          "text": [
            "Go to this URL in a browser: https://accounts.google.com/o/oauth2/auth?client_id=947318989803-6bn6qk8qdgf4n4g3pfee6491hc0brc4i.apps.googleusercontent.com&redirect_uri=urn%3aietf%3awg%3aoauth%3a2.0%3aoob&response_type=code&scope=email%20https%3a%2f%2fwww.googleapis.com%2fauth%2fdocs.test%20https%3a%2f%2fwww.googleapis.com%2fauth%2fdrive%20https%3a%2f%2fwww.googleapis.com%2fauth%2fdrive.photos.readonly%20https%3a%2f%2fwww.googleapis.com%2fauth%2fpeopleapi.readonly\n",
            "\n",
            "Enter your authorization code:\n",
            "··········\n",
            "Mounted at /content/mnt\n"
          ],
          "name": "stdout"
        }
      ]
    },
    {
      "cell_type": "code",
      "metadata": {
        "colab_type": "code",
        "id": "7Wc0T-P3kuP7",
        "colab": {}
      },
      "source": [
        "import warnings\n",
        "warnings.filterwarnings(action=\"ignore\")"
      ],
      "execution_count": 0,
      "outputs": []
    },
    {
      "cell_type": "code",
      "metadata": {
        "colab_type": "code",
        "id": "Ffa---Ov8WfF",
        "outputId": "e0d5193b-a59d-4134-9779-a7473c15a1fe",
        "colab": {
          "base_uri": "https://localhost:8080/",
          "height": 80
        }
      },
      "source": [
        "import tensorflow as tf\n",
        "\n",
        "import pandas as pd\n",
        "import numpy as np  \n",
        "import re\n",
        "import pickle\n",
        "\n",
        "import keras as keras\n",
        "from keras.models import load_model\n",
        "from keras import backend as K\n",
        "from keras import Input, Model\n",
        "from keras import optimizers\n",
        "\n",
        "import codecs\n",
        "from tqdm import tqdm\n",
        "import shutil"
      ],
      "execution_count": 3,
      "outputs": [
        {
          "output_type": "display_data",
          "data": {
            "text/html": [
              "<p style=\"color: red;\">\n",
              "The default version of TensorFlow in Colab will soon switch to TensorFlow 2.x.<br>\n",
              "We recommend you <a href=\"https://www.tensorflow.org/guide/migrate\" target=\"_blank\">upgrade</a> now \n",
              "or ensure your notebook will continue to use TensorFlow 1.x via the <code>%tensorflow_version 1.x</code> magic:\n",
              "<a href=\"https://colab.research.google.com/notebooks/tensorflow_version.ipynb\" target=\"_blank\">more info</a>.</p>\n"
            ],
            "text/plain": [
              "<IPython.core.display.HTML object>"
            ]
          },
          "metadata": {
            "tags": []
          }
        },
        {
          "output_type": "stream",
          "text": [
            "Using TensorFlow backend.\n"
          ],
          "name": "stderr"
        }
      ]
    },
    {
      "cell_type": "code",
      "metadata": {
        "colab_type": "code",
        "id": "09QnmSZXGbbD",
        "outputId": "4a03b036-06b0-480a-fc6a-c7663ffe38bf",
        "colab": {
          "base_uri": "https://localhost:8080/",
          "height": 1000
        }
      },
      "source": [
        "!pip install keras-bert\n",
        "!pip install keras-radam"
      ],
      "execution_count": 4,
      "outputs": [
        {
          "output_type": "stream",
          "text": [
            "Collecting keras-bert\n",
            "  Downloading https://files.pythonhosted.org/packages/2c/0f/cdc886c1018943ea62d3209bc964413d5aa9d0eb7e493abd8545be679294/keras-bert-0.81.0.tar.gz\n",
            "Requirement already satisfied: numpy in /usr/local/lib/python3.6/dist-packages (from keras-bert) (1.17.5)\n",
            "Requirement already satisfied: Keras in /usr/local/lib/python3.6/dist-packages (from keras-bert) (2.2.5)\n",
            "Collecting keras-transformer>=0.30.0\n",
            "  Downloading https://files.pythonhosted.org/packages/54/0c/fede535ac576c03863c44bf2e0bf051fe21f5e10103631b6b6236ae446f3/keras-transformer-0.32.0.tar.gz\n",
            "Requirement already satisfied: scipy>=0.14 in /usr/local/lib/python3.6/dist-packages (from Keras->keras-bert) (1.4.1)\n",
            "Requirement already satisfied: six>=1.9.0 in /usr/local/lib/python3.6/dist-packages (from Keras->keras-bert) (1.12.0)\n",
            "Requirement already satisfied: keras-applications>=1.0.8 in /usr/local/lib/python3.6/dist-packages (from Keras->keras-bert) (1.0.8)\n",
            "Requirement already satisfied: pyyaml in /usr/local/lib/python3.6/dist-packages (from Keras->keras-bert) (3.13)\n",
            "Requirement already satisfied: keras-preprocessing>=1.1.0 in /usr/local/lib/python3.6/dist-packages (from Keras->keras-bert) (1.1.0)\n",
            "Requirement already satisfied: h5py in /usr/local/lib/python3.6/dist-packages (from Keras->keras-bert) (2.8.0)\n",
            "Collecting keras-pos-embd>=0.10.0\n",
            "  Downloading https://files.pythonhosted.org/packages/09/70/b63ed8fc660da2bb6ae29b9895401c628da5740c048c190b5d7107cadd02/keras-pos-embd-0.11.0.tar.gz\n",
            "Collecting keras-multi-head>=0.22.0\n",
            "  Downloading https://files.pythonhosted.org/packages/40/3e/d0a64bb2ac5217928effe4507c26bbd19b86145d16a1948bc2d4f4c6338a/keras-multi-head-0.22.0.tar.gz\n",
            "Collecting keras-layer-normalization>=0.12.0\n",
            "  Downloading https://files.pythonhosted.org/packages/a4/0e/d1078df0494bac9ce1a67954e5380b6e7569668f0f3b50a9531c62c1fc4a/keras-layer-normalization-0.14.0.tar.gz\n",
            "Collecting keras-position-wise-feed-forward>=0.5.0\n",
            "  Downloading https://files.pythonhosted.org/packages/e3/59/f0faa1037c033059e7e9e7758e6c23b4d1c0772cd48de14c4b6fd4033ad5/keras-position-wise-feed-forward-0.6.0.tar.gz\n",
            "Collecting keras-embed-sim>=0.7.0\n",
            "  Downloading https://files.pythonhosted.org/packages/bc/20/735fd53f6896e2af63af47e212601c1b8a7a80d00b6126c388c9d1233892/keras-embed-sim-0.7.0.tar.gz\n",
            "Collecting keras-self-attention==0.41.0\n",
            "  Downloading https://files.pythonhosted.org/packages/1b/1c/01599219bef7266fa43b3316e4f55bcb487734d3bafdc60ffd564f3cfe29/keras-self-attention-0.41.0.tar.gz\n",
            "Building wheels for collected packages: keras-bert, keras-transformer, keras-pos-embd, keras-multi-head, keras-layer-normalization, keras-position-wise-feed-forward, keras-embed-sim, keras-self-attention\n",
            "  Building wheel for keras-bert (setup.py) ... \u001b[?25l\u001b[?25hdone\n",
            "  Created wheel for keras-bert: filename=keras_bert-0.81.0-cp36-none-any.whl size=37913 sha256=349d9466fee2c32958c7a856c0b0ac0fe34ceea0fccaa3642a61f70284537ca3\n",
            "  Stored in directory: /root/.cache/pip/wheels/bd/27/da/ffc2d573aa48b87440ec4f98bc7c992e3a2d899edb2d22ef9e\n",
            "  Building wheel for keras-transformer (setup.py) ... \u001b[?25l\u001b[?25hdone\n",
            "  Created wheel for keras-transformer: filename=keras_transformer-0.32.0-cp36-none-any.whl size=13266 sha256=d98abc841f2907836587f9a7db0d1eaf697d71e52e6b1077aac9a62474441b3d\n",
            "  Stored in directory: /root/.cache/pip/wheels/62/f0/ce/82fa5d024d5ef8e263f26a50dcee23820efe245680ce9c922a\n",
            "  Building wheel for keras-pos-embd (setup.py) ... \u001b[?25l\u001b[?25hdone\n",
            "  Created wheel for keras-pos-embd: filename=keras_pos_embd-0.11.0-cp36-none-any.whl size=7554 sha256=eae2dad1c97944400f78a8852f1fc07a2349e6925ef8ddcadaef9119a0e0b651\n",
            "  Stored in directory: /root/.cache/pip/wheels/5b/a1/a0/ce6b1d49ba1a9a76f592e70cf297b05c96bc9f418146761032\n",
            "  Building wheel for keras-multi-head (setup.py) ... \u001b[?25l\u001b[?25hdone\n",
            "  Created wheel for keras-multi-head: filename=keras_multi_head-0.22.0-cp36-none-any.whl size=15371 sha256=ccc229d7e7c5d90f8e9babc6dc71d43daae8b81aa8cbf3b9f11a34a47db94579\n",
            "  Stored in directory: /root/.cache/pip/wheels/bb/df/3f/81b36f41b66e6a9cd69224c70a737de2bb6b2f7feb3272c25e\n",
            "  Building wheel for keras-layer-normalization (setup.py) ... \u001b[?25l\u001b[?25hdone\n",
            "  Created wheel for keras-layer-normalization: filename=keras_layer_normalization-0.14.0-cp36-none-any.whl size=5268 sha256=ab4868a3147e94a71325396e4e580ee02e2965043051de73b7e2ab9b45217667\n",
            "  Stored in directory: /root/.cache/pip/wheels/54/80/22/a638a7d406fd155e507aa33d703e3fa2612b9eb7bb4f4fe667\n",
            "  Building wheel for keras-position-wise-feed-forward (setup.py) ... \u001b[?25l\u001b[?25hdone\n",
            "  Created wheel for keras-position-wise-feed-forward: filename=keras_position_wise_feed_forward-0.6.0-cp36-none-any.whl size=5623 sha256=d3501a0fd15ace88c2268761a2ee1e83c77e1dc31617118641775f7d11df918f\n",
            "  Stored in directory: /root/.cache/pip/wheels/39/e2/e2/3514fef126a00574b13bc0b9e23891800158df3a3c19c96e3b\n",
            "  Building wheel for keras-embed-sim (setup.py) ... \u001b[?25l\u001b[?25hdone\n",
            "  Created wheel for keras-embed-sim: filename=keras_embed_sim-0.7.0-cp36-none-any.whl size=4676 sha256=76d667dadeecc4eb5f1b8b3329cd7699f103a24762cb91a13ac2afc1de068ab0\n",
            "  Stored in directory: /root/.cache/pip/wheels/d1/bc/b1/b0c45cee4ca2e6c86586b0218ffafe7f0703c6d07fdf049866\n",
            "  Building wheel for keras-self-attention (setup.py) ... \u001b[?25l\u001b[?25hdone\n",
            "  Created wheel for keras-self-attention: filename=keras_self_attention-0.41.0-cp36-none-any.whl size=17288 sha256=83907ef728921bc6b26adab169e1c9b404619510413794915dddc526efc71692\n",
            "  Stored in directory: /root/.cache/pip/wheels/cc/dc/17/84258b27a04cd38ac91998abe148203720ca696186635db694\n",
            "Successfully built keras-bert keras-transformer keras-pos-embd keras-multi-head keras-layer-normalization keras-position-wise-feed-forward keras-embed-sim keras-self-attention\n",
            "Installing collected packages: keras-pos-embd, keras-self-attention, keras-multi-head, keras-layer-normalization, keras-position-wise-feed-forward, keras-embed-sim, keras-transformer, keras-bert\n",
            "Successfully installed keras-bert-0.81.0 keras-embed-sim-0.7.0 keras-layer-normalization-0.14.0 keras-multi-head-0.22.0 keras-pos-embd-0.11.0 keras-position-wise-feed-forward-0.6.0 keras-self-attention-0.41.0 keras-transformer-0.32.0\n",
            "Collecting keras-radam\n",
            "  Downloading https://files.pythonhosted.org/packages/46/8d/b83ccaa94253fbc920b21981f038393041d92236bb541751b98a66a2ac1d/keras-radam-0.15.0.tar.gz\n",
            "Requirement already satisfied: numpy in /usr/local/lib/python3.6/dist-packages (from keras-radam) (1.17.5)\n",
            "Requirement already satisfied: Keras in /usr/local/lib/python3.6/dist-packages (from keras-radam) (2.2.5)\n",
            "Requirement already satisfied: keras-applications>=1.0.8 in /usr/local/lib/python3.6/dist-packages (from Keras->keras-radam) (1.0.8)\n",
            "Requirement already satisfied: six>=1.9.0 in /usr/local/lib/python3.6/dist-packages (from Keras->keras-radam) (1.12.0)\n",
            "Requirement already satisfied: h5py in /usr/local/lib/python3.6/dist-packages (from Keras->keras-radam) (2.8.0)\n",
            "Requirement already satisfied: scipy>=0.14 in /usr/local/lib/python3.6/dist-packages (from Keras->keras-radam) (1.4.1)\n",
            "Requirement already satisfied: keras-preprocessing>=1.1.0 in /usr/local/lib/python3.6/dist-packages (from Keras->keras-radam) (1.1.0)\n",
            "Requirement already satisfied: pyyaml in /usr/local/lib/python3.6/dist-packages (from Keras->keras-radam) (3.13)\n",
            "Building wheels for collected packages: keras-radam\n",
            "  Building wheel for keras-radam (setup.py) ... \u001b[?25l\u001b[?25hdone\n",
            "  Created wheel for keras-radam: filename=keras_radam-0.15.0-cp36-none-any.whl size=14685 sha256=3379ddce541eef8aa5e156b208372514245b44b6489d9eed980d9f5d22c7beb7\n",
            "  Stored in directory: /root/.cache/pip/wheels/79/a0/c0/670b0a118e8f078539fafec7bd02eba0af921f745660c7f83f\n",
            "Successfully built keras-radam\n",
            "Installing collected packages: keras-radam\n",
            "Successfully installed keras-radam-0.15.0\n"
          ],
          "name": "stdout"
        }
      ]
    },
    {
      "cell_type": "markdown",
      "metadata": {
        "colab_type": "text",
        "id": "cyIoeOBH04lW"
      },
      "source": [
        "keras-bert 라이브러리에서 버트 모형 활용에 필요한 모듈들을 임포트합니다"
      ]
    },
    {
      "cell_type": "code",
      "metadata": {
        "colab_type": "code",
        "id": "FZv-5ALnGdwI",
        "colab": {}
      },
      "source": [
        "from keras_bert import load_trained_model_from_checkpoint, load_vocabulary\n",
        "from keras_bert import Tokenizer\n",
        "from keras_bert import AdamWarmup, calc_train_steps\n",
        "\n",
        "from keras_radam import RAdam"
      ],
      "execution_count": 0,
      "outputs": []
    },
    {
      "cell_type": "markdown",
      "metadata": {
        "colab_type": "text",
        "id": "ajBL_OES1B5N"
      },
      "source": [
        "폴더를 복사하는 함수를 정의합니다. Bert 모델은 현재 GDrive 상에 있습니다.  \n",
        " **Colab 클라우드 컴퓨터 안에 Bert 모형을 직접 저장하면, GDRIVE를 경유하는 것보다 사전학습된 모델을 로드하는 시간이 빨라집니다.**"
      ]
    },
    {
      "cell_type": "code",
      "metadata": {
        "colab_type": "code",
        "id": "TTm75iciT6ik",
        "colab": {}
      },
      "source": [
        "def copytree(src, dst, symlinks=False, ignore=None):\n",
        "    for item in os.listdir(src):\n",
        "        s = os.path.join(src, item)\n",
        "        d = os.path.join(dst, item)\n",
        "        if os.path.isdir(s):\n",
        "            shutil.copytree(s, d, symlinks, ignore)\n",
        "        else:\n",
        "            shutil.copy2(s, d)"
      ],
      "execution_count": 0,
      "outputs": []
    },
    {
      "cell_type": "markdown",
      "metadata": {
        "colab_type": "text",
        "id": "GTxVnjQ91dJH"
      },
      "source": [
        "Colab 클라우드 서버에 bert라는 폴더를 생성합니다."
      ]
    },
    {
      "cell_type": "code",
      "metadata": {
        "colab_type": "code",
        "id": "gokMPDeWNGVQ",
        "outputId": "a1587537-9364-4e1c-9b4b-40a693a3b240",
        "colab": {
          "base_uri": "https://localhost:8080/",
          "height": 34
        }
      },
      "source": [
        "cd /content/mnt/My Drive/Colab Notebooks"
      ],
      "execution_count": 7,
      "outputs": [
        {
          "output_type": "stream",
          "text": [
            "/content/mnt/My Drive/Colab Notebooks\n"
          ],
          "name": "stdout"
        }
      ]
    },
    {
      "cell_type": "code",
      "metadata": {
        "colab_type": "code",
        "id": "HgzRbNVpNJdS",
        "colab": {}
      },
      "source": [
        "data = pd.read_csv(\"./devmatcing/glowpick_final.csv\")"
      ],
      "execution_count": 0,
      "outputs": []
    },
    {
      "cell_type": "code",
      "metadata": {
        "id": "S7kRYBX5mgRZ",
        "colab_type": "code",
        "outputId": "39b410aa-4e87-4869-97cc-fce279755efa",
        "colab": {
          "base_uri": "https://localhost:8080/",
          "height": 419
        }
      },
      "source": [
        "data"
      ],
      "execution_count": 9,
      "outputs": [
        {
          "output_type": "execute_result",
          "data": {
            "text/html": [
              "<div>\n",
              "<style scoped>\n",
              "    .dataframe tbody tr th:only-of-type {\n",
              "        vertical-align: middle;\n",
              "    }\n",
              "\n",
              "    .dataframe tbody tr th {\n",
              "        vertical-align: top;\n",
              "    }\n",
              "\n",
              "    .dataframe thead th {\n",
              "        text-align: right;\n",
              "    }\n",
              "</style>\n",
              "<table border=\"1\" class=\"dataframe\">\n",
              "  <thead>\n",
              "    <tr style=\"text-align: right;\">\n",
              "      <th></th>\n",
              "      <th>Unnamed: 0</th>\n",
              "      <th>product</th>\n",
              "      <th>brand</th>\n",
              "      <th>user</th>\n",
              "      <th>star</th>\n",
              "      <th>review</th>\n",
              "    </tr>\n",
              "  </thead>\n",
              "  <tbody>\n",
              "    <tr>\n",
              "      <th>0</th>\n",
              "      <td>0</td>\n",
              "      <td>녹차실감 샴푸액 지성용</td>\n",
              "      <td>아모스프로페셔널</td>\n",
              "      <td>타이니콩콩</td>\n",
              "      <td>별다섯개</td>\n",
              "      <td>일단 커서 좋고. 거품잘나서 좋고. 특유의 초록빛깔에 알갱이 박힌 느낌이 뭔가 내머...</td>\n",
              "    </tr>\n",
              "    <tr>\n",
              "      <th>1</th>\n",
              "      <td>1</td>\n",
              "      <td>녹차실감 샴푸액 지성용</td>\n",
              "      <td>아모스프로페셔널</td>\n",
              "      <td>팥죽</td>\n",
              "      <td>별다섯개</td>\n",
              "      <td>거품이 정말 부드럽게 나서 그런지 머리도 부드럽게 감긴다. 거품낼 때 거칠고 뻣뻣한...</td>\n",
              "    </tr>\n",
              "    <tr>\n",
              "      <th>2</th>\n",
              "      <td>2</td>\n",
              "      <td>녹차실감 샴푸액 지성용</td>\n",
              "      <td>아모스프로페셔널</td>\n",
              "      <td>먊먊</td>\n",
              "      <td>별세개</td>\n",
              "      <td>샴푸에도 건성 지성이 있구나를 알려준 제품입니다 두피타입에 따라 호불호가 확 갈리겠...</td>\n",
              "    </tr>\n",
              "    <tr>\n",
              "      <th>3</th>\n",
              "      <td>3</td>\n",
              "      <td>녹차실감 샴푸액 지성용</td>\n",
              "      <td>아모스프로페셔널</td>\n",
              "      <td>깽우니</td>\n",
              "      <td>별다섯개</td>\n",
              "      <td>우선 저는 #건성 입니다. (읭?) 네 저도 희안해요. 저의 문제는 ,,, 두피가 ...</td>\n",
              "    </tr>\n",
              "    <tr>\n",
              "      <th>4</th>\n",
              "      <td>4</td>\n",
              "      <td>녹차실감 샴푸액 지성용</td>\n",
              "      <td>아모스프로페셔널</td>\n",
              "      <td>늘양</td>\n",
              "      <td>별두개</td>\n",
              "      <td>기름기 하나는 확실히 잡아줌. 두피는 지성인데 2.5일 동안 머리 안 감아도 떡 안...</td>\n",
              "    </tr>\n",
              "    <tr>\n",
              "      <th>...</th>\n",
              "      <td>...</td>\n",
              "      <td>...</td>\n",
              "      <td>...</td>\n",
              "      <td>...</td>\n",
              "      <td>...</td>\n",
              "      <td>...</td>\n",
              "    </tr>\n",
              "    <tr>\n",
              "      <th>16491</th>\n",
              "      <td>16491</td>\n",
              "      <td>프리미엄TS샴푸</td>\n",
              "      <td>TS</td>\n",
              "      <td>후회없는청춘</td>\n",
              "      <td>별세개</td>\n",
              "      <td>탈모 방지 샴푸라 주변에서 많이 사용해서 사용해봤는데 피부가 약해서 그런지 두피가 ...</td>\n",
              "    </tr>\n",
              "    <tr>\n",
              "      <th>16492</th>\n",
              "      <td>16492</td>\n",
              "      <td>프리미엄TS샴푸</td>\n",
              "      <td>TS</td>\n",
              "      <td>허모찌</td>\n",
              "      <td>별네개</td>\n",
              "      <td>머리카락이 덜 빠지고 잔머리가 엄청 돋아납니다. 머리카락이 가늘고 잘 빠지는 편이라...</td>\n",
              "    </tr>\n",
              "    <tr>\n",
              "      <th>16493</th>\n",
              "      <td>16493</td>\n",
              "      <td>프리미엄TS샴푸</td>\n",
              "      <td>TS</td>\n",
              "      <td>베싸메</td>\n",
              "      <td>별두개</td>\n",
              "      <td>엄마의 요청으로 구매 적은 사용으로 풍성한거품 생성 거품이 넘 많이 생성돼서 자극적...</td>\n",
              "    </tr>\n",
              "    <tr>\n",
              "      <th>16494</th>\n",
              "      <td>16494</td>\n",
              "      <td>프리미엄TS샴푸</td>\n",
              "      <td>TS</td>\n",
              "      <td>빠샤이</td>\n",
              "      <td>별두개</td>\n",
              "      <td>아 어쩐지 아무 효과 없더라.. TS 종류 많은거 몰랐네요.. 다 떨어져서 엄마랑 ...</td>\n",
              "    </tr>\n",
              "    <tr>\n",
              "      <th>16495</th>\n",
              "      <td>16495</td>\n",
              "      <td>프리미엄TS샴푸</td>\n",
              "      <td>TS</td>\n",
              "      <td>뿌리지존</td>\n",
              "      <td>별두개</td>\n",
              "      <td>일단 향이 너무 별로이고ㅜㅠ 약냄새? 그냥 좋은건지 안좋은건지 딱히 모르겠어용</td>\n",
              "    </tr>\n",
              "  </tbody>\n",
              "</table>\n",
              "<p>16496 rows × 6 columns</p>\n",
              "</div>"
            ],
            "text/plain": [
              "       Unnamed: 0  ...                                             review\n",
              "0               0  ...  일단 커서 좋고. 거품잘나서 좋고. 특유의 초록빛깔에 알갱이 박힌 느낌이 뭔가 내머...\n",
              "1               1  ...  거품이 정말 부드럽게 나서 그런지 머리도 부드럽게 감긴다. 거품낼 때 거칠고 뻣뻣한...\n",
              "2               2  ...  샴푸에도 건성 지성이 있구나를 알려준 제품입니다 두피타입에 따라 호불호가 확 갈리겠...\n",
              "3               3  ...  우선 저는 #건성 입니다. (읭?) 네 저도 희안해요. 저의 문제는 ,,, 두피가 ...\n",
              "4               4  ...  기름기 하나는 확실히 잡아줌. 두피는 지성인데 2.5일 동안 머리 안 감아도 떡 안...\n",
              "...           ...  ...                                                ...\n",
              "16491       16491  ...  탈모 방지 샴푸라 주변에서 많이 사용해서 사용해봤는데 피부가 약해서 그런지 두피가 ...\n",
              "16492       16492  ...  머리카락이 덜 빠지고 잔머리가 엄청 돋아납니다. 머리카락이 가늘고 잘 빠지는 편이라...\n",
              "16493       16493  ...  엄마의 요청으로 구매 적은 사용으로 풍성한거품 생성 거품이 넘 많이 생성돼서 자극적...\n",
              "16494       16494  ...  아 어쩐지 아무 효과 없더라.. TS 종류 많은거 몰랐네요.. 다 떨어져서 엄마랑 ...\n",
              "16495       16495  ...        일단 향이 너무 별로이고ㅜㅠ 약냄새? 그냥 좋은건지 안좋은건지 딱히 모르겠어용\n",
              "\n",
              "[16496 rows x 6 columns]"
            ]
          },
          "metadata": {
            "tags": []
          },
          "execution_count": 9
        }
      ]
    },
    {
      "cell_type": "code",
      "metadata": {
        "id": "P0zWdn7kmiCu",
        "colab_type": "code",
        "outputId": "10df5d11-ad76-4d4c-dd28-446662f1970d",
        "colab": {
          "base_uri": "https://localhost:8080/",
          "height": 419
        }
      },
      "source": [
        "stars = list(data['star'])\n",
        "\n",
        "label = []\n",
        "\n",
        "for i in range(len(stars)):\n",
        "  if stars[i] == '별다섯개':\n",
        "    label.append(4)\n",
        "  elif stars[i] == '별네개':\n",
        "    label.append(3)\n",
        "  elif stars[i] == '별세개':\n",
        "    label.append(2)\n",
        "  elif stars[i] == '별두개':\n",
        "    label.append(1)\n",
        "  elif stars[i] == '별한개':\n",
        "    label.append(0)\n",
        "data['label'] = label\n",
        "data"
      ],
      "execution_count": 10,
      "outputs": [
        {
          "output_type": "execute_result",
          "data": {
            "text/html": [
              "<div>\n",
              "<style scoped>\n",
              "    .dataframe tbody tr th:only-of-type {\n",
              "        vertical-align: middle;\n",
              "    }\n",
              "\n",
              "    .dataframe tbody tr th {\n",
              "        vertical-align: top;\n",
              "    }\n",
              "\n",
              "    .dataframe thead th {\n",
              "        text-align: right;\n",
              "    }\n",
              "</style>\n",
              "<table border=\"1\" class=\"dataframe\">\n",
              "  <thead>\n",
              "    <tr style=\"text-align: right;\">\n",
              "      <th></th>\n",
              "      <th>Unnamed: 0</th>\n",
              "      <th>product</th>\n",
              "      <th>brand</th>\n",
              "      <th>user</th>\n",
              "      <th>star</th>\n",
              "      <th>review</th>\n",
              "      <th>label</th>\n",
              "    </tr>\n",
              "  </thead>\n",
              "  <tbody>\n",
              "    <tr>\n",
              "      <th>0</th>\n",
              "      <td>0</td>\n",
              "      <td>녹차실감 샴푸액 지성용</td>\n",
              "      <td>아모스프로페셔널</td>\n",
              "      <td>타이니콩콩</td>\n",
              "      <td>별다섯개</td>\n",
              "      <td>일단 커서 좋고. 거품잘나서 좋고. 특유의 초록빛깔에 알갱이 박힌 느낌이 뭔가 내머...</td>\n",
              "      <td>4</td>\n",
              "    </tr>\n",
              "    <tr>\n",
              "      <th>1</th>\n",
              "      <td>1</td>\n",
              "      <td>녹차실감 샴푸액 지성용</td>\n",
              "      <td>아모스프로페셔널</td>\n",
              "      <td>팥죽</td>\n",
              "      <td>별다섯개</td>\n",
              "      <td>거품이 정말 부드럽게 나서 그런지 머리도 부드럽게 감긴다. 거품낼 때 거칠고 뻣뻣한...</td>\n",
              "      <td>4</td>\n",
              "    </tr>\n",
              "    <tr>\n",
              "      <th>2</th>\n",
              "      <td>2</td>\n",
              "      <td>녹차실감 샴푸액 지성용</td>\n",
              "      <td>아모스프로페셔널</td>\n",
              "      <td>먊먊</td>\n",
              "      <td>별세개</td>\n",
              "      <td>샴푸에도 건성 지성이 있구나를 알려준 제품입니다 두피타입에 따라 호불호가 확 갈리겠...</td>\n",
              "      <td>2</td>\n",
              "    </tr>\n",
              "    <tr>\n",
              "      <th>3</th>\n",
              "      <td>3</td>\n",
              "      <td>녹차실감 샴푸액 지성용</td>\n",
              "      <td>아모스프로페셔널</td>\n",
              "      <td>깽우니</td>\n",
              "      <td>별다섯개</td>\n",
              "      <td>우선 저는 #건성 입니다. (읭?) 네 저도 희안해요. 저의 문제는 ,,, 두피가 ...</td>\n",
              "      <td>4</td>\n",
              "    </tr>\n",
              "    <tr>\n",
              "      <th>4</th>\n",
              "      <td>4</td>\n",
              "      <td>녹차실감 샴푸액 지성용</td>\n",
              "      <td>아모스프로페셔널</td>\n",
              "      <td>늘양</td>\n",
              "      <td>별두개</td>\n",
              "      <td>기름기 하나는 확실히 잡아줌. 두피는 지성인데 2.5일 동안 머리 안 감아도 떡 안...</td>\n",
              "      <td>1</td>\n",
              "    </tr>\n",
              "    <tr>\n",
              "      <th>...</th>\n",
              "      <td>...</td>\n",
              "      <td>...</td>\n",
              "      <td>...</td>\n",
              "      <td>...</td>\n",
              "      <td>...</td>\n",
              "      <td>...</td>\n",
              "      <td>...</td>\n",
              "    </tr>\n",
              "    <tr>\n",
              "      <th>16491</th>\n",
              "      <td>16491</td>\n",
              "      <td>프리미엄TS샴푸</td>\n",
              "      <td>TS</td>\n",
              "      <td>후회없는청춘</td>\n",
              "      <td>별세개</td>\n",
              "      <td>탈모 방지 샴푸라 주변에서 많이 사용해서 사용해봤는데 피부가 약해서 그런지 두피가 ...</td>\n",
              "      <td>2</td>\n",
              "    </tr>\n",
              "    <tr>\n",
              "      <th>16492</th>\n",
              "      <td>16492</td>\n",
              "      <td>프리미엄TS샴푸</td>\n",
              "      <td>TS</td>\n",
              "      <td>허모찌</td>\n",
              "      <td>별네개</td>\n",
              "      <td>머리카락이 덜 빠지고 잔머리가 엄청 돋아납니다. 머리카락이 가늘고 잘 빠지는 편이라...</td>\n",
              "      <td>3</td>\n",
              "    </tr>\n",
              "    <tr>\n",
              "      <th>16493</th>\n",
              "      <td>16493</td>\n",
              "      <td>프리미엄TS샴푸</td>\n",
              "      <td>TS</td>\n",
              "      <td>베싸메</td>\n",
              "      <td>별두개</td>\n",
              "      <td>엄마의 요청으로 구매 적은 사용으로 풍성한거품 생성 거품이 넘 많이 생성돼서 자극적...</td>\n",
              "      <td>1</td>\n",
              "    </tr>\n",
              "    <tr>\n",
              "      <th>16494</th>\n",
              "      <td>16494</td>\n",
              "      <td>프리미엄TS샴푸</td>\n",
              "      <td>TS</td>\n",
              "      <td>빠샤이</td>\n",
              "      <td>별두개</td>\n",
              "      <td>아 어쩐지 아무 효과 없더라.. TS 종류 많은거 몰랐네요.. 다 떨어져서 엄마랑 ...</td>\n",
              "      <td>1</td>\n",
              "    </tr>\n",
              "    <tr>\n",
              "      <th>16495</th>\n",
              "      <td>16495</td>\n",
              "      <td>프리미엄TS샴푸</td>\n",
              "      <td>TS</td>\n",
              "      <td>뿌리지존</td>\n",
              "      <td>별두개</td>\n",
              "      <td>일단 향이 너무 별로이고ㅜㅠ 약냄새? 그냥 좋은건지 안좋은건지 딱히 모르겠어용</td>\n",
              "      <td>1</td>\n",
              "    </tr>\n",
              "  </tbody>\n",
              "</table>\n",
              "<p>16496 rows × 7 columns</p>\n",
              "</div>"
            ],
            "text/plain": [
              "       Unnamed: 0  ... label\n",
              "0               0  ...     4\n",
              "1               1  ...     4\n",
              "2               2  ...     2\n",
              "3               3  ...     4\n",
              "4               4  ...     1\n",
              "...           ...  ...   ...\n",
              "16491       16491  ...     2\n",
              "16492       16492  ...     3\n",
              "16493       16493  ...     1\n",
              "16494       16494  ...     1\n",
              "16495       16495  ...     1\n",
              "\n",
              "[16496 rows x 7 columns]"
            ]
          },
          "metadata": {
            "tags": []
          },
          "execution_count": 10
        }
      ]
    },
    {
      "cell_type": "code",
      "metadata": {
        "id": "QxN64GkXa5zt",
        "colab_type": "code",
        "colab": {
          "base_uri": "https://localhost:8080/",
          "height": 34
        },
        "outputId": "ca3fe2c6-11ba-4dc5-cf0b-bcc296024338"
      },
      "source": [
        "data['review'].iloc[2]"
      ],
      "execution_count": 39,
      "outputs": [
        {
          "output_type": "execute_result",
          "data": {
            "text/plain": [
              "'샴푸에도 건성 지성이 있구나를 알려준 제품입니다 두피타입에 따라 호불호가 확 갈리겠지만 저는 가격에 갈려서 안쓰고있습니다'"
            ]
          },
          "metadata": {
            "tags": []
          },
          "execution_count": 39
        }
      ]
    },
    {
      "cell_type": "code",
      "metadata": {
        "id": "lOca_Yks8MXs",
        "colab_type": "code",
        "outputId": "caadd9b1-11c4-41b0-94c8-375496e8c81d",
        "colab": {
          "base_uri": "https://localhost:8080/",
          "height": 572
        }
      },
      "source": [
        "import re\n",
        "\n",
        "review_data = list(data['review'])\n",
        "\n",
        "clear_review = []\n",
        "\n",
        "for review in review_data:\n",
        "  temp = re.sub('[-=+,#/\\?:^$.@*\\\"※~&%ㆍ!』\\\\‘|\\(\\)\\[\\]\\<\\>`\\'…》]', '', review)\n",
        "  clear_review.append(temp)\n",
        "data['clear_review'] = clear_review\n",
        "data"
      ],
      "execution_count": 11,
      "outputs": [
        {
          "output_type": "execute_result",
          "data": {
            "text/html": [
              "<div>\n",
              "<style scoped>\n",
              "    .dataframe tbody tr th:only-of-type {\n",
              "        vertical-align: middle;\n",
              "    }\n",
              "\n",
              "    .dataframe tbody tr th {\n",
              "        vertical-align: top;\n",
              "    }\n",
              "\n",
              "    .dataframe thead th {\n",
              "        text-align: right;\n",
              "    }\n",
              "</style>\n",
              "<table border=\"1\" class=\"dataframe\">\n",
              "  <thead>\n",
              "    <tr style=\"text-align: right;\">\n",
              "      <th></th>\n",
              "      <th>Unnamed: 0</th>\n",
              "      <th>product</th>\n",
              "      <th>brand</th>\n",
              "      <th>user</th>\n",
              "      <th>star</th>\n",
              "      <th>review</th>\n",
              "      <th>label</th>\n",
              "      <th>clear_review</th>\n",
              "    </tr>\n",
              "  </thead>\n",
              "  <tbody>\n",
              "    <tr>\n",
              "      <th>0</th>\n",
              "      <td>0</td>\n",
              "      <td>녹차실감 샴푸액 지성용</td>\n",
              "      <td>아모스프로페셔널</td>\n",
              "      <td>타이니콩콩</td>\n",
              "      <td>별다섯개</td>\n",
              "      <td>일단 커서 좋고. 거품잘나서 좋고. 특유의 초록빛깔에 알갱이 박힌 느낌이 뭔가 내머...</td>\n",
              "      <td>4</td>\n",
              "      <td>일단 커서 좋고 거품잘나서 좋고 특유의 초록빛깔에 알갱이 박힌 느낌이 뭔가 내머리를...</td>\n",
              "    </tr>\n",
              "    <tr>\n",
              "      <th>1</th>\n",
              "      <td>1</td>\n",
              "      <td>녹차실감 샴푸액 지성용</td>\n",
              "      <td>아모스프로페셔널</td>\n",
              "      <td>팥죽</td>\n",
              "      <td>별다섯개</td>\n",
              "      <td>거품이 정말 부드럽게 나서 그런지 머리도 부드럽게 감긴다. 거품낼 때 거칠고 뻣뻣한...</td>\n",
              "      <td>4</td>\n",
              "      <td>거품이 정말 부드럽게 나서 그런지 머리도 부드럽게 감긴다 거품낼 때 거칠고 뻣뻣한 ...</td>\n",
              "    </tr>\n",
              "    <tr>\n",
              "      <th>2</th>\n",
              "      <td>2</td>\n",
              "      <td>녹차실감 샴푸액 지성용</td>\n",
              "      <td>아모스프로페셔널</td>\n",
              "      <td>먊먊</td>\n",
              "      <td>별세개</td>\n",
              "      <td>샴푸에도 건성 지성이 있구나를 알려준 제품입니다 두피타입에 따라 호불호가 확 갈리겠...</td>\n",
              "      <td>2</td>\n",
              "      <td>샴푸에도 건성 지성이 있구나를 알려준 제품입니다 두피타입에 따라 호불호가 확 갈리겠...</td>\n",
              "    </tr>\n",
              "    <tr>\n",
              "      <th>3</th>\n",
              "      <td>3</td>\n",
              "      <td>녹차실감 샴푸액 지성용</td>\n",
              "      <td>아모스프로페셔널</td>\n",
              "      <td>깽우니</td>\n",
              "      <td>별다섯개</td>\n",
              "      <td>우선 저는 #건성 입니다. (읭?) 네 저도 희안해요. 저의 문제는 ,,, 두피가 ...</td>\n",
              "      <td>4</td>\n",
              "      <td>우선 저는 건성 입니다 읭 네 저도 희안해요 저의 문제는  두피가 너무 건조해서 하...</td>\n",
              "    </tr>\n",
              "    <tr>\n",
              "      <th>4</th>\n",
              "      <td>4</td>\n",
              "      <td>녹차실감 샴푸액 지성용</td>\n",
              "      <td>아모스프로페셔널</td>\n",
              "      <td>늘양</td>\n",
              "      <td>별두개</td>\n",
              "      <td>기름기 하나는 확실히 잡아줌. 두피는 지성인데 2.5일 동안 머리 안 감아도 떡 안...</td>\n",
              "      <td>1</td>\n",
              "      <td>기름기 하나는 확실히 잡아줌 두피는 지성인데 25일 동안 머리 안 감아도 떡 안 짐...</td>\n",
              "    </tr>\n",
              "    <tr>\n",
              "      <th>...</th>\n",
              "      <td>...</td>\n",
              "      <td>...</td>\n",
              "      <td>...</td>\n",
              "      <td>...</td>\n",
              "      <td>...</td>\n",
              "      <td>...</td>\n",
              "      <td>...</td>\n",
              "      <td>...</td>\n",
              "    </tr>\n",
              "    <tr>\n",
              "      <th>16491</th>\n",
              "      <td>16491</td>\n",
              "      <td>프리미엄TS샴푸</td>\n",
              "      <td>TS</td>\n",
              "      <td>후회없는청춘</td>\n",
              "      <td>별세개</td>\n",
              "      <td>탈모 방지 샴푸라 주변에서 많이 사용해서 사용해봤는데 피부가 약해서 그런지 두피가 ...</td>\n",
              "      <td>2</td>\n",
              "      <td>탈모 방지 샴푸라 주변에서 많이 사용해서 사용해봤는데 피부가 약해서 그런지 두피가 ...</td>\n",
              "    </tr>\n",
              "    <tr>\n",
              "      <th>16492</th>\n",
              "      <td>16492</td>\n",
              "      <td>프리미엄TS샴푸</td>\n",
              "      <td>TS</td>\n",
              "      <td>허모찌</td>\n",
              "      <td>별네개</td>\n",
              "      <td>머리카락이 덜 빠지고 잔머리가 엄청 돋아납니다. 머리카락이 가늘고 잘 빠지는 편이라...</td>\n",
              "      <td>3</td>\n",
              "      <td>머리카락이 덜 빠지고 잔머리가 엄청 돋아납니다 머리카락이 가늘고 잘 빠지는 편이라 ...</td>\n",
              "    </tr>\n",
              "    <tr>\n",
              "      <th>16493</th>\n",
              "      <td>16493</td>\n",
              "      <td>프리미엄TS샴푸</td>\n",
              "      <td>TS</td>\n",
              "      <td>베싸메</td>\n",
              "      <td>별두개</td>\n",
              "      <td>엄마의 요청으로 구매 적은 사용으로 풍성한거품 생성 거품이 넘 많이 생성돼서 자극적...</td>\n",
              "      <td>1</td>\n",
              "      <td>엄마의 요청으로 구매 적은 사용으로 풍성한거품 생성 거품이 넘 많이 생성돼서 자극적...</td>\n",
              "    </tr>\n",
              "    <tr>\n",
              "      <th>16494</th>\n",
              "      <td>16494</td>\n",
              "      <td>프리미엄TS샴푸</td>\n",
              "      <td>TS</td>\n",
              "      <td>빠샤이</td>\n",
              "      <td>별두개</td>\n",
              "      <td>아 어쩐지 아무 효과 없더라.. TS 종류 많은거 몰랐네요.. 다 떨어져서 엄마랑 ...</td>\n",
              "      <td>1</td>\n",
              "      <td>아 어쩐지 아무 효과 없더라 TS 종류 많은거 몰랐네요 다 떨어져서 엄마랑 홈쇼핑에...</td>\n",
              "    </tr>\n",
              "    <tr>\n",
              "      <th>16495</th>\n",
              "      <td>16495</td>\n",
              "      <td>프리미엄TS샴푸</td>\n",
              "      <td>TS</td>\n",
              "      <td>뿌리지존</td>\n",
              "      <td>별두개</td>\n",
              "      <td>일단 향이 너무 별로이고ㅜㅠ 약냄새? 그냥 좋은건지 안좋은건지 딱히 모르겠어용</td>\n",
              "      <td>1</td>\n",
              "      <td>일단 향이 너무 별로이고ㅜㅠ 약냄새 그냥 좋은건지 안좋은건지 딱히 모르겠어용</td>\n",
              "    </tr>\n",
              "  </tbody>\n",
              "</table>\n",
              "<p>16496 rows × 8 columns</p>\n",
              "</div>"
            ],
            "text/plain": [
              "       Unnamed: 0  ...                                       clear_review\n",
              "0               0  ...  일단 커서 좋고 거품잘나서 좋고 특유의 초록빛깔에 알갱이 박힌 느낌이 뭔가 내머리를...\n",
              "1               1  ...  거품이 정말 부드럽게 나서 그런지 머리도 부드럽게 감긴다 거품낼 때 거칠고 뻣뻣한 ...\n",
              "2               2  ...  샴푸에도 건성 지성이 있구나를 알려준 제품입니다 두피타입에 따라 호불호가 확 갈리겠...\n",
              "3               3  ...  우선 저는 건성 입니다 읭 네 저도 희안해요 저의 문제는  두피가 너무 건조해서 하...\n",
              "4               4  ...  기름기 하나는 확실히 잡아줌 두피는 지성인데 25일 동안 머리 안 감아도 떡 안 짐...\n",
              "...           ...  ...                                                ...\n",
              "16491       16491  ...  탈모 방지 샴푸라 주변에서 많이 사용해서 사용해봤는데 피부가 약해서 그런지 두피가 ...\n",
              "16492       16492  ...  머리카락이 덜 빠지고 잔머리가 엄청 돋아납니다 머리카락이 가늘고 잘 빠지는 편이라 ...\n",
              "16493       16493  ...  엄마의 요청으로 구매 적은 사용으로 풍성한거품 생성 거품이 넘 많이 생성돼서 자극적...\n",
              "16494       16494  ...  아 어쩐지 아무 효과 없더라 TS 종류 많은거 몰랐네요 다 떨어져서 엄마랑 홈쇼핑에...\n",
              "16495       16495  ...         일단 향이 너무 별로이고ㅜㅠ 약냄새 그냥 좋은건지 안좋은건지 딱히 모르겠어용\n",
              "\n",
              "[16496 rows x 8 columns]"
            ]
          },
          "metadata": {
            "tags": []
          },
          "execution_count": 11
        }
      ]
    },
    {
      "cell_type": "code",
      "metadata": {
        "colab_type": "code",
        "id": "9APbqKejOM0h",
        "colab": {}
      },
      "source": [
        "train = data.iloc[0:15000]"
      ],
      "execution_count": 0,
      "outputs": []
    },
    {
      "cell_type": "code",
      "metadata": {
        "colab_type": "code",
        "id": "xgBRrdpgID0V",
        "outputId": "a2d69e93-a650-4049-ad5a-e1c37a75c371",
        "colab": {
          "base_uri": "https://localhost:8080/",
          "height": 589
        }
      },
      "source": [
        "train"
      ],
      "execution_count": 13,
      "outputs": [
        {
          "output_type": "execute_result",
          "data": {
            "text/html": [
              "<div>\n",
              "<style scoped>\n",
              "    .dataframe tbody tr th:only-of-type {\n",
              "        vertical-align: middle;\n",
              "    }\n",
              "\n",
              "    .dataframe tbody tr th {\n",
              "        vertical-align: top;\n",
              "    }\n",
              "\n",
              "    .dataframe thead th {\n",
              "        text-align: right;\n",
              "    }\n",
              "</style>\n",
              "<table border=\"1\" class=\"dataframe\">\n",
              "  <thead>\n",
              "    <tr style=\"text-align: right;\">\n",
              "      <th></th>\n",
              "      <th>Unnamed: 0</th>\n",
              "      <th>product</th>\n",
              "      <th>brand</th>\n",
              "      <th>user</th>\n",
              "      <th>star</th>\n",
              "      <th>review</th>\n",
              "      <th>label</th>\n",
              "      <th>clear_review</th>\n",
              "    </tr>\n",
              "  </thead>\n",
              "  <tbody>\n",
              "    <tr>\n",
              "      <th>0</th>\n",
              "      <td>0</td>\n",
              "      <td>녹차실감 샴푸액 지성용</td>\n",
              "      <td>아모스프로페셔널</td>\n",
              "      <td>타이니콩콩</td>\n",
              "      <td>별다섯개</td>\n",
              "      <td>일단 커서 좋고. 거품잘나서 좋고. 특유의 초록빛깔에 알갱이 박힌 느낌이 뭔가 내머...</td>\n",
              "      <td>4</td>\n",
              "      <td>일단 커서 좋고 거품잘나서 좋고 특유의 초록빛깔에 알갱이 박힌 느낌이 뭔가 내머리를...</td>\n",
              "    </tr>\n",
              "    <tr>\n",
              "      <th>1</th>\n",
              "      <td>1</td>\n",
              "      <td>녹차실감 샴푸액 지성용</td>\n",
              "      <td>아모스프로페셔널</td>\n",
              "      <td>팥죽</td>\n",
              "      <td>별다섯개</td>\n",
              "      <td>거품이 정말 부드럽게 나서 그런지 머리도 부드럽게 감긴다. 거품낼 때 거칠고 뻣뻣한...</td>\n",
              "      <td>4</td>\n",
              "      <td>거품이 정말 부드럽게 나서 그런지 머리도 부드럽게 감긴다 거품낼 때 거칠고 뻣뻣한 ...</td>\n",
              "    </tr>\n",
              "    <tr>\n",
              "      <th>2</th>\n",
              "      <td>2</td>\n",
              "      <td>녹차실감 샴푸액 지성용</td>\n",
              "      <td>아모스프로페셔널</td>\n",
              "      <td>먊먊</td>\n",
              "      <td>별세개</td>\n",
              "      <td>샴푸에도 건성 지성이 있구나를 알려준 제품입니다 두피타입에 따라 호불호가 확 갈리겠...</td>\n",
              "      <td>2</td>\n",
              "      <td>샴푸에도 건성 지성이 있구나를 알려준 제품입니다 두피타입에 따라 호불호가 확 갈리겠...</td>\n",
              "    </tr>\n",
              "    <tr>\n",
              "      <th>3</th>\n",
              "      <td>3</td>\n",
              "      <td>녹차실감 샴푸액 지성용</td>\n",
              "      <td>아모스프로페셔널</td>\n",
              "      <td>깽우니</td>\n",
              "      <td>별다섯개</td>\n",
              "      <td>우선 저는 #건성 입니다. (읭?) 네 저도 희안해요. 저의 문제는 ,,, 두피가 ...</td>\n",
              "      <td>4</td>\n",
              "      <td>우선 저는 건성 입니다 읭 네 저도 희안해요 저의 문제는  두피가 너무 건조해서 하...</td>\n",
              "    </tr>\n",
              "    <tr>\n",
              "      <th>4</th>\n",
              "      <td>4</td>\n",
              "      <td>녹차실감 샴푸액 지성용</td>\n",
              "      <td>아모스프로페셔널</td>\n",
              "      <td>늘양</td>\n",
              "      <td>별두개</td>\n",
              "      <td>기름기 하나는 확실히 잡아줌. 두피는 지성인데 2.5일 동안 머리 안 감아도 떡 안...</td>\n",
              "      <td>1</td>\n",
              "      <td>기름기 하나는 확실히 잡아줌 두피는 지성인데 25일 동안 머리 안 감아도 떡 안 짐...</td>\n",
              "    </tr>\n",
              "    <tr>\n",
              "      <th>...</th>\n",
              "      <td>...</td>\n",
              "      <td>...</td>\n",
              "      <td>...</td>\n",
              "      <td>...</td>\n",
              "      <td>...</td>\n",
              "      <td>...</td>\n",
              "      <td>...</td>\n",
              "      <td>...</td>\n",
              "    </tr>\n",
              "    <tr>\n",
              "      <th>14995</th>\n",
              "      <td>14995</td>\n",
              "      <td>애플 프레쉬 샴푸</td>\n",
              "      <td>헤드앤숄더</td>\n",
              "      <td>alicek2</td>\n",
              "      <td>별세개</td>\n",
              "      <td>외국에서 살 때 거의 이 샴푸만 썼어요 무난하게 썼는데, 특별히 좋다는 건 못 느꼈네요</td>\n",
              "      <td>2</td>\n",
              "      <td>외국에서 살 때 거의 이 샴푸만 썼어요 무난하게 썼는데 특별히 좋다는 건 못 느꼈네요</td>\n",
              "    </tr>\n",
              "    <tr>\n",
              "      <th>14996</th>\n",
              "      <td>14996</td>\n",
              "      <td>애플 프레쉬 샴푸</td>\n",
              "      <td>헤드앤숄더</td>\n",
              "      <td>우단</td>\n",
              "      <td>별다섯개</td>\n",
              "      <td>피지가 진짜많이나와서 이샴푸를 검색하고 사봤어요 어느순간부터 샴푸자리에 당당히 서있...</td>\n",
              "      <td>4</td>\n",
              "      <td>피지가 진짜많이나와서 이샴푸를 검색하고 사봤어요 어느순간부터 샴푸자리에 당당히 서있...</td>\n",
              "    </tr>\n",
              "    <tr>\n",
              "      <th>14997</th>\n",
              "      <td>14997</td>\n",
              "      <td>애플 프레쉬 샴푸</td>\n",
              "      <td>헤드앤숄더</td>\n",
              "      <td>밍밍쓰</td>\n",
              "      <td>별다섯개</td>\n",
              "      <td>항상 이 샴푸로 머리감고나면 친구들이 다 물어봄... 샴푸 뭐쓰냐고.. 그럼 머리어...</td>\n",
              "      <td>4</td>\n",
              "      <td>항상 이 샴푸로 머리감고나면 친구들이 다 물어봄 샴푸 뭐쓰냐고 그럼 머리어깨무릎발샴...</td>\n",
              "    </tr>\n",
              "    <tr>\n",
              "      <th>14998</th>\n",
              "      <td>14998</td>\n",
              "      <td>애플 프레쉬 샴푸</td>\n",
              "      <td>헤드앤숄더</td>\n",
              "      <td>이쁜앙마</td>\n",
              "      <td>별다섯개</td>\n",
              "      <td>지성 두피라 헤드앤숄더 제품을 쓰게 되었어요^^ 다른 제품의 샴푸를 쓰면 오후만 되...</td>\n",
              "      <td>4</td>\n",
              "      <td>지성 두피라 헤드앤숄더 제품을 쓰게 되었어요 다른 제품의 샴푸를 쓰면 오후만 되어도...</td>\n",
              "    </tr>\n",
              "    <tr>\n",
              "      <th>14999</th>\n",
              "      <td>14999</td>\n",
              "      <td>애플 프레쉬 샴푸</td>\n",
              "      <td>헤드앤숄더</td>\n",
              "      <td>kimdia</td>\n",
              "      <td>별다섯개</td>\n",
              "      <td>영원한 클래식 단독으로 쓰는 것 보다 다른 종류 샴푸랑 번갈아가며 쓰면 더 좋아요 ...</td>\n",
              "      <td>4</td>\n",
              "      <td>영원한 클래식 단독으로 쓰는 것 보다 다른 종류 샴푸랑 번갈아가며 쓰면 더 좋아요 ...</td>\n",
              "    </tr>\n",
              "  </tbody>\n",
              "</table>\n",
              "<p>15000 rows × 8 columns</p>\n",
              "</div>"
            ],
            "text/plain": [
              "       Unnamed: 0  ...                                       clear_review\n",
              "0               0  ...  일단 커서 좋고 거품잘나서 좋고 특유의 초록빛깔에 알갱이 박힌 느낌이 뭔가 내머리를...\n",
              "1               1  ...  거품이 정말 부드럽게 나서 그런지 머리도 부드럽게 감긴다 거품낼 때 거칠고 뻣뻣한 ...\n",
              "2               2  ...  샴푸에도 건성 지성이 있구나를 알려준 제품입니다 두피타입에 따라 호불호가 확 갈리겠...\n",
              "3               3  ...  우선 저는 건성 입니다 읭 네 저도 희안해요 저의 문제는  두피가 너무 건조해서 하...\n",
              "4               4  ...  기름기 하나는 확실히 잡아줌 두피는 지성인데 25일 동안 머리 안 감아도 떡 안 짐...\n",
              "...           ...  ...                                                ...\n",
              "14995       14995  ...    외국에서 살 때 거의 이 샴푸만 썼어요 무난하게 썼는데 특별히 좋다는 건 못 느꼈네요\n",
              "14996       14996  ...  피지가 진짜많이나와서 이샴푸를 검색하고 사봤어요 어느순간부터 샴푸자리에 당당히 서있...\n",
              "14997       14997  ...  항상 이 샴푸로 머리감고나면 친구들이 다 물어봄 샴푸 뭐쓰냐고 그럼 머리어깨무릎발샴...\n",
              "14998       14998  ...  지성 두피라 헤드앤숄더 제품을 쓰게 되었어요 다른 제품의 샴푸를 쓰면 오후만 되어도...\n",
              "14999       14999  ...  영원한 클래식 단독으로 쓰는 것 보다 다른 종류 샴푸랑 번갈아가며 쓰면 더 좋아요 ...\n",
              "\n",
              "[15000 rows x 8 columns]"
            ]
          },
          "metadata": {
            "tags": []
          },
          "execution_count": 13
        }
      ]
    },
    {
      "cell_type": "code",
      "metadata": {
        "colab_type": "code",
        "id": "wF674xf1OWHi",
        "outputId": "0e57324b-fc9b-41f8-cf52-7275e883a87e",
        "colab": {
          "base_uri": "https://localhost:8080/",
          "height": 419
        }
      },
      "source": [
        "test = data.iloc[15000:-1]\n",
        "test"
      ],
      "execution_count": 14,
      "outputs": [
        {
          "output_type": "execute_result",
          "data": {
            "text/html": [
              "<div>\n",
              "<style scoped>\n",
              "    .dataframe tbody tr th:only-of-type {\n",
              "        vertical-align: middle;\n",
              "    }\n",
              "\n",
              "    .dataframe tbody tr th {\n",
              "        vertical-align: top;\n",
              "    }\n",
              "\n",
              "    .dataframe thead th {\n",
              "        text-align: right;\n",
              "    }\n",
              "</style>\n",
              "<table border=\"1\" class=\"dataframe\">\n",
              "  <thead>\n",
              "    <tr style=\"text-align: right;\">\n",
              "      <th></th>\n",
              "      <th>Unnamed: 0</th>\n",
              "      <th>product</th>\n",
              "      <th>brand</th>\n",
              "      <th>user</th>\n",
              "      <th>star</th>\n",
              "      <th>review</th>\n",
              "      <th>label</th>\n",
              "      <th>clear_review</th>\n",
              "    </tr>\n",
              "  </thead>\n",
              "  <tbody>\n",
              "    <tr>\n",
              "      <th>15000</th>\n",
              "      <td>15000</td>\n",
              "      <td>애플 프레쉬 샴푸</td>\n",
              "      <td>헤드앤숄더</td>\n",
              "      <td>Area</td>\n",
              "      <td>별다섯개</td>\n",
              "      <td>어..? 이거 왜 유분기가 많아 떡진다는 평과 너무 건조해서 머릿결이 뻣뻣해진다는 ...</td>\n",
              "      <td>4</td>\n",
              "      <td>어 이거 왜 유분기가 많아 떡진다는 평과 너무 건조해서 머릿결이 뻣뻣해진다는 평이 ...</td>\n",
              "    </tr>\n",
              "    <tr>\n",
              "      <th>15001</th>\n",
              "      <td>15001</td>\n",
              "      <td>애플 프레쉬 샴푸</td>\n",
              "      <td>헤드앤숄더</td>\n",
              "      <td>연우연우연우</td>\n",
              "      <td>별다섯개</td>\n",
              "      <td>원래 이거 말고 딴 거 쓰는데 비듬이 너무 심해지고 머리 감아도 계속 하얀게 떨어지...</td>\n",
              "      <td>4</td>\n",
              "      <td>원래 이거 말고 딴 거 쓰는데 비듬이 너무 심해지고 머리 감아도 계속 하얀게 떨어지...</td>\n",
              "    </tr>\n",
              "    <tr>\n",
              "      <th>15002</th>\n",
              "      <td>15002</td>\n",
              "      <td>애플 프레쉬 샴푸</td>\n",
              "      <td>헤드앤숄더</td>\n",
              "      <td>귱자야</td>\n",
              "      <td>별두개</td>\n",
              "      <td>이거말고 민트향이더 좋고 머리가 감아도감아도 떡져서 안쓰게되는 샴푸</td>\n",
              "      <td>1</td>\n",
              "      <td>이거말고 민트향이더 좋고 머리가 감아도감아도 떡져서 안쓰게되는 샴푸</td>\n",
              "    </tr>\n",
              "    <tr>\n",
              "      <th>15003</th>\n",
              "      <td>15003</td>\n",
              "      <td>애플 프레쉬 샴푸</td>\n",
              "      <td>헤드앤숄더</td>\n",
              "      <td>Sjih</td>\n",
              "      <td>별세개</td>\n",
              "      <td>무난한데 처음에는 괜찮은데 점점 갈수록 머리가 건조해지는 느ㅡ낌</td>\n",
              "      <td>2</td>\n",
              "      <td>무난한데 처음에는 괜찮은데 점점 갈수록 머리가 건조해지는 느ㅡ낌</td>\n",
              "    </tr>\n",
              "    <tr>\n",
              "      <th>15004</th>\n",
              "      <td>15004</td>\n",
              "      <td>애플 프레쉬 샴푸</td>\n",
              "      <td>헤드앤숄더</td>\n",
              "      <td>앙마또치</td>\n",
              "      <td>별다섯개</td>\n",
              "      <td>냄새가 향긋하니 좋습니다. 제가 지성두피라 이 샴푸 써야지 잘 씻기는 기분이 들어요...</td>\n",
              "      <td>4</td>\n",
              "      <td>냄새가 향긋하니 좋습니다 제가 지성두피라 이 샴푸 써야지 잘 씻기는 기분이 들어요 ...</td>\n",
              "    </tr>\n",
              "    <tr>\n",
              "      <th>...</th>\n",
              "      <td>...</td>\n",
              "      <td>...</td>\n",
              "      <td>...</td>\n",
              "      <td>...</td>\n",
              "      <td>...</td>\n",
              "      <td>...</td>\n",
              "      <td>...</td>\n",
              "      <td>...</td>\n",
              "    </tr>\n",
              "    <tr>\n",
              "      <th>16490</th>\n",
              "      <td>16490</td>\n",
              "      <td>프리미엄TS샴푸</td>\n",
              "      <td>TS</td>\n",
              "      <td>아따마망</td>\n",
              "      <td>별한개</td>\n",
              "      <td>탈모에 좋은 지 모르겠고, 사용후 머리가 너무 뻣뻣한 느낌이 드는데 왜 인지 두피는...</td>\n",
              "      <td>0</td>\n",
              "      <td>탈모에 좋은 지 모르겠고 사용후 머리가 너무 뻣뻣한 느낌이 드는데 왜 인지 두피는 ...</td>\n",
              "    </tr>\n",
              "    <tr>\n",
              "      <th>16491</th>\n",
              "      <td>16491</td>\n",
              "      <td>프리미엄TS샴푸</td>\n",
              "      <td>TS</td>\n",
              "      <td>후회없는청춘</td>\n",
              "      <td>별세개</td>\n",
              "      <td>탈모 방지 샴푸라 주변에서 많이 사용해서 사용해봤는데 피부가 약해서 그런지 두피가 ...</td>\n",
              "      <td>2</td>\n",
              "      <td>탈모 방지 샴푸라 주변에서 많이 사용해서 사용해봤는데 피부가 약해서 그런지 두피가 ...</td>\n",
              "    </tr>\n",
              "    <tr>\n",
              "      <th>16492</th>\n",
              "      <td>16492</td>\n",
              "      <td>프리미엄TS샴푸</td>\n",
              "      <td>TS</td>\n",
              "      <td>허모찌</td>\n",
              "      <td>별네개</td>\n",
              "      <td>머리카락이 덜 빠지고 잔머리가 엄청 돋아납니다. 머리카락이 가늘고 잘 빠지는 편이라...</td>\n",
              "      <td>3</td>\n",
              "      <td>머리카락이 덜 빠지고 잔머리가 엄청 돋아납니다 머리카락이 가늘고 잘 빠지는 편이라 ...</td>\n",
              "    </tr>\n",
              "    <tr>\n",
              "      <th>16493</th>\n",
              "      <td>16493</td>\n",
              "      <td>프리미엄TS샴푸</td>\n",
              "      <td>TS</td>\n",
              "      <td>베싸메</td>\n",
              "      <td>별두개</td>\n",
              "      <td>엄마의 요청으로 구매 적은 사용으로 풍성한거품 생성 거품이 넘 많이 생성돼서 자극적...</td>\n",
              "      <td>1</td>\n",
              "      <td>엄마의 요청으로 구매 적은 사용으로 풍성한거품 생성 거품이 넘 많이 생성돼서 자극적...</td>\n",
              "    </tr>\n",
              "    <tr>\n",
              "      <th>16494</th>\n",
              "      <td>16494</td>\n",
              "      <td>프리미엄TS샴푸</td>\n",
              "      <td>TS</td>\n",
              "      <td>빠샤이</td>\n",
              "      <td>별두개</td>\n",
              "      <td>아 어쩐지 아무 효과 없더라.. TS 종류 많은거 몰랐네요.. 다 떨어져서 엄마랑 ...</td>\n",
              "      <td>1</td>\n",
              "      <td>아 어쩐지 아무 효과 없더라 TS 종류 많은거 몰랐네요 다 떨어져서 엄마랑 홈쇼핑에...</td>\n",
              "    </tr>\n",
              "  </tbody>\n",
              "</table>\n",
              "<p>1495 rows × 8 columns</p>\n",
              "</div>"
            ],
            "text/plain": [
              "       Unnamed: 0  ...                                       clear_review\n",
              "15000       15000  ...  어 이거 왜 유분기가 많아 떡진다는 평과 너무 건조해서 머릿결이 뻣뻣해진다는 평이 ...\n",
              "15001       15001  ...  원래 이거 말고 딴 거 쓰는데 비듬이 너무 심해지고 머리 감아도 계속 하얀게 떨어지...\n",
              "15002       15002  ...              이거말고 민트향이더 좋고 머리가 감아도감아도 떡져서 안쓰게되는 샴푸\n",
              "15003       15003  ...                무난한데 처음에는 괜찮은데 점점 갈수록 머리가 건조해지는 느ㅡ낌\n",
              "15004       15004  ...  냄새가 향긋하니 좋습니다 제가 지성두피라 이 샴푸 써야지 잘 씻기는 기분이 들어요 ...\n",
              "...           ...  ...                                                ...\n",
              "16490       16490  ...  탈모에 좋은 지 모르겠고 사용후 머리가 너무 뻣뻣한 느낌이 드는데 왜 인지 두피는 ...\n",
              "16491       16491  ...  탈모 방지 샴푸라 주변에서 많이 사용해서 사용해봤는데 피부가 약해서 그런지 두피가 ...\n",
              "16492       16492  ...  머리카락이 덜 빠지고 잔머리가 엄청 돋아납니다 머리카락이 가늘고 잘 빠지는 편이라 ...\n",
              "16493       16493  ...  엄마의 요청으로 구매 적은 사용으로 풍성한거품 생성 거품이 넘 많이 생성돼서 자극적...\n",
              "16494       16494  ...  아 어쩐지 아무 효과 없더라 TS 종류 많은거 몰랐네요 다 떨어져서 엄마랑 홈쇼핑에...\n",
              "\n",
              "[1495 rows x 8 columns]"
            ]
          },
          "metadata": {
            "tags": []
          },
          "execution_count": 14
        }
      ]
    },
    {
      "cell_type": "code",
      "metadata": {
        "colab_type": "code",
        "id": "tLYWgZJAtsku",
        "colab": {}
      },
      "source": [
        "SEQ_LEN = 128\n",
        "BATCH_SIZE = 16\n",
        "EPOCHS=2\n",
        "LR=1e-5\n",
        "\n",
        "pretrained_path =\"./devmatcing/bert\"\n",
        "config_path = os.path.join(pretrained_path, 'bert_config.json')\n",
        "checkpoint_path = os.path.join(pretrained_path, 'bert_model.ckpt')\n",
        "vocab_path = os.path.join(pretrained_path, 'vocab.txt')\n",
        "\n",
        "DATA_COLUMN = \"clear_review\"\n",
        "LABEL_COLUMN = \"label\""
      ],
      "execution_count": 0,
      "outputs": []
    },
    {
      "cell_type": "markdown",
      "metadata": {
        "colab_type": "text",
        "id": "IaU-13a9H4YJ"
      },
      "source": [
        "vocab.txt에 있는 단어에 인덱스를 추가해주는 token_dict라는 딕셔너리를 생성합니다.  \n",
        "우리가 분석할 문장이 토큰화가 되고, 그 다음에는 인덱스(숫자)로 변경되어서 버트 신경망에 인풋으로 들어게 됩니다."
      ]
    },
    {
      "cell_type": "code",
      "metadata": {
        "colab_type": "code",
        "id": "-ph2YQXg2iz5",
        "colab": {}
      },
      "source": [
        "token_dict = {}\n",
        "with codecs.open(vocab_path, 'r', 'utf8') as reader:\n",
        "    for line in reader:\n",
        "        token = line.strip()\n",
        "        if \"_\" in token:\n",
        "          token = token.replace(\"_\",\"\")\n",
        "          token = \"##\" + token\n",
        "        token_dict[token] = len(token_dict)"
      ],
      "execution_count": 0,
      "outputs": []
    },
    {
      "cell_type": "code",
      "metadata": {
        "colab_type": "code",
        "id": "keLv7zyZUKzZ",
        "colab": {}
      },
      "source": [
        "class inherit_Tokenizer(Tokenizer):\n",
        "  def _tokenize(self, text):\n",
        "        if not self._cased:\n",
        "            text = text\n",
        "            \n",
        "            text = text.lower()\n",
        "        spaced = ''\n",
        "        for ch in text:\n",
        "            if self._is_punctuation(ch) or self._is_cjk_character(ch):\n",
        "                spaced += ' ' + ch + ' '\n",
        "            elif self._is_space(ch):\n",
        "                spaced += ' '\n",
        "            elif ord(ch) == 0 or ord(ch) == 0xfffd or self._is_control(ch):\n",
        "                continue\n",
        "            else:\n",
        "                spaced += ch\n",
        "        tokens = []\n",
        "        for word in spaced.strip().split():\n",
        "            tokens += self._word_piece_tokenize(word)\n",
        "        return tokens"
      ],
      "execution_count": 0,
      "outputs": []
    },
    {
      "cell_type": "code",
      "metadata": {
        "colab_type": "code",
        "id": "88T_cMA4tsk2",
        "colab": {}
      },
      "source": [
        "tokenizer = inherit_Tokenizer(token_dict)"
      ],
      "execution_count": 0,
      "outputs": []
    },
    {
      "cell_type": "code",
      "metadata": {
        "colab_type": "code",
        "id": "-4EWrSTCMkzk",
        "outputId": "b2df76cd-408b-483f-bf1a-51874d529efd",
        "colab": {
          "base_uri": "https://localhost:8080/",
          "height": 799
        }
      },
      "source": [
        "tokenizer.tokenize(train['clear_review'].iloc[0])"
      ],
      "execution_count": 19,
      "outputs": [
        {
          "output_type": "execute_result",
          "data": {
            "text/plain": [
              "['[CLS]',\n",
              " '일',\n",
              " '##단',\n",
              " '커',\n",
              " '##서',\n",
              " '좋',\n",
              " '##고',\n",
              " '거',\n",
              " '##품',\n",
              " '##잘',\n",
              " '##나',\n",
              " '##서',\n",
              " '좋',\n",
              " '##고',\n",
              " '특',\n",
              " '##유',\n",
              " '##의',\n",
              " '초',\n",
              " '##록',\n",
              " '##빛',\n",
              " '##깔',\n",
              " '##에',\n",
              " '알',\n",
              " '##갱',\n",
              " '##이',\n",
              " '박',\n",
              " '##힌',\n",
              " '느',\n",
              " '##낌',\n",
              " '##이',\n",
              " '뭔',\n",
              " '##가',\n",
              " '내',\n",
              " '##머',\n",
              " '##리를',\n",
              " '건',\n",
              " '##강',\n",
              " '##하게',\n",
              " '해',\n",
              " '##주는',\n",
              " '느',\n",
              " '##낌',\n",
              " '##적인',\n",
              " '느',\n",
              " '##낌',\n",
              " '[SEP]']"
            ]
          },
          "metadata": {
            "tags": []
          },
          "execution_count": 19
        }
      ]
    },
    {
      "cell_type": "code",
      "metadata": {
        "colab_type": "code",
        "id": "j8aX-OYL_X5d",
        "colab": {}
      },
      "source": [
        "def convert_data(data_df):\n",
        "    global tokenizer\n",
        "    indices, targets = [], []\n",
        "    for i in tqdm(range(len(data_df))):\n",
        "        ids, segments = tokenizer.encode(data_df[DATA_COLUMN].iloc[i], max_len=SEQ_LEN)\n",
        "        indices.append(ids)\n",
        "        targets.append(data_df[LABEL_COLUMN].iloc[i])\n",
        "    items = list(zip(indices, targets))\n",
        "    \n",
        "    indices, targets = zip(*items)\n",
        "    indices = np.array(indices)\n",
        "    return [indices, np.zeros_like(indices)], np.array(targets)\n",
        "\n",
        "def load_data(pandas_dataframe):\n",
        "    data_df = pandas_dataframe\n",
        "    \n",
        "    \n",
        "    data_df[DATA_COLUMN] = data_df[DATA_COLUMN].astype(str)\n",
        "\n",
        "\n",
        "    data_x, data_y = convert_data(data_df)\n",
        "\n",
        "    return data_x, data_y"
      ],
      "execution_count": 0,
      "outputs": []
    },
    {
      "cell_type": "code",
      "metadata": {
        "colab_type": "code",
        "id": "rNUYX-Rntsk_",
        "outputId": "0a5ebaed-a5b0-402b-ab07-3df022d38015",
        "colab": {
          "base_uri": "https://localhost:8080/",
          "height": 34
        }
      },
      "source": [
        "train_x, train_y = load_data(train)"
      ],
      "execution_count": 21,
      "outputs": [
        {
          "output_type": "stream",
          "text": [
            "100%|██████████| 15000/15000 [00:05<00:00, 2503.38it/s]\n"
          ],
          "name": "stderr"
        }
      ]
    },
    {
      "cell_type": "code",
      "metadata": {
        "colab_type": "code",
        "id": "_eVvPUV9bDOY",
        "outputId": "a18d956f-abf6-4539-f588-b4633773f589",
        "colab": {
          "base_uri": "https://localhost:8080/",
          "height": 34
        }
      },
      "source": [
        "test_x, test_y = load_data(test)"
      ],
      "execution_count": 22,
      "outputs": [
        {
          "output_type": "stream",
          "text": [
            "100%|██████████| 1495/1495 [00:00<00:00, 2697.16it/s]\n"
          ],
          "name": "stderr"
        }
      ]
    },
    {
      "cell_type": "markdown",
      "metadata": {
        "colab_type": "text",
        "id": "oXdjhy0cLlYA"
      },
      "source": [
        "- 사전학습된 버트 모델의 인풋은 문장 토큰화가 숫자로 바뀐 것과, 앞문장인지 뒷문장인지 알려주는 문장 순서 벡터가 들어갑니다. 우리는 문장 하나를 가지고만 훈련할 것이므로 순서 벡터는 모두 0으로 통일합니다.\n",
        "\n",
        "- 그리고 파인튜닝 시에는 문장 안에 일부 단어를 가리는 마스킹은 사용하지 않습니다."
      ]
    },
    {
      "cell_type": "code",
      "metadata": {
        "colab_type": "code",
        "id": "3ebac6xXM1aB",
        "outputId": "a61b89a4-2f7b-4ff1-c137-0bf87f1b35b8",
        "colab": {
          "base_uri": "https://localhost:8080/",
          "height": 255
        }
      },
      "source": [
        "train_x"
      ],
      "execution_count": 23,
      "outputs": [
        {
          "output_type": "execute_result",
          "data": {
            "text/plain": [
              "[array([[   101,   9641,  24989, ...,      0,      0,      0],\n",
              "        [   101,   8863,  52951, ...,      0,      0,      0],\n",
              "        [   101,    100, 119405, ...,      0,      0,      0],\n",
              "        ...,\n",
              "        [   101,   9959,  14871, ...,  28911,    100,    102],\n",
              "        [   101,   9706,  17138, ...,  59894,   9952,    102],\n",
              "        [   101,   9574,  14279, ...,      0,      0,      0]]),\n",
              " array([[0, 0, 0, ..., 0, 0, 0],\n",
              "        [0, 0, 0, ..., 0, 0, 0],\n",
              "        [0, 0, 0, ..., 0, 0, 0],\n",
              "        ...,\n",
              "        [0, 0, 0, ..., 0, 0, 0],\n",
              "        [0, 0, 0, ..., 0, 0, 0],\n",
              "        [0, 0, 0, ..., 0, 0, 0]])]"
            ]
          },
          "metadata": {
            "tags": []
          },
          "execution_count": 23
        }
      ]
    },
    {
      "cell_type": "markdown",
      "metadata": {
        "colab_type": "text",
        "id": "I9sFKLjD-v2n"
      },
      "source": [
        "**버트 모형에 들어갈 인풋은 토큰, 세그먼트, 포지션으로 구성됩니다.**  \n",
        "버트에 인풋으로 들어가는 토큰은 문장을 토크나이징 한 후, 인덱스 번호를 매긴 것입니다.  \n",
        "세그먼트는 예를 들어 문장이 두 개가 있다면, 앞의 문장과 뒤의 문장을 구분하는 것입니다.  \n",
        "포지션 임베딩은 단순히 단어의 위치를 말합니다.\n",
        "\n",
        "토큰, 세그먼트, 포지션을 인풋으로 버트 모형에 넣으면 기하학적인 문장 공간으로 임베딩이 됩니다.\n",
        "\n",
        "![대체 텍스트](https://i.imgur.com/l9BTao3.png)"
      ]
    },
    {
      "cell_type": "markdown",
      "metadata": {
        "colab_type": "text",
        "id": "vnh0ZuikSzz6"
      },
      "source": [
        "#### 이해가 안 가실 수 있는데, 버트 인풋을 문장으로 예를 들어 만들어 보겠습니다.\n",
        "#### 인풋은 총 2개가 들어갑니다\n",
        "- **(토큰)** 첫번째 인풋은 토큰화 된 것이 인덱싱되어 숫자로 변환된 것  \n",
        "\n",
        "- **(세그멘트)** 두번째 인풋은 앞문장인지 뒷문장인지 알려주는 숫자들입니다. 이번 튜토리얼에서는 파인튜닝 과정이라 앞문장 뒷문장 구분을 안하기 때문에 모두 0으로 하였습니다.  \n",
        "\n",
        "- **(포지션)** 단어 순서에 따라서 자동으로 부여됩니다.\n"
      ]
    },
    {
      "cell_type": "code",
      "metadata": {
        "colab_type": "code",
        "id": "xC-R3Be9TAG-",
        "colab": {}
      },
      "source": [
        "def sentence_convert_data(data):\n",
        "    global tokenizer\n",
        "    indices = []\n",
        "    for i in tqdm(range(len(data))):\n",
        "        print(tokenizer.tokenize(data[i]))\n",
        "        ids, segments = tokenizer.encode(data[i], max_len=SEQ_LEN)\n",
        "        indices.append(ids)\n",
        "        \n",
        "    items = indices\n",
        "    indices = np.array(indices)\n",
        "    return [indices, np.zeros_like(indices)]\n",
        "\n",
        "def sentence_load_data(sentences):#sentence는 List로 받는다\n",
        "           \n",
        "    data_x = sentence_convert_data(sentences)\n",
        "\n",
        "    return data_x"
      ],
      "execution_count": 0,
      "outputs": []
    },
    {
      "cell_type": "code",
      "metadata": {
        "colab_type": "code",
        "id": "yXKukii1Rzq3",
        "outputId": "17b468cf-32eb-40fa-f1e9-0a708e926f87",
        "colab": {
          "base_uri": "https://localhost:8080/",
          "height": 782
        }
      },
      "source": [
        "sentence_load_data([\"케라스로 버트 해보기 정말 재밌음\", \"케라스 쉬워 쉬워\"])"
      ],
      "execution_count": 25,
      "outputs": [
        {
          "output_type": "stream",
          "text": [
            "100%|██████████| 2/2 [00:00<00:00, 1275.45it/s]"
          ],
          "name": "stderr"
        },
        {
          "output_type": "stream",
          "text": [
            "['[CLS]', '케', '##라', '##스로', '버', '##트', '해', '##보', '##기', '정', '##말', '재', '##밌', '##음', '[SEP]']\n",
            "['[CLS]', '케', '##라', '##스', '쉬', '##워', '쉬', '##워', '[SEP]']\n"
          ],
          "name": "stdout"
        },
        {
          "output_type": "stream",
          "text": [
            "\n"
          ],
          "name": "stderr"
        },
        {
          "output_type": "execute_result",
          "data": {
            "text/plain": [
              "[array([[  101,  9806, 17342, 94980,  9336, 15184,  9960, 30005, 12310,\n",
              "          9670, 89523,  9659,   100, 32158,   102,     0,     0,     0,\n",
              "             0,     0,     0,     0,     0,     0,     0,     0,     0,\n",
              "             0,     0,     0,     0,     0,     0,     0,     0,     0,\n",
              "             0,     0,     0,     0,     0,     0,     0,     0,     0,\n",
              "             0,     0,     0,     0,     0,     0,     0,     0,     0,\n",
              "             0,     0,     0,     0,     0,     0,     0,     0,     0,\n",
              "             0,     0,     0,     0,     0,     0,     0,     0,     0,\n",
              "             0,     0,     0,     0,     0,     0,     0,     0,     0,\n",
              "             0,     0,     0,     0,     0,     0,     0,     0,     0,\n",
              "             0,     0,     0,     0,     0,     0,     0,     0,     0,\n",
              "             0,     0,     0,     0,     0,     0,     0,     0,     0,\n",
              "             0,     0,     0,     0,     0,     0,     0,     0,     0,\n",
              "             0,     0,     0,     0,     0,     0,     0,     0,     0,\n",
              "             0,     0],\n",
              "        [  101,  9806, 17342, 12605,  9469, 69592,  9469, 69592,   102,\n",
              "             0,     0,     0,     0,     0,     0,     0,     0,     0,\n",
              "             0,     0,     0,     0,     0,     0,     0,     0,     0,\n",
              "             0,     0,     0,     0,     0,     0,     0,     0,     0,\n",
              "             0,     0,     0,     0,     0,     0,     0,     0,     0,\n",
              "             0,     0,     0,     0,     0,     0,     0,     0,     0,\n",
              "             0,     0,     0,     0,     0,     0,     0,     0,     0,\n",
              "             0,     0,     0,     0,     0,     0,     0,     0,     0,\n",
              "             0,     0,     0,     0,     0,     0,     0,     0,     0,\n",
              "             0,     0,     0,     0,     0,     0,     0,     0,     0,\n",
              "             0,     0,     0,     0,     0,     0,     0,     0,     0,\n",
              "             0,     0,     0,     0,     0,     0,     0,     0,     0,\n",
              "             0,     0,     0,     0,     0,     0,     0,     0,     0,\n",
              "             0,     0,     0,     0,     0,     0,     0,     0,     0,\n",
              "             0,     0]]),\n",
              " array([[0, 0, 0, 0, 0, 0, 0, 0, 0, 0, 0, 0, 0, 0, 0, 0, 0, 0, 0, 0, 0, 0,\n",
              "         0, 0, 0, 0, 0, 0, 0, 0, 0, 0, 0, 0, 0, 0, 0, 0, 0, 0, 0, 0, 0, 0,\n",
              "         0, 0, 0, 0, 0, 0, 0, 0, 0, 0, 0, 0, 0, 0, 0, 0, 0, 0, 0, 0, 0, 0,\n",
              "         0, 0, 0, 0, 0, 0, 0, 0, 0, 0, 0, 0, 0, 0, 0, 0, 0, 0, 0, 0, 0, 0,\n",
              "         0, 0, 0, 0, 0, 0, 0, 0, 0, 0, 0, 0, 0, 0, 0, 0, 0, 0, 0, 0, 0, 0,\n",
              "         0, 0, 0, 0, 0, 0, 0, 0, 0, 0, 0, 0, 0, 0, 0, 0, 0, 0],\n",
              "        [0, 0, 0, 0, 0, 0, 0, 0, 0, 0, 0, 0, 0, 0, 0, 0, 0, 0, 0, 0, 0, 0,\n",
              "         0, 0, 0, 0, 0, 0, 0, 0, 0, 0, 0, 0, 0, 0, 0, 0, 0, 0, 0, 0, 0, 0,\n",
              "         0, 0, 0, 0, 0, 0, 0, 0, 0, 0, 0, 0, 0, 0, 0, 0, 0, 0, 0, 0, 0, 0,\n",
              "         0, 0, 0, 0, 0, 0, 0, 0, 0, 0, 0, 0, 0, 0, 0, 0, 0, 0, 0, 0, 0, 0,\n",
              "         0, 0, 0, 0, 0, 0, 0, 0, 0, 0, 0, 0, 0, 0, 0, 0, 0, 0, 0, 0, 0, 0,\n",
              "         0, 0, 0, 0, 0, 0, 0, 0, 0, 0, 0, 0, 0, 0, 0, 0, 0, 0]])]"
            ]
          },
          "metadata": {
            "tags": []
          },
          "execution_count": 25
        }
      ]
    },
    {
      "cell_type": "markdown",
      "metadata": {
        "colab_type": "text",
        "id": "RZ23W0s8MCBt"
      },
      "source": [
        "이해가 되셨는지요?  \n",
        "구글 깃허브에서 다운받았던 사전학습된 모델을 colab으로 로드합니다."
      ]
    },
    {
      "cell_type": "code",
      "metadata": {
        "colab_type": "code",
        "id": "8auSqxdHtslD",
        "outputId": "091f9662-2807-4200-ad4a-57207176d8d6",
        "scrolled": false,
        "colab": {
          "base_uri": "https://localhost:8080/",
          "height": 462
        }
      },
      "source": [
        "layer_num = 12\n",
        "model = load_trained_model_from_checkpoint(\n",
        "    config_path,\n",
        "    checkpoint_path,\n",
        "    training=True,\n",
        "    trainable=True,\n",
        "    seq_len=SEQ_LEN,)"
      ],
      "execution_count": 26,
      "outputs": [
        {
          "output_type": "stream",
          "text": [
            "WARNING:tensorflow:From /usr/local/lib/python3.6/dist-packages/keras/backend/tensorflow_backend.py:541: The name tf.placeholder is deprecated. Please use tf.compat.v1.placeholder instead.\n",
            "\n",
            "WARNING:tensorflow:From /usr/local/lib/python3.6/dist-packages/keras/backend/tensorflow_backend.py:4432: The name tf.random_uniform is deprecated. Please use tf.random.uniform instead.\n",
            "\n",
            "WARNING:tensorflow:From /usr/local/lib/python3.6/dist-packages/keras/backend/tensorflow_backend.py:66: The name tf.get_default_graph is deprecated. Please use tf.compat.v1.get_default_graph instead.\n",
            "\n",
            "WARNING:tensorflow:From /usr/local/lib/python3.6/dist-packages/keras/backend/tensorflow_backend.py:148: The name tf.placeholder_with_default is deprecated. Please use tf.compat.v1.placeholder_with_default instead.\n",
            "\n",
            "WARNING:tensorflow:From /usr/local/lib/python3.6/dist-packages/keras/backend/tensorflow_backend.py:3733: calling dropout (from tensorflow.python.ops.nn_ops) with keep_prob is deprecated and will be removed in a future version.\n",
            "Instructions for updating:\n",
            "Please use `rate` instead of `keep_prob`. Rate should be set to `rate = 1 - keep_prob`.\n",
            "WARNING:tensorflow:From /usr/local/lib/python3.6/dist-packages/keras/backend/tensorflow_backend.py:4479: The name tf.truncated_normal is deprecated. Please use tf.random.truncated_normal instead.\n",
            "\n",
            "WARNING:tensorflow:From /usr/local/lib/python3.6/dist-packages/keras/backend/tensorflow_backend.py:190: The name tf.get_default_session is deprecated. Please use tf.compat.v1.get_default_session instead.\n",
            "\n",
            "WARNING:tensorflow:From /usr/local/lib/python3.6/dist-packages/keras/backend/tensorflow_backend.py:197: The name tf.ConfigProto is deprecated. Please use tf.compat.v1.ConfigProto instead.\n",
            "\n",
            "WARNING:tensorflow:From /usr/local/lib/python3.6/dist-packages/keras/backend/tensorflow_backend.py:203: The name tf.Session is deprecated. Please use tf.compat.v1.Session instead.\n",
            "\n",
            "WARNING:tensorflow:From /usr/local/lib/python3.6/dist-packages/keras/backend/tensorflow_backend.py:207: The name tf.global_variables is deprecated. Please use tf.compat.v1.global_variables instead.\n",
            "\n",
            "WARNING:tensorflow:From /usr/local/lib/python3.6/dist-packages/keras/backend/tensorflow_backend.py:216: The name tf.is_variable_initialized is deprecated. Please use tf.compat.v1.is_variable_initialized instead.\n",
            "\n",
            "WARNING:tensorflow:From /usr/local/lib/python3.6/dist-packages/keras/backend/tensorflow_backend.py:223: The name tf.variables_initializer is deprecated. Please use tf.compat.v1.variables_initializer instead.\n",
            "\n"
          ],
          "name": "stdout"
        }
      ]
    },
    {
      "cell_type": "markdown",
      "metadata": {
        "colab_type": "text",
        "id": "_ptok2n0MHoV"
      },
      "source": [
        "모델의 구조를 확인합니다.  \n",
        "총 12층의 트랜스포머 계층이 있음을 확인할 수 있습니다.\n"
      ]
    },
    {
      "cell_type": "code",
      "metadata": {
        "colab_type": "code",
        "id": "vBoYL3ga6A8L",
        "outputId": "86b2265d-becf-42c3-c061-41dea4fc1cc4",
        "colab": {
          "base_uri": "https://localhost:8080/",
          "height": 1000
        }
      },
      "source": [
        "model.summary()"
      ],
      "execution_count": 27,
      "outputs": [
        {
          "output_type": "stream",
          "text": [
            "Model: \"model_1\"\n",
            "__________________________________________________________________________________________________\n",
            "Layer (type)                    Output Shape         Param #     Connected to                     \n",
            "==================================================================================================\n",
            "Input-Token (InputLayer)        (None, 128)          0                                            \n",
            "__________________________________________________________________________________________________\n",
            "Input-Segment (InputLayer)      (None, 128)          0                                            \n",
            "__________________________________________________________________________________________________\n",
            "Embedding-Token (TokenEmbedding [(None, 128, 768), ( 91812096    Input-Token[0][0]                \n",
            "__________________________________________________________________________________________________\n",
            "Embedding-Segment (Embedding)   (None, 128, 768)     1536        Input-Segment[0][0]              \n",
            "__________________________________________________________________________________________________\n",
            "Embedding-Token-Segment (Add)   (None, 128, 768)     0           Embedding-Token[0][0]            \n",
            "                                                                 Embedding-Segment[0][0]          \n",
            "__________________________________________________________________________________________________\n",
            "Embedding-Position (PositionEmb (None, 128, 768)     98304       Embedding-Token-Segment[0][0]    \n",
            "__________________________________________________________________________________________________\n",
            "Embedding-Dropout (Dropout)     (None, 128, 768)     0           Embedding-Position[0][0]         \n",
            "__________________________________________________________________________________________________\n",
            "Embedding-Norm (LayerNormalizat (None, 128, 768)     1536        Embedding-Dropout[0][0]          \n",
            "__________________________________________________________________________________________________\n",
            "Encoder-1-MultiHeadSelfAttentio (None, 128, 768)     2362368     Embedding-Norm[0][0]             \n",
            "__________________________________________________________________________________________________\n",
            "Encoder-1-MultiHeadSelfAttentio (None, 128, 768)     0           Encoder-1-MultiHeadSelfAttention[\n",
            "__________________________________________________________________________________________________\n",
            "Encoder-1-MultiHeadSelfAttentio (None, 128, 768)     0           Embedding-Norm[0][0]             \n",
            "                                                                 Encoder-1-MultiHeadSelfAttention-\n",
            "__________________________________________________________________________________________________\n",
            "Encoder-1-MultiHeadSelfAttentio (None, 128, 768)     1536        Encoder-1-MultiHeadSelfAttention-\n",
            "__________________________________________________________________________________________________\n",
            "Encoder-1-FeedForward (FeedForw (None, 128, 768)     4722432     Encoder-1-MultiHeadSelfAttention-\n",
            "__________________________________________________________________________________________________\n",
            "Encoder-1-FeedForward-Dropout ( (None, 128, 768)     0           Encoder-1-FeedForward[0][0]      \n",
            "__________________________________________________________________________________________________\n",
            "Encoder-1-FeedForward-Add (Add) (None, 128, 768)     0           Encoder-1-MultiHeadSelfAttention-\n",
            "                                                                 Encoder-1-FeedForward-Dropout[0][\n",
            "__________________________________________________________________________________________________\n",
            "Encoder-1-FeedForward-Norm (Lay (None, 128, 768)     1536        Encoder-1-FeedForward-Add[0][0]  \n",
            "__________________________________________________________________________________________________\n",
            "Encoder-2-MultiHeadSelfAttentio (None, 128, 768)     2362368     Encoder-1-FeedForward-Norm[0][0] \n",
            "__________________________________________________________________________________________________\n",
            "Encoder-2-MultiHeadSelfAttentio (None, 128, 768)     0           Encoder-2-MultiHeadSelfAttention[\n",
            "__________________________________________________________________________________________________\n",
            "Encoder-2-MultiHeadSelfAttentio (None, 128, 768)     0           Encoder-1-FeedForward-Norm[0][0] \n",
            "                                                                 Encoder-2-MultiHeadSelfAttention-\n",
            "__________________________________________________________________________________________________\n",
            "Encoder-2-MultiHeadSelfAttentio (None, 128, 768)     1536        Encoder-2-MultiHeadSelfAttention-\n",
            "__________________________________________________________________________________________________\n",
            "Encoder-2-FeedForward (FeedForw (None, 128, 768)     4722432     Encoder-2-MultiHeadSelfAttention-\n",
            "__________________________________________________________________________________________________\n",
            "Encoder-2-FeedForward-Dropout ( (None, 128, 768)     0           Encoder-2-FeedForward[0][0]      \n",
            "__________________________________________________________________________________________________\n",
            "Encoder-2-FeedForward-Add (Add) (None, 128, 768)     0           Encoder-2-MultiHeadSelfAttention-\n",
            "                                                                 Encoder-2-FeedForward-Dropout[0][\n",
            "__________________________________________________________________________________________________\n",
            "Encoder-2-FeedForward-Norm (Lay (None, 128, 768)     1536        Encoder-2-FeedForward-Add[0][0]  \n",
            "__________________________________________________________________________________________________\n",
            "Encoder-3-MultiHeadSelfAttentio (None, 128, 768)     2362368     Encoder-2-FeedForward-Norm[0][0] \n",
            "__________________________________________________________________________________________________\n",
            "Encoder-3-MultiHeadSelfAttentio (None, 128, 768)     0           Encoder-3-MultiHeadSelfAttention[\n",
            "__________________________________________________________________________________________________\n",
            "Encoder-3-MultiHeadSelfAttentio (None, 128, 768)     0           Encoder-2-FeedForward-Norm[0][0] \n",
            "                                                                 Encoder-3-MultiHeadSelfAttention-\n",
            "__________________________________________________________________________________________________\n",
            "Encoder-3-MultiHeadSelfAttentio (None, 128, 768)     1536        Encoder-3-MultiHeadSelfAttention-\n",
            "__________________________________________________________________________________________________\n",
            "Encoder-3-FeedForward (FeedForw (None, 128, 768)     4722432     Encoder-3-MultiHeadSelfAttention-\n",
            "__________________________________________________________________________________________________\n",
            "Encoder-3-FeedForward-Dropout ( (None, 128, 768)     0           Encoder-3-FeedForward[0][0]      \n",
            "__________________________________________________________________________________________________\n",
            "Encoder-3-FeedForward-Add (Add) (None, 128, 768)     0           Encoder-3-MultiHeadSelfAttention-\n",
            "                                                                 Encoder-3-FeedForward-Dropout[0][\n",
            "__________________________________________________________________________________________________\n",
            "Encoder-3-FeedForward-Norm (Lay (None, 128, 768)     1536        Encoder-3-FeedForward-Add[0][0]  \n",
            "__________________________________________________________________________________________________\n",
            "Encoder-4-MultiHeadSelfAttentio (None, 128, 768)     2362368     Encoder-3-FeedForward-Norm[0][0] \n",
            "__________________________________________________________________________________________________\n",
            "Encoder-4-MultiHeadSelfAttentio (None, 128, 768)     0           Encoder-4-MultiHeadSelfAttention[\n",
            "__________________________________________________________________________________________________\n",
            "Encoder-4-MultiHeadSelfAttentio (None, 128, 768)     0           Encoder-3-FeedForward-Norm[0][0] \n",
            "                                                                 Encoder-4-MultiHeadSelfAttention-\n",
            "__________________________________________________________________________________________________\n",
            "Encoder-4-MultiHeadSelfAttentio (None, 128, 768)     1536        Encoder-4-MultiHeadSelfAttention-\n",
            "__________________________________________________________________________________________________\n",
            "Encoder-4-FeedForward (FeedForw (None, 128, 768)     4722432     Encoder-4-MultiHeadSelfAttention-\n",
            "__________________________________________________________________________________________________\n",
            "Encoder-4-FeedForward-Dropout ( (None, 128, 768)     0           Encoder-4-FeedForward[0][0]      \n",
            "__________________________________________________________________________________________________\n",
            "Encoder-4-FeedForward-Add (Add) (None, 128, 768)     0           Encoder-4-MultiHeadSelfAttention-\n",
            "                                                                 Encoder-4-FeedForward-Dropout[0][\n",
            "__________________________________________________________________________________________________\n",
            "Encoder-4-FeedForward-Norm (Lay (None, 128, 768)     1536        Encoder-4-FeedForward-Add[0][0]  \n",
            "__________________________________________________________________________________________________\n",
            "Encoder-5-MultiHeadSelfAttentio (None, 128, 768)     2362368     Encoder-4-FeedForward-Norm[0][0] \n",
            "__________________________________________________________________________________________________\n",
            "Encoder-5-MultiHeadSelfAttentio (None, 128, 768)     0           Encoder-5-MultiHeadSelfAttention[\n",
            "__________________________________________________________________________________________________\n",
            "Encoder-5-MultiHeadSelfAttentio (None, 128, 768)     0           Encoder-4-FeedForward-Norm[0][0] \n",
            "                                                                 Encoder-5-MultiHeadSelfAttention-\n",
            "__________________________________________________________________________________________________\n",
            "Encoder-5-MultiHeadSelfAttentio (None, 128, 768)     1536        Encoder-5-MultiHeadSelfAttention-\n",
            "__________________________________________________________________________________________________\n",
            "Encoder-5-FeedForward (FeedForw (None, 128, 768)     4722432     Encoder-5-MultiHeadSelfAttention-\n",
            "__________________________________________________________________________________________________\n",
            "Encoder-5-FeedForward-Dropout ( (None, 128, 768)     0           Encoder-5-FeedForward[0][0]      \n",
            "__________________________________________________________________________________________________\n",
            "Encoder-5-FeedForward-Add (Add) (None, 128, 768)     0           Encoder-5-MultiHeadSelfAttention-\n",
            "                                                                 Encoder-5-FeedForward-Dropout[0][\n",
            "__________________________________________________________________________________________________\n",
            "Encoder-5-FeedForward-Norm (Lay (None, 128, 768)     1536        Encoder-5-FeedForward-Add[0][0]  \n",
            "__________________________________________________________________________________________________\n",
            "Encoder-6-MultiHeadSelfAttentio (None, 128, 768)     2362368     Encoder-5-FeedForward-Norm[0][0] \n",
            "__________________________________________________________________________________________________\n",
            "Encoder-6-MultiHeadSelfAttentio (None, 128, 768)     0           Encoder-6-MultiHeadSelfAttention[\n",
            "__________________________________________________________________________________________________\n",
            "Encoder-6-MultiHeadSelfAttentio (None, 128, 768)     0           Encoder-5-FeedForward-Norm[0][0] \n",
            "                                                                 Encoder-6-MultiHeadSelfAttention-\n",
            "__________________________________________________________________________________________________\n",
            "Encoder-6-MultiHeadSelfAttentio (None, 128, 768)     1536        Encoder-6-MultiHeadSelfAttention-\n",
            "__________________________________________________________________________________________________\n",
            "Encoder-6-FeedForward (FeedForw (None, 128, 768)     4722432     Encoder-6-MultiHeadSelfAttention-\n",
            "__________________________________________________________________________________________________\n",
            "Encoder-6-FeedForward-Dropout ( (None, 128, 768)     0           Encoder-6-FeedForward[0][0]      \n",
            "__________________________________________________________________________________________________\n",
            "Encoder-6-FeedForward-Add (Add) (None, 128, 768)     0           Encoder-6-MultiHeadSelfAttention-\n",
            "                                                                 Encoder-6-FeedForward-Dropout[0][\n",
            "__________________________________________________________________________________________________\n",
            "Encoder-6-FeedForward-Norm (Lay (None, 128, 768)     1536        Encoder-6-FeedForward-Add[0][0]  \n",
            "__________________________________________________________________________________________________\n",
            "Encoder-7-MultiHeadSelfAttentio (None, 128, 768)     2362368     Encoder-6-FeedForward-Norm[0][0] \n",
            "__________________________________________________________________________________________________\n",
            "Encoder-7-MultiHeadSelfAttentio (None, 128, 768)     0           Encoder-7-MultiHeadSelfAttention[\n",
            "__________________________________________________________________________________________________\n",
            "Encoder-7-MultiHeadSelfAttentio (None, 128, 768)     0           Encoder-6-FeedForward-Norm[0][0] \n",
            "                                                                 Encoder-7-MultiHeadSelfAttention-\n",
            "__________________________________________________________________________________________________\n",
            "Encoder-7-MultiHeadSelfAttentio (None, 128, 768)     1536        Encoder-7-MultiHeadSelfAttention-\n",
            "__________________________________________________________________________________________________\n",
            "Encoder-7-FeedForward (FeedForw (None, 128, 768)     4722432     Encoder-7-MultiHeadSelfAttention-\n",
            "__________________________________________________________________________________________________\n",
            "Encoder-7-FeedForward-Dropout ( (None, 128, 768)     0           Encoder-7-FeedForward[0][0]      \n",
            "__________________________________________________________________________________________________\n",
            "Encoder-7-FeedForward-Add (Add) (None, 128, 768)     0           Encoder-7-MultiHeadSelfAttention-\n",
            "                                                                 Encoder-7-FeedForward-Dropout[0][\n",
            "__________________________________________________________________________________________________\n",
            "Encoder-7-FeedForward-Norm (Lay (None, 128, 768)     1536        Encoder-7-FeedForward-Add[0][0]  \n",
            "__________________________________________________________________________________________________\n",
            "Encoder-8-MultiHeadSelfAttentio (None, 128, 768)     2362368     Encoder-7-FeedForward-Norm[0][0] \n",
            "__________________________________________________________________________________________________\n",
            "Encoder-8-MultiHeadSelfAttentio (None, 128, 768)     0           Encoder-8-MultiHeadSelfAttention[\n",
            "__________________________________________________________________________________________________\n",
            "Encoder-8-MultiHeadSelfAttentio (None, 128, 768)     0           Encoder-7-FeedForward-Norm[0][0] \n",
            "                                                                 Encoder-8-MultiHeadSelfAttention-\n",
            "__________________________________________________________________________________________________\n",
            "Encoder-8-MultiHeadSelfAttentio (None, 128, 768)     1536        Encoder-8-MultiHeadSelfAttention-\n",
            "__________________________________________________________________________________________________\n",
            "Encoder-8-FeedForward (FeedForw (None, 128, 768)     4722432     Encoder-8-MultiHeadSelfAttention-\n",
            "__________________________________________________________________________________________________\n",
            "Encoder-8-FeedForward-Dropout ( (None, 128, 768)     0           Encoder-8-FeedForward[0][0]      \n",
            "__________________________________________________________________________________________________\n",
            "Encoder-8-FeedForward-Add (Add) (None, 128, 768)     0           Encoder-8-MultiHeadSelfAttention-\n",
            "                                                                 Encoder-8-FeedForward-Dropout[0][\n",
            "__________________________________________________________________________________________________\n",
            "Encoder-8-FeedForward-Norm (Lay (None, 128, 768)     1536        Encoder-8-FeedForward-Add[0][0]  \n",
            "__________________________________________________________________________________________________\n",
            "Encoder-9-MultiHeadSelfAttentio (None, 128, 768)     2362368     Encoder-8-FeedForward-Norm[0][0] \n",
            "__________________________________________________________________________________________________\n",
            "Encoder-9-MultiHeadSelfAttentio (None, 128, 768)     0           Encoder-9-MultiHeadSelfAttention[\n",
            "__________________________________________________________________________________________________\n",
            "Encoder-9-MultiHeadSelfAttentio (None, 128, 768)     0           Encoder-8-FeedForward-Norm[0][0] \n",
            "                                                                 Encoder-9-MultiHeadSelfAttention-\n",
            "__________________________________________________________________________________________________\n",
            "Encoder-9-MultiHeadSelfAttentio (None, 128, 768)     1536        Encoder-9-MultiHeadSelfAttention-\n",
            "__________________________________________________________________________________________________\n",
            "Encoder-9-FeedForward (FeedForw (None, 128, 768)     4722432     Encoder-9-MultiHeadSelfAttention-\n",
            "__________________________________________________________________________________________________\n",
            "Encoder-9-FeedForward-Dropout ( (None, 128, 768)     0           Encoder-9-FeedForward[0][0]      \n",
            "__________________________________________________________________________________________________\n",
            "Encoder-9-FeedForward-Add (Add) (None, 128, 768)     0           Encoder-9-MultiHeadSelfAttention-\n",
            "                                                                 Encoder-9-FeedForward-Dropout[0][\n",
            "__________________________________________________________________________________________________\n",
            "Encoder-9-FeedForward-Norm (Lay (None, 128, 768)     1536        Encoder-9-FeedForward-Add[0][0]  \n",
            "__________________________________________________________________________________________________\n",
            "Encoder-10-MultiHeadSelfAttenti (None, 128, 768)     2362368     Encoder-9-FeedForward-Norm[0][0] \n",
            "__________________________________________________________________________________________________\n",
            "Encoder-10-MultiHeadSelfAttenti (None, 128, 768)     0           Encoder-10-MultiHeadSelfAttention\n",
            "__________________________________________________________________________________________________\n",
            "Encoder-10-MultiHeadSelfAttenti (None, 128, 768)     0           Encoder-9-FeedForward-Norm[0][0] \n",
            "                                                                 Encoder-10-MultiHeadSelfAttention\n",
            "__________________________________________________________________________________________________\n",
            "Encoder-10-MultiHeadSelfAttenti (None, 128, 768)     1536        Encoder-10-MultiHeadSelfAttention\n",
            "__________________________________________________________________________________________________\n",
            "Encoder-10-FeedForward (FeedFor (None, 128, 768)     4722432     Encoder-10-MultiHeadSelfAttention\n",
            "__________________________________________________________________________________________________\n",
            "Encoder-10-FeedForward-Dropout  (None, 128, 768)     0           Encoder-10-FeedForward[0][0]     \n",
            "__________________________________________________________________________________________________\n",
            "Encoder-10-FeedForward-Add (Add (None, 128, 768)     0           Encoder-10-MultiHeadSelfAttention\n",
            "                                                                 Encoder-10-FeedForward-Dropout[0]\n",
            "__________________________________________________________________________________________________\n",
            "Encoder-10-FeedForward-Norm (La (None, 128, 768)     1536        Encoder-10-FeedForward-Add[0][0] \n",
            "__________________________________________________________________________________________________\n",
            "Encoder-11-MultiHeadSelfAttenti (None, 128, 768)     2362368     Encoder-10-FeedForward-Norm[0][0]\n",
            "__________________________________________________________________________________________________\n",
            "Encoder-11-MultiHeadSelfAttenti (None, 128, 768)     0           Encoder-11-MultiHeadSelfAttention\n",
            "__________________________________________________________________________________________________\n",
            "Encoder-11-MultiHeadSelfAttenti (None, 128, 768)     0           Encoder-10-FeedForward-Norm[0][0]\n",
            "                                                                 Encoder-11-MultiHeadSelfAttention\n",
            "__________________________________________________________________________________________________\n",
            "Encoder-11-MultiHeadSelfAttenti (None, 128, 768)     1536        Encoder-11-MultiHeadSelfAttention\n",
            "__________________________________________________________________________________________________\n",
            "Encoder-11-FeedForward (FeedFor (None, 128, 768)     4722432     Encoder-11-MultiHeadSelfAttention\n",
            "__________________________________________________________________________________________________\n",
            "Encoder-11-FeedForward-Dropout  (None, 128, 768)     0           Encoder-11-FeedForward[0][0]     \n",
            "__________________________________________________________________________________________________\n",
            "Encoder-11-FeedForward-Add (Add (None, 128, 768)     0           Encoder-11-MultiHeadSelfAttention\n",
            "                                                                 Encoder-11-FeedForward-Dropout[0]\n",
            "__________________________________________________________________________________________________\n",
            "Encoder-11-FeedForward-Norm (La (None, 128, 768)     1536        Encoder-11-FeedForward-Add[0][0] \n",
            "__________________________________________________________________________________________________\n",
            "Encoder-12-MultiHeadSelfAttenti (None, 128, 768)     2362368     Encoder-11-FeedForward-Norm[0][0]\n",
            "__________________________________________________________________________________________________\n",
            "Encoder-12-MultiHeadSelfAttenti (None, 128, 768)     0           Encoder-12-MultiHeadSelfAttention\n",
            "__________________________________________________________________________________________________\n",
            "Encoder-12-MultiHeadSelfAttenti (None, 128, 768)     0           Encoder-11-FeedForward-Norm[0][0]\n",
            "                                                                 Encoder-12-MultiHeadSelfAttention\n",
            "__________________________________________________________________________________________________\n",
            "Encoder-12-MultiHeadSelfAttenti (None, 128, 768)     1536        Encoder-12-MultiHeadSelfAttention\n",
            "__________________________________________________________________________________________________\n",
            "Encoder-12-FeedForward (FeedFor (None, 128, 768)     4722432     Encoder-12-MultiHeadSelfAttention\n",
            "__________________________________________________________________________________________________\n",
            "Encoder-12-FeedForward-Dropout  (None, 128, 768)     0           Encoder-12-FeedForward[0][0]     \n",
            "__________________________________________________________________________________________________\n",
            "Encoder-12-FeedForward-Add (Add (None, 128, 768)     0           Encoder-12-MultiHeadSelfAttention\n",
            "                                                                 Encoder-12-FeedForward-Dropout[0]\n",
            "__________________________________________________________________________________________________\n",
            "Encoder-12-FeedForward-Norm (La (None, 128, 768)     1536        Encoder-12-FeedForward-Add[0][0] \n",
            "__________________________________________________________________________________________________\n",
            "MLM-Dense (Dense)               (None, 128, 768)     590592      Encoder-12-FeedForward-Norm[0][0]\n",
            "__________________________________________________________________________________________________\n",
            "MLM-Norm (LayerNormalization)   (None, 128, 768)     1536        MLM-Dense[0][0]                  \n",
            "__________________________________________________________________________________________________\n",
            "Extract (Extract)               (None, 768)          0           Encoder-12-FeedForward-Norm[0][0]\n",
            "__________________________________________________________________________________________________\n",
            "MLM-Sim (EmbeddingSimilarity)   (None, 128, 119547)  119547      MLM-Norm[0][0]                   \n",
            "                                                                 Embedding-Token[0][1]            \n",
            "__________________________________________________________________________________________________\n",
            "Input-Masked (InputLayer)       (None, 128)          0                                            \n",
            "__________________________________________________________________________________________________\n",
            "NSP-Dense (Dense)               (None, 768)          590592      Extract[0][0]                    \n",
            "__________________________________________________________________________________________________\n",
            "MLM (Masked)                    (None, 128, 119547)  0           MLM-Sim[0][0]                    \n",
            "                                                                 Input-Masked[0][0]               \n",
            "__________________________________________________________________________________________________\n",
            "NSP (Dense)                     (None, 2)            1538        NSP-Dense[0][0]                  \n",
            "==================================================================================================\n",
            "Total params: 178,271,741\n",
            "Trainable params: 178,271,741\n",
            "Non-trainable params: 0\n",
            "__________________________________________________________________________________________________\n"
          ],
          "name": "stdout"
        }
      ]
    },
    {
      "cell_type": "markdown",
      "metadata": {
        "colab_type": "text",
        "id": "g1N8hZvNMMWL"
      },
      "source": [
        "가장 중요한 부분인데요, 사전학습 파일을 로드하여, 우리가 불러들였던 사전학습 모델을 변형해줍니다.  \n",
        "  \n",
        "\n",
        "input으로는 우리가 문장을 토큰화 하여 숫자로 변형시켜주었던 **토큰 벡터와**, 앞문장인지 뒷문장인지 알려주는 **세그멘트** 두 가지가 되겠습니다.  \n",
        "  \n",
        "즉 인풋은 inputs = modle.inputs[:2]로 정의하였습니다.  \n",
        "  \n",
        "  \n",
        "그리고 output은 일단 사전학습 모델을 약간 잘라줍니다.(outputs=Dense(1)) 맨 위 3층을 잘라 낸다음에 잘라낸 부분에 긍정인지 부정인지 알려주는 **Dense(1)을 사전학습 모델에 애드온 시켜 줍니다.**  \n",
        "\n",
        "Dense(1)은 아웃풋이 하나로, **문장이 긍정에 가까우면 0에 가까운 값**을, **부정에 가까우면 1에 가까운 값**을 출력해주는 레이어입니다.\n",
        "\n",
        "\n",
        "\n",
        "그리고 사전 설치하였던 Radam을 활용하여 deep learning의 기울기 강하 훈련을 하도록 정해줍니다. 그 다음에 bert_model을 return해 줍니다."
      ]
    },
    {
      "cell_type": "code",
      "metadata": {
        "colab_type": "code",
        "id": "8ihc_AiRIm1w",
        "colab": {}
      },
      "source": [
        "def get_bert_finetuning_model(model):\n",
        "  inputs = model.inputs[:2]\n",
        "  dense = model.layers[-3].output\n",
        "\n",
        "\n",
        "  outputs = keras.layers.Dense(5, activation='softmax',kernel_initializer=keras.initializers.TruncatedNormal(stddev=0.02),\n",
        "                              name = 'real_output')(dense)\n",
        "\n",
        "\n",
        "\n",
        "  bert_model = keras.models.Model(inputs, outputs)\n",
        "  bert_model.compile(\n",
        "      optimizer=RAdam(learning_rate=0.00001, weight_decay=0.0025),\n",
        "      loss='categorical_crossentropy',\n",
        "      metrics=['accuracy'])\n",
        "  \n",
        "  return bert_model\n",
        "  "
      ],
      "execution_count": 0,
      "outputs": []
    },
    {
      "cell_type": "markdown",
      "metadata": {
        "colab_type": "text",
        "id": "H2LAk6d5dm4A"
      },
      "source": [
        "**모델의 FLOW를 확인해 보도록 하겠습니다.**"
      ]
    },
    {
      "cell_type": "code",
      "metadata": {
        "colab_type": "code",
        "id": "scWw12ysbPZ9",
        "outputId": "d892bf60-b74f-43c9-8b20-c675d73a7435",
        "colab": {
          "base_uri": "https://localhost:8080/",
          "height": 1000
        }
      },
      "source": [
        "from IPython.display import SVG\n",
        "from keras.utils import model_to_dot\n",
        "\n",
        "\n",
        "SVG(model_to_dot(get_bert_finetuning_model(model), dpi=65).create(prog='dot', format='svg'))\n"
      ],
      "execution_count": 29,
      "outputs": [
        {
          "output_type": "stream",
          "text": [
            "WARNING:tensorflow:From /usr/local/lib/python3.6/dist-packages/keras/optimizers.py:793: The name tf.train.Optimizer is deprecated. Please use tf.compat.v1.train.Optimizer instead.\n",
            "\n",
            "WARNING:tensorflow:From /usr/local/lib/python3.6/dist-packages/keras/backend/tensorflow_backend.py:3576: The name tf.log is deprecated. Please use tf.math.log instead.\n",
            "\n"
          ],
          "name": "stdout"
        },
        {
          "output_type": "execute_result",
          "data": {
            "text/plain": [
              "<IPython.core.display.SVG object>"
            ],
            "image/svg+xml": "<svg height=\"6895pt\" viewBox=\"0.00 0.00 549.50 7637.00\" width=\"496pt\" xmlns=\"http://www.w3.org/2000/svg\" xmlns:xlink=\"http://www.w3.org/1999/xlink\">\n<g class=\"graph\" id=\"graph0\" transform=\"scale(.9028 .9028) rotate(0) translate(4 7633)\">\n<title>G</title>\n<polygon fill=\"#ffffff\" points=\"-4,4 -4,-7633 545.5,-7633 545.5,4 -4,4\" stroke=\"transparent\"/>\n<!-- 140707564026288 -->\n<g class=\"node\" id=\"node1\">\n<title>140707564026288</title>\n<polygon fill=\"none\" points=\"110.5,-7592.5 110.5,-7628.5 270.5,-7628.5 270.5,-7592.5 110.5,-7592.5\" stroke=\"#000000\"/>\n<text fill=\"#000000\" font-family=\"Times,serif\" font-size=\"14.00\" text-anchor=\"middle\" x=\"190.5\" y=\"-7606.8\">Input-Token: InputLayer</text>\n</g>\n<!-- 140707564024832 -->\n<g class=\"node\" id=\"node3\">\n<title>140707564024832</title>\n<polygon fill=\"none\" points=\"72,-7519.5 72,-7555.5 309,-7555.5 309,-7519.5 72,-7519.5\" stroke=\"#000000\"/>\n<text fill=\"#000000\" font-family=\"Times,serif\" font-size=\"14.00\" text-anchor=\"middle\" x=\"190.5\" y=\"-7533.8\">Embedding-Token: TokenEmbedding</text>\n</g>\n<!-- 140707564026288&#45;&gt;140707564024832 -->\n<g class=\"edge\" id=\"edge1\">\n<title>140707564026288-&gt;140707564024832</title>\n<path d=\"M190.5,-7592.4551C190.5,-7584.3828 190.5,-7574.6764 190.5,-7565.6817\" fill=\"none\" stroke=\"#000000\"/>\n<polygon fill=\"#000000\" points=\"194.0001,-7565.5903 190.5,-7555.5904 187.0001,-7565.5904 194.0001,-7565.5903\" stroke=\"#000000\"/>\n</g>\n<!-- 140707564025840 -->\n<g class=\"node\" id=\"node2\">\n<title>140707564025840</title>\n<polygon fill=\"none\" points=\"348,-7592.5 348,-7628.5 521,-7628.5 521,-7592.5 348,-7592.5\" stroke=\"#000000\"/>\n<text fill=\"#000000\" font-family=\"Times,serif\" font-size=\"14.00\" text-anchor=\"middle\" x=\"434.5\" y=\"-7606.8\">Input-Segment: InputLayer</text>\n</g>\n<!-- 140707564024440 -->\n<g class=\"node\" id=\"node4\">\n<title>140707564024440</title>\n<polygon fill=\"none\" points=\"327.5,-7519.5 327.5,-7555.5 541.5,-7555.5 541.5,-7519.5 327.5,-7519.5\" stroke=\"#000000\"/>\n<text fill=\"#000000\" font-family=\"Times,serif\" font-size=\"14.00\" text-anchor=\"middle\" x=\"434.5\" y=\"-7533.8\">Embedding-Segment: Embedding</text>\n</g>\n<!-- 140707564025840&#45;&gt;140707564024440 -->\n<g class=\"edge\" id=\"edge2\">\n<title>140707564025840-&gt;140707564024440</title>\n<path d=\"M434.5,-7592.4551C434.5,-7584.3828 434.5,-7574.6764 434.5,-7565.6817\" fill=\"none\" stroke=\"#000000\"/>\n<polygon fill=\"#000000\" points=\"438.0001,-7565.5903 434.5,-7555.5904 431.0001,-7565.5904 438.0001,-7565.5903\" stroke=\"#000000\"/>\n</g>\n<!-- 140707564026904 -->\n<g class=\"node\" id=\"node5\">\n<title>140707564026904</title>\n<polygon fill=\"none\" points=\"206.5,-7446.5 206.5,-7482.5 418.5,-7482.5 418.5,-7446.5 206.5,-7446.5\" stroke=\"#000000\"/>\n<text fill=\"#000000\" font-family=\"Times,serif\" font-size=\"14.00\" text-anchor=\"middle\" x=\"312.5\" y=\"-7460.8\">Embedding-Token-Segment: Add</text>\n</g>\n<!-- 140707564024832&#45;&gt;140707564026904 -->\n<g class=\"edge\" id=\"edge3\">\n<title>140707564024832-&gt;140707564026904</title>\n<path d=\"M220.6573,-7519.4551C236.6407,-7509.8912 256.4579,-7498.0334 273.5882,-7487.7833\" fill=\"none\" stroke=\"#000000\"/>\n<polygon fill=\"#000000\" points=\"275.4828,-7490.7284 282.2668,-7482.5904 271.8885,-7484.7216 275.4828,-7490.7284\" stroke=\"#000000\"/>\n</g>\n<!-- 140707564024440&#45;&gt;140707564026904 -->\n<g class=\"edge\" id=\"edge4\">\n<title>140707564024440-&gt;140707564026904</title>\n<path d=\"M404.3427,-7519.4551C388.3593,-7509.8912 368.5421,-7498.0334 351.4118,-7487.7833\" fill=\"none\" stroke=\"#000000\"/>\n<polygon fill=\"#000000\" points=\"353.1115,-7484.7216 342.7332,-7482.5904 349.5172,-7490.7284 353.1115,-7484.7216\" stroke=\"#000000\"/>\n</g>\n<!-- 140707549378600 -->\n<g class=\"node\" id=\"node6\">\n<title>140707549378600</title>\n<polygon fill=\"none\" points=\"183.5,-7373.5 183.5,-7409.5 441.5,-7409.5 441.5,-7373.5 183.5,-7373.5\" stroke=\"#000000\"/>\n<text fill=\"#000000\" font-family=\"Times,serif\" font-size=\"14.00\" text-anchor=\"middle\" x=\"312.5\" y=\"-7387.8\">Embedding-Position: PositionEmbedding</text>\n</g>\n<!-- 140707564026904&#45;&gt;140707549378600 -->\n<g class=\"edge\" id=\"edge5\">\n<title>140707564026904-&gt;140707549378600</title>\n<path d=\"M312.5,-7446.4551C312.5,-7438.3828 312.5,-7428.6764 312.5,-7419.6817\" fill=\"none\" stroke=\"#000000\"/>\n<polygon fill=\"#000000\" points=\"316.0001,-7419.5903 312.5,-7409.5904 309.0001,-7419.5904 316.0001,-7419.5903\" stroke=\"#000000\"/>\n</g>\n<!-- 140707548345680 -->\n<g class=\"node\" id=\"node7\">\n<title>140707548345680</title>\n<polygon fill=\"none\" points=\"215.5,-7300.5 215.5,-7336.5 409.5,-7336.5 409.5,-7300.5 215.5,-7300.5\" stroke=\"#000000\"/>\n<text fill=\"#000000\" font-family=\"Times,serif\" font-size=\"14.00\" text-anchor=\"middle\" x=\"312.5\" y=\"-7314.8\">Embedding-Dropout: Dropout</text>\n</g>\n<!-- 140707549378600&#45;&gt;140707548345680 -->\n<g class=\"edge\" id=\"edge6\">\n<title>140707549378600-&gt;140707548345680</title>\n<path d=\"M312.5,-7373.4551C312.5,-7365.3828 312.5,-7355.6764 312.5,-7346.6817\" fill=\"none\" stroke=\"#000000\"/>\n<polygon fill=\"#000000\" points=\"316.0001,-7346.5903 312.5,-7336.5904 309.0001,-7346.5904 316.0001,-7346.5903\" stroke=\"#000000\"/>\n</g>\n<!-- 140707547895792 -->\n<g class=\"node\" id=\"node8\">\n<title>140707547895792</title>\n<polygon fill=\"none\" points=\"190,-7227.5 190,-7263.5 435,-7263.5 435,-7227.5 190,-7227.5\" stroke=\"#000000\"/>\n<text fill=\"#000000\" font-family=\"Times,serif\" font-size=\"14.00\" text-anchor=\"middle\" x=\"312.5\" y=\"-7241.8\">Embedding-Norm: LayerNormalization</text>\n</g>\n<!-- 140707548345680&#45;&gt;140707547895792 -->\n<g class=\"edge\" id=\"edge7\">\n<title>140707548345680-&gt;140707547895792</title>\n<path d=\"M312.5,-7300.4551C312.5,-7292.3828 312.5,-7282.6764 312.5,-7273.6817\" fill=\"none\" stroke=\"#000000\"/>\n<polygon fill=\"#000000\" points=\"316.0001,-7273.5903 312.5,-7263.5904 309.0001,-7273.5904 316.0001,-7273.5903\" stroke=\"#000000\"/>\n</g>\n<!-- 140707547948928 -->\n<g class=\"node\" id=\"node9\">\n<title>140707547948928</title>\n<polygon fill=\"none\" points=\"42.5,-7154.5 42.5,-7190.5 384.5,-7190.5 384.5,-7154.5 42.5,-7154.5\" stroke=\"#000000\"/>\n<text fill=\"#000000\" font-family=\"Times,serif\" font-size=\"14.00\" text-anchor=\"middle\" x=\"213.5\" y=\"-7168.8\">Encoder-1-MultiHeadSelfAttention: MultiHeadAttention</text>\n</g>\n<!-- 140707547895792&#45;&gt;140707547948928 -->\n<g class=\"edge\" id=\"edge8\">\n<title>140707547895792-&gt;140707547948928</title>\n<path d=\"M288.0281,-7227.4551C275.4149,-7218.1545 259.8597,-7206.6844 246.2286,-7196.6332\" fill=\"none\" stroke=\"#000000\"/>\n<polygon fill=\"#000000\" points=\"248.1592,-7193.7082 238.0335,-7190.5904 244.0049,-7199.3421 248.1592,-7193.7082\" stroke=\"#000000\"/>\n</g>\n<!-- 140707538609376 -->\n<g class=\"node\" id=\"node11\">\n<title>140707538609376</title>\n<polygon fill=\"none\" points=\"173,-7008.5 173,-7044.5 454,-7044.5 454,-7008.5 173,-7008.5\" stroke=\"#000000\"/>\n<text fill=\"#000000\" font-family=\"Times,serif\" font-size=\"14.00\" text-anchor=\"middle\" x=\"313.5\" y=\"-7022.8\">Encoder-1-MultiHeadSelfAttention-Add: Add</text>\n</g>\n<!-- 140707547895792&#45;&gt;140707538609376 -->\n<g class=\"edge\" id=\"edge10\">\n<title>140707547895792-&gt;140707538609376</title>\n<path d=\"M355.0685,-7227.3804C370.0065,-7218.7 385.1359,-7206.7088 393.5,-7191 401.1793,-7176.5774 400.9885,-7100.2923 390.5,-7081 383.7016,-7068.4953 372.6452,-7058.1998 361.0052,-7050.0548\" fill=\"none\" stroke=\"#000000\"/>\n<polygon fill=\"#000000\" points=\"362.7688,-7047.0266 352.4788,-7044.5031 358.9492,-7052.8927 362.7688,-7047.0266\" stroke=\"#000000\"/>\n</g>\n<!-- 140707547980296 -->\n<g class=\"node\" id=\"node10\">\n<title>140707547980296</title>\n<polygon fill=\"none\" points=\"53,-7081.5 53,-7117.5 382,-7117.5 382,-7081.5 53,-7081.5\" stroke=\"#000000\"/>\n<text fill=\"#000000\" font-family=\"Times,serif\" font-size=\"14.00\" text-anchor=\"middle\" x=\"217.5\" y=\"-7095.8\">Encoder-1-MultiHeadSelfAttention-Dropout: Dropout</text>\n</g>\n<!-- 140707547948928&#45;&gt;140707547980296 -->\n<g class=\"edge\" id=\"edge9\">\n<title>140707547948928-&gt;140707547980296</title>\n<path d=\"M214.4888,-7154.4551C214.9311,-7146.3828 215.4629,-7136.6764 215.9558,-7127.6817\" fill=\"none\" stroke=\"#000000\"/>\n<polygon fill=\"#000000\" points=\"219.4563,-7127.7669 216.5087,-7117.5904 212.4668,-7127.3839 219.4563,-7127.7669\" stroke=\"#000000\"/>\n</g>\n<!-- 140707547980296&#45;&gt;140707538609376 -->\n<g class=\"edge\" id=\"edge11\">\n<title>140707547980296-&gt;140707538609376</title>\n<path d=\"M241.2303,-7081.4551C253.3459,-7072.2422 268.2608,-7060.9006 281.3886,-7050.918\" fill=\"none\" stroke=\"#000000\"/>\n<polygon fill=\"#000000\" points=\"283.8684,-7053.4293 289.7099,-7044.5904 279.6314,-7047.8573 283.8684,-7053.4293\" stroke=\"#000000\"/>\n</g>\n<!-- 140707538979472 -->\n<g class=\"node\" id=\"node12\">\n<title>140707538979472</title>\n<polygon fill=\"none\" points=\"123.5,-6935.5 123.5,-6971.5 503.5,-6971.5 503.5,-6935.5 123.5,-6935.5\" stroke=\"#000000\"/>\n<text fill=\"#000000\" font-family=\"Times,serif\" font-size=\"14.00\" text-anchor=\"middle\" x=\"313.5\" y=\"-6949.8\">Encoder-1-MultiHeadSelfAttention-Norm: LayerNormalization</text>\n</g>\n<!-- 140707538609376&#45;&gt;140707538979472 -->\n<g class=\"edge\" id=\"edge12\">\n<title>140707538609376-&gt;140707538979472</title>\n<path d=\"M313.5,-7008.4551C313.5,-7000.3828 313.5,-6990.6764 313.5,-6981.6817\" fill=\"none\" stroke=\"#000000\"/>\n<polygon fill=\"#000000\" points=\"317.0001,-6981.5903 313.5,-6971.5904 310.0001,-6981.5904 317.0001,-6981.5903\" stroke=\"#000000\"/>\n</g>\n<!-- 140707538980368 -->\n<g class=\"node\" id=\"node13\">\n<title>140707538980368</title>\n<polygon fill=\"none\" points=\"118.5,-6862.5 118.5,-6898.5 360.5,-6898.5 360.5,-6862.5 118.5,-6862.5\" stroke=\"#000000\"/>\n<text fill=\"#000000\" font-family=\"Times,serif\" font-size=\"14.00\" text-anchor=\"middle\" x=\"239.5\" y=\"-6876.8\">Encoder-1-FeedForward: FeedForward</text>\n</g>\n<!-- 140707538979472&#45;&gt;140707538980368 -->\n<g class=\"edge\" id=\"edge13\">\n<title>140707538979472-&gt;140707538980368</title>\n<path d=\"M295.2079,-6935.4551C286.1356,-6926.5054 275.0271,-6915.547 265.1232,-6905.7769\" fill=\"none\" stroke=\"#000000\"/>\n<polygon fill=\"#000000\" points=\"267.4152,-6903.1215 257.8382,-6898.5904 262.4992,-6908.1049 267.4152,-6903.1215\" stroke=\"#000000\"/>\n</g>\n<!-- 140707539211096 -->\n<g class=\"node\" id=\"node15\">\n<title>140707539211096</title>\n<polygon fill=\"none\" points=\"203.5,-6716.5 203.5,-6752.5 423.5,-6752.5 423.5,-6716.5 203.5,-6716.5\" stroke=\"#000000\"/>\n<text fill=\"#000000\" font-family=\"Times,serif\" font-size=\"14.00\" text-anchor=\"middle\" x=\"313.5\" y=\"-6730.8\">Encoder-1-FeedForward-Add: Add</text>\n</g>\n<!-- 140707538979472&#45;&gt;140707539211096 -->\n<g class=\"edge\" id=\"edge15\">\n<title>140707538979472-&gt;140707539211096</title>\n<path d=\"M339.1147,-6935.4444C350.4534,-6925.9752 362.7322,-6913.3575 369.5,-6899 390.3764,-6854.7122 395.6809,-6833.609 375.5,-6789 370.2852,-6777.4728 361.2939,-6767.4147 351.751,-6759.1833\" fill=\"none\" stroke=\"#000000\"/>\n<polygon fill=\"#000000\" points=\"353.6666,-6756.2331 343.676,-6752.7064 349.2868,-6761.6936 353.6666,-6756.2331\" stroke=\"#000000\"/>\n</g>\n<!-- 140707539157456 -->\n<g class=\"node\" id=\"node14\">\n<title>140707539157456</title>\n<polygon fill=\"none\" points=\"99,-6789.5 99,-6825.5 366,-6825.5 366,-6789.5 99,-6789.5\" stroke=\"#000000\"/>\n<text fill=\"#000000\" font-family=\"Times,serif\" font-size=\"14.00\" text-anchor=\"middle\" x=\"232.5\" y=\"-6803.8\">Encoder-1-FeedForward-Dropout: Dropout</text>\n</g>\n<!-- 140707538980368&#45;&gt;140707539157456 -->\n<g class=\"edge\" id=\"edge14\">\n<title>140707538980368-&gt;140707539157456</title>\n<path d=\"M237.7697,-6862.4551C236.9956,-6854.3828 236.0649,-6844.6764 235.2024,-6835.6817\" fill=\"none\" stroke=\"#000000\"/>\n<polygon fill=\"#000000\" points=\"238.6733,-6835.2106 234.2347,-6825.5904 231.7053,-6835.8788 238.6733,-6835.2106\" stroke=\"#000000\"/>\n</g>\n<!-- 140707539157456&#45;&gt;140707539211096 -->\n<g class=\"edge\" id=\"edge16\">\n<title>140707539157456-&gt;140707539211096</title>\n<path d=\"M252.5225,-6789.4551C262.5502,-6780.4177 274.8509,-6769.3319 285.7714,-6759.4899\" fill=\"none\" stroke=\"#000000\"/>\n<polygon fill=\"#000000\" points=\"288.3419,-6761.885 293.4271,-6752.5904 283.6556,-6756.6852 288.3419,-6761.885\" stroke=\"#000000\"/>\n</g>\n<!-- 140707539334704 -->\n<g class=\"node\" id=\"node16\">\n<title>140707539334704</title>\n<polygon fill=\"none\" points=\"154.5,-6643.5 154.5,-6679.5 472.5,-6679.5 472.5,-6643.5 154.5,-6643.5\" stroke=\"#000000\"/>\n<text fill=\"#000000\" font-family=\"Times,serif\" font-size=\"14.00\" text-anchor=\"middle\" x=\"313.5\" y=\"-6657.8\">Encoder-1-FeedForward-Norm: LayerNormalization</text>\n</g>\n<!-- 140707539211096&#45;&gt;140707539334704 -->\n<g class=\"edge\" id=\"edge17\">\n<title>140707539211096-&gt;140707539334704</title>\n<path d=\"M313.5,-6716.4551C313.5,-6708.3828 313.5,-6698.6764 313.5,-6689.6817\" fill=\"none\" stroke=\"#000000\"/>\n<polygon fill=\"#000000\" points=\"317.0001,-6689.5903 313.5,-6679.5904 310.0001,-6689.5904 317.0001,-6689.5903\" stroke=\"#000000\"/>\n</g>\n<!-- 140707539336888 -->\n<g class=\"node\" id=\"node17\">\n<title>140707539336888</title>\n<polygon fill=\"none\" points=\"43.5,-6570.5 43.5,-6606.5 385.5,-6606.5 385.5,-6570.5 43.5,-6570.5\" stroke=\"#000000\"/>\n<text fill=\"#000000\" font-family=\"Times,serif\" font-size=\"14.00\" text-anchor=\"middle\" x=\"214.5\" y=\"-6584.8\">Encoder-2-MultiHeadSelfAttention: MultiHeadAttention</text>\n</g>\n<!-- 140707539334704&#45;&gt;140707539336888 -->\n<g class=\"edge\" id=\"edge18\">\n<title>140707539334704-&gt;140707539336888</title>\n<path d=\"M289.0281,-6643.4551C276.4149,-6634.1545 260.8597,-6622.6844 247.2286,-6612.6332\" fill=\"none\" stroke=\"#000000\"/>\n<polygon fill=\"#000000\" points=\"249.1592,-6609.7082 239.0335,-6606.5904 245.0049,-6615.3421 249.1592,-6609.7082\" stroke=\"#000000\"/>\n</g>\n<!-- 140707538181760 -->\n<g class=\"node\" id=\"node19\">\n<title>140707538181760</title>\n<polygon fill=\"none\" points=\"175,-6424.5 175,-6460.5 456,-6460.5 456,-6424.5 175,-6424.5\" stroke=\"#000000\"/>\n<text fill=\"#000000\" font-family=\"Times,serif\" font-size=\"14.00\" text-anchor=\"middle\" x=\"315.5\" y=\"-6438.8\">Encoder-2-MultiHeadSelfAttention-Add: Add</text>\n</g>\n<!-- 140707539334704&#45;&gt;140707538181760 -->\n<g class=\"edge\" id=\"edge20\">\n<title>140707539334704-&gt;140707538181760</title>\n<path d=\"M356.0685,-6643.3804C371.0065,-6634.7 386.1359,-6622.7088 394.5,-6607 402.5894,-6591.8071 400.2511,-6514.9102 390.5,-6497 383.7494,-6484.601 372.8204,-6474.3006 361.3687,-6466.1162\" fill=\"none\" stroke=\"#000000\"/>\n<polygon fill=\"#000000\" points=\"363.2521,-6463.1654 352.99,-6460.531 359.3694,-6468.9899 363.2521,-6463.1654\" stroke=\"#000000\"/>\n</g>\n<!-- 140707539428632 -->\n<g class=\"node\" id=\"node18\">\n<title>140707539428632</title>\n<polygon fill=\"none\" points=\"53,-6497.5 53,-6533.5 382,-6533.5 382,-6497.5 53,-6497.5\" stroke=\"#000000\"/>\n<text fill=\"#000000\" font-family=\"Times,serif\" font-size=\"14.00\" text-anchor=\"middle\" x=\"217.5\" y=\"-6511.8\">Encoder-2-MultiHeadSelfAttention-Dropout: Dropout</text>\n</g>\n<!-- 140707539336888&#45;&gt;140707539428632 -->\n<g class=\"edge\" id=\"edge19\">\n<title>140707539336888-&gt;140707539428632</title>\n<path d=\"M215.2416,-6570.4551C215.5733,-6562.3828 215.9722,-6552.6764 216.3418,-6543.6817\" fill=\"none\" stroke=\"#000000\"/>\n<polygon fill=\"#000000\" points=\"219.8429,-6543.7257 216.7566,-6533.5904 212.8488,-6543.4382 219.8429,-6543.7257\" stroke=\"#000000\"/>\n</g>\n<!-- 140707539428632&#45;&gt;140707538181760 -->\n<g class=\"edge\" id=\"edge21\">\n<title>140707539428632-&gt;140707538181760</title>\n<path d=\"M241.7247,-6497.4551C254.2105,-6488.1545 269.6086,-6476.6844 283.102,-6466.6332\" fill=\"none\" stroke=\"#000000\"/>\n<polygon fill=\"#000000\" points=\"285.2855,-6469.371 291.2143,-6460.5904 281.1039,-6463.7573 285.2855,-6469.371\" stroke=\"#000000\"/>\n</g>\n<!-- 140707537772496 -->\n<g class=\"node\" id=\"node20\">\n<title>140707537772496</title>\n<polygon fill=\"none\" points=\"125.5,-6351.5 125.5,-6387.5 505.5,-6387.5 505.5,-6351.5 125.5,-6351.5\" stroke=\"#000000\"/>\n<text fill=\"#000000\" font-family=\"Times,serif\" font-size=\"14.00\" text-anchor=\"middle\" x=\"315.5\" y=\"-6365.8\">Encoder-2-MultiHeadSelfAttention-Norm: LayerNormalization</text>\n</g>\n<!-- 140707538181760&#45;&gt;140707537772496 -->\n<g class=\"edge\" id=\"edge22\">\n<title>140707538181760-&gt;140707537772496</title>\n<path d=\"M315.5,-6424.4551C315.5,-6416.3828 315.5,-6406.6764 315.5,-6397.6817\" fill=\"none\" stroke=\"#000000\"/>\n<polygon fill=\"#000000\" points=\"319.0001,-6397.5903 315.5,-6387.5904 312.0001,-6397.5904 319.0001,-6397.5903\" stroke=\"#000000\"/>\n</g>\n<!-- 140707537771264 -->\n<g class=\"node\" id=\"node21\">\n<title>140707537771264</title>\n<polygon fill=\"none\" points=\"113.5,-6278.5 113.5,-6314.5 355.5,-6314.5 355.5,-6278.5 113.5,-6278.5\" stroke=\"#000000\"/>\n<text fill=\"#000000\" font-family=\"Times,serif\" font-size=\"14.00\" text-anchor=\"middle\" x=\"234.5\" y=\"-6292.8\">Encoder-2-FeedForward: FeedForward</text>\n</g>\n<!-- 140707537772496&#45;&gt;140707537771264 -->\n<g class=\"edge\" id=\"edge23\">\n<title>140707537772496-&gt;140707537771264</title>\n<path d=\"M295.4775,-6351.4551C285.4498,-6342.4177 273.1491,-6331.3319 262.2286,-6321.4899\" fill=\"none\" stroke=\"#000000\"/>\n<polygon fill=\"#000000\" points=\"264.3444,-6318.6852 254.5729,-6314.5904 259.6581,-6323.885 264.3444,-6318.6852\" stroke=\"#000000\"/>\n</g>\n<!-- 140707537149512 -->\n<g class=\"node\" id=\"node23\">\n<title>140707537149512</title>\n<polygon fill=\"none\" points=\"199.5,-6132.5 199.5,-6168.5 419.5,-6168.5 419.5,-6132.5 199.5,-6132.5\" stroke=\"#000000\"/>\n<text fill=\"#000000\" font-family=\"Times,serif\" font-size=\"14.00\" text-anchor=\"middle\" x=\"309.5\" y=\"-6146.8\">Encoder-2-FeedForward-Add: Add</text>\n</g>\n<!-- 140707537772496&#45;&gt;140707537149512 -->\n<g class=\"edge\" id=\"edge25\">\n<title>140707537772496-&gt;140707537149512</title>\n<path d=\"M337.3471,-6351.291C347.3936,-6341.6134 358.4097,-6328.8624 364.5,-6315 384.2044,-6270.1498 391.6917,-6249.6329 371.5,-6205 366.2852,-6193.4728 357.2939,-6183.4147 347.751,-6175.1833\" fill=\"none\" stroke=\"#000000\"/>\n<polygon fill=\"#000000\" points=\"349.6666,-6172.2331 339.676,-6168.7064 345.2868,-6177.6936 349.6666,-6172.2331\" stroke=\"#000000\"/>\n</g>\n<!-- 140707537081568 -->\n<g class=\"node\" id=\"node22\">\n<title>140707537081568</title>\n<polygon fill=\"none\" points=\"95,-6205.5 95,-6241.5 362,-6241.5 362,-6205.5 95,-6205.5\" stroke=\"#000000\"/>\n<text fill=\"#000000\" font-family=\"Times,serif\" font-size=\"14.00\" text-anchor=\"middle\" x=\"228.5\" y=\"-6219.8\">Encoder-2-FeedForward-Dropout: Dropout</text>\n</g>\n<!-- 140707537771264&#45;&gt;140707537081568 -->\n<g class=\"edge\" id=\"edge24\">\n<title>140707537771264-&gt;140707537081568</title>\n<path d=\"M233.0169,-6278.4551C232.3534,-6270.3828 231.5556,-6260.6764 230.8163,-6251.6817\" fill=\"none\" stroke=\"#000000\"/>\n<polygon fill=\"#000000\" points=\"234.2944,-6251.27 229.9869,-6241.5904 227.3179,-6251.8435 234.2944,-6251.27\" stroke=\"#000000\"/>\n</g>\n<!-- 140707537081568&#45;&gt;140707537149512 -->\n<g class=\"edge\" id=\"edge26\">\n<title>140707537081568-&gt;140707537149512</title>\n<path d=\"M248.5225,-6205.4551C258.5502,-6196.4177 270.8509,-6185.3319 281.7714,-6175.4899\" fill=\"none\" stroke=\"#000000\"/>\n<polygon fill=\"#000000\" points=\"284.3419,-6177.885 289.4271,-6168.5904 279.6556,-6172.6852 284.3419,-6177.885\" stroke=\"#000000\"/>\n</g>\n<!-- 140707537311504 -->\n<g class=\"node\" id=\"node24\">\n<title>140707537311504</title>\n<polygon fill=\"none\" points=\"150.5,-6059.5 150.5,-6095.5 468.5,-6095.5 468.5,-6059.5 150.5,-6059.5\" stroke=\"#000000\"/>\n<text fill=\"#000000\" font-family=\"Times,serif\" font-size=\"14.00\" text-anchor=\"middle\" x=\"309.5\" y=\"-6073.8\">Encoder-2-FeedForward-Norm: LayerNormalization</text>\n</g>\n<!-- 140707537149512&#45;&gt;140707537311504 -->\n<g class=\"edge\" id=\"edge27\">\n<title>140707537149512-&gt;140707537311504</title>\n<path d=\"M309.5,-6132.4551C309.5,-6124.3828 309.5,-6114.6764 309.5,-6105.6817\" fill=\"none\" stroke=\"#000000\"/>\n<polygon fill=\"#000000\" points=\"313.0001,-6105.5903 309.5,-6095.5904 306.0001,-6105.5904 313.0001,-6105.5903\" stroke=\"#000000\"/>\n</g>\n<!-- 140707537313352 -->\n<g class=\"node\" id=\"node25\">\n<title>140707537313352</title>\n<polygon fill=\"none\" points=\"39.5,-5986.5 39.5,-6022.5 381.5,-6022.5 381.5,-5986.5 39.5,-5986.5\" stroke=\"#000000\"/>\n<text fill=\"#000000\" font-family=\"Times,serif\" font-size=\"14.00\" text-anchor=\"middle\" x=\"210.5\" y=\"-6000.8\">Encoder-3-MultiHeadSelfAttention: MultiHeadAttention</text>\n</g>\n<!-- 140707537311504&#45;&gt;140707537313352 -->\n<g class=\"edge\" id=\"edge28\">\n<title>140707537311504-&gt;140707537313352</title>\n<path d=\"M285.0281,-6059.4551C272.4149,-6050.1545 256.8597,-6038.6844 243.2286,-6028.6332\" fill=\"none\" stroke=\"#000000\"/>\n<polygon fill=\"#000000\" points=\"245.1592,-6025.7082 235.0335,-6022.5904 241.0049,-6031.3421 245.1592,-6025.7082\" stroke=\"#000000\"/>\n</g>\n<!-- 140707536944936 -->\n<g class=\"node\" id=\"node27\">\n<title>140707536944936</title>\n<polygon fill=\"none\" points=\"171,-5840.5 171,-5876.5 452,-5876.5 452,-5840.5 171,-5840.5\" stroke=\"#000000\"/>\n<text fill=\"#000000\" font-family=\"Times,serif\" font-size=\"14.00\" text-anchor=\"middle\" x=\"311.5\" y=\"-5854.8\">Encoder-3-MultiHeadSelfAttention-Add: Add</text>\n</g>\n<!-- 140707537311504&#45;&gt;140707536944936 -->\n<g class=\"edge\" id=\"edge30\">\n<title>140707537311504-&gt;140707536944936</title>\n<path d=\"M352.0685,-6059.3804C367.0065,-6050.7 382.1359,-6038.7088 390.5,-6023 398.5894,-6007.8071 396.2511,-5930.9102 386.5,-5913 379.7494,-5900.601 368.8204,-5890.3006 357.3687,-5882.1162\" fill=\"none\" stroke=\"#000000\"/>\n<polygon fill=\"#000000\" points=\"359.2521,-5879.1654 348.99,-5876.531 355.3694,-5884.9899 359.2521,-5879.1654\" stroke=\"#000000\"/>\n</g>\n<!-- 140707536878728 -->\n<g class=\"node\" id=\"node26\">\n<title>140707536878728</title>\n<polygon fill=\"none\" points=\"49,-5913.5 49,-5949.5 378,-5949.5 378,-5913.5 49,-5913.5\" stroke=\"#000000\"/>\n<text fill=\"#000000\" font-family=\"Times,serif\" font-size=\"14.00\" text-anchor=\"middle\" x=\"213.5\" y=\"-5927.8\">Encoder-3-MultiHeadSelfAttention-Dropout: Dropout</text>\n</g>\n<!-- 140707537313352&#45;&gt;140707536878728 -->\n<g class=\"edge\" id=\"edge29\">\n<title>140707537313352-&gt;140707536878728</title>\n<path d=\"M211.2416,-5986.4551C211.5733,-5978.3828 211.9722,-5968.6764 212.3418,-5959.6817\" fill=\"none\" stroke=\"#000000\"/>\n<polygon fill=\"#000000\" points=\"215.8429,-5959.7257 212.7566,-5949.5904 208.8488,-5959.4382 215.8429,-5959.7257\" stroke=\"#000000\"/>\n</g>\n<!-- 140707536878728&#45;&gt;140707536944936 -->\n<g class=\"edge\" id=\"edge31\">\n<title>140707536878728-&gt;140707536944936</title>\n<path d=\"M237.7247,-5913.4551C250.2105,-5904.1545 265.6086,-5892.6844 279.102,-5882.6332\" fill=\"none\" stroke=\"#000000\"/>\n<polygon fill=\"#000000\" points=\"281.2855,-5885.371 287.2143,-5876.5904 277.1039,-5879.7573 281.2855,-5885.371\" stroke=\"#000000\"/>\n</g>\n<!-- 140707536530792 -->\n<g class=\"node\" id=\"node28\">\n<title>140707536530792</title>\n<polygon fill=\"none\" points=\"121.5,-5767.5 121.5,-5803.5 501.5,-5803.5 501.5,-5767.5 121.5,-5767.5\" stroke=\"#000000\"/>\n<text fill=\"#000000\" font-family=\"Times,serif\" font-size=\"14.00\" text-anchor=\"middle\" x=\"311.5\" y=\"-5781.8\">Encoder-3-MultiHeadSelfAttention-Norm: LayerNormalization</text>\n</g>\n<!-- 140707536944936&#45;&gt;140707536530792 -->\n<g class=\"edge\" id=\"edge32\">\n<title>140707536944936-&gt;140707536530792</title>\n<path d=\"M311.5,-5840.4551C311.5,-5832.3828 311.5,-5822.6764 311.5,-5813.6817\" fill=\"none\" stroke=\"#000000\"/>\n<polygon fill=\"#000000\" points=\"315.0001,-5813.5903 311.5,-5803.5904 308.0001,-5813.5904 315.0001,-5813.5903\" stroke=\"#000000\"/>\n</g>\n<!-- 140707536068560 -->\n<g class=\"node\" id=\"node29\">\n<title>140707536068560</title>\n<polygon fill=\"none\" points=\"109.5,-5694.5 109.5,-5730.5 351.5,-5730.5 351.5,-5694.5 109.5,-5694.5\" stroke=\"#000000\"/>\n<text fill=\"#000000\" font-family=\"Times,serif\" font-size=\"14.00\" text-anchor=\"middle\" x=\"230.5\" y=\"-5708.8\">Encoder-3-FeedForward: FeedForward</text>\n</g>\n<!-- 140707536530792&#45;&gt;140707536068560 -->\n<g class=\"edge\" id=\"edge33\">\n<title>140707536530792-&gt;140707536068560</title>\n<path d=\"M291.4775,-5767.4551C281.4498,-5758.4177 269.1491,-5747.3319 258.2286,-5737.4899\" fill=\"none\" stroke=\"#000000\"/>\n<polygon fill=\"#000000\" points=\"260.3444,-5734.6852 250.5729,-5730.5904 255.6581,-5739.885 260.3444,-5734.6852\" stroke=\"#000000\"/>\n</g>\n<!-- 140707536162544 -->\n<g class=\"node\" id=\"node31\">\n<title>140707536162544</title>\n<polygon fill=\"none\" points=\"195.5,-5548.5 195.5,-5584.5 415.5,-5584.5 415.5,-5548.5 195.5,-5548.5\" stroke=\"#000000\"/>\n<text fill=\"#000000\" font-family=\"Times,serif\" font-size=\"14.00\" text-anchor=\"middle\" x=\"305.5\" y=\"-5562.8\">Encoder-3-FeedForward-Add: Add</text>\n</g>\n<!-- 140707536530792&#45;&gt;140707536162544 -->\n<g class=\"edge\" id=\"edge35\">\n<title>140707536530792-&gt;140707536162544</title>\n<path d=\"M333.3471,-5767.291C343.3936,-5757.6134 354.4097,-5744.8624 360.5,-5731 380.2044,-5686.1498 387.6917,-5665.6329 367.5,-5621 362.2852,-5609.4728 353.2939,-5599.4147 343.751,-5591.1833\" fill=\"none\" stroke=\"#000000\"/>\n<polygon fill=\"#000000\" points=\"345.6666,-5588.2331 335.676,-5584.7064 341.2868,-5593.6936 345.6666,-5588.2331\" stroke=\"#000000\"/>\n</g>\n<!-- 140707536098864 -->\n<g class=\"node\" id=\"node30\">\n<title>140707536098864</title>\n<polygon fill=\"none\" points=\"91,-5621.5 91,-5657.5 358,-5657.5 358,-5621.5 91,-5621.5\" stroke=\"#000000\"/>\n<text fill=\"#000000\" font-family=\"Times,serif\" font-size=\"14.00\" text-anchor=\"middle\" x=\"224.5\" y=\"-5635.8\">Encoder-3-FeedForward-Dropout: Dropout</text>\n</g>\n<!-- 140707536068560&#45;&gt;140707536098864 -->\n<g class=\"edge\" id=\"edge34\">\n<title>140707536068560-&gt;140707536098864</title>\n<path d=\"M229.0169,-5694.4551C228.3534,-5686.3828 227.5556,-5676.6764 226.8163,-5667.6817\" fill=\"none\" stroke=\"#000000\"/>\n<polygon fill=\"#000000\" points=\"230.2944,-5667.27 225.9869,-5657.5904 223.3179,-5667.8435 230.2944,-5667.27\" stroke=\"#000000\"/>\n</g>\n<!-- 140707536098864&#45;&gt;140707536162544 -->\n<g class=\"edge\" id=\"edge36\">\n<title>140707536098864-&gt;140707536162544</title>\n<path d=\"M244.5225,-5621.4551C254.5502,-5612.4177 266.8509,-5601.3319 277.7714,-5591.4899\" fill=\"none\" stroke=\"#000000\"/>\n<polygon fill=\"#000000\" points=\"280.3419,-5593.885 285.4271,-5584.5904 275.6556,-5588.6852 280.3419,-5593.885\" stroke=\"#000000\"/>\n</g>\n<!-- 140707535793344 -->\n<g class=\"node\" id=\"node32\">\n<title>140707535793344</title>\n<polygon fill=\"none\" points=\"146.5,-5475.5 146.5,-5511.5 464.5,-5511.5 464.5,-5475.5 146.5,-5475.5\" stroke=\"#000000\"/>\n<text fill=\"#000000\" font-family=\"Times,serif\" font-size=\"14.00\" text-anchor=\"middle\" x=\"305.5\" y=\"-5489.8\">Encoder-3-FeedForward-Norm: LayerNormalization</text>\n</g>\n<!-- 140707536162544&#45;&gt;140707535793344 -->\n<g class=\"edge\" id=\"edge37\">\n<title>140707536162544-&gt;140707535793344</title>\n<path d=\"M305.5,-5548.4551C305.5,-5540.3828 305.5,-5530.6764 305.5,-5521.6817\" fill=\"none\" stroke=\"#000000\"/>\n<polygon fill=\"#000000\" points=\"309.0001,-5521.5903 305.5,-5511.5904 302.0001,-5521.5904 309.0001,-5521.5903\" stroke=\"#000000\"/>\n</g>\n<!-- 140707535859664 -->\n<g class=\"node\" id=\"node33\">\n<title>140707535859664</title>\n<polygon fill=\"none\" points=\"35.5,-5402.5 35.5,-5438.5 377.5,-5438.5 377.5,-5402.5 35.5,-5402.5\" stroke=\"#000000\"/>\n<text fill=\"#000000\" font-family=\"Times,serif\" font-size=\"14.00\" text-anchor=\"middle\" x=\"206.5\" y=\"-5416.8\">Encoder-4-MultiHeadSelfAttention: MultiHeadAttention</text>\n</g>\n<!-- 140707535793344&#45;&gt;140707535859664 -->\n<g class=\"edge\" id=\"edge38\">\n<title>140707535793344-&gt;140707535859664</title>\n<path d=\"M281.0281,-5475.4551C268.4149,-5466.1545 252.8597,-5454.6844 239.2286,-5444.6332\" fill=\"none\" stroke=\"#000000\"/>\n<polygon fill=\"#000000\" points=\"241.1592,-5441.7082 231.0335,-5438.5904 237.0049,-5447.3421 241.1592,-5441.7082\" stroke=\"#000000\"/>\n</g>\n<!-- 140707535948992 -->\n<g class=\"node\" id=\"node35\">\n<title>140707535948992</title>\n<polygon fill=\"none\" points=\"167,-5256.5 167,-5292.5 448,-5292.5 448,-5256.5 167,-5256.5\" stroke=\"#000000\"/>\n<text fill=\"#000000\" font-family=\"Times,serif\" font-size=\"14.00\" text-anchor=\"middle\" x=\"307.5\" y=\"-5270.8\">Encoder-4-MultiHeadSelfAttention-Add: Add</text>\n</g>\n<!-- 140707535793344&#45;&gt;140707535948992 -->\n<g class=\"edge\" id=\"edge40\">\n<title>140707535793344-&gt;140707535948992</title>\n<path d=\"M348.0685,-5475.3804C363.0065,-5466.7 378.1359,-5454.7088 386.5,-5439 394.5894,-5423.8071 392.2511,-5346.9102 382.5,-5329 375.7494,-5316.601 364.8204,-5306.3006 353.3687,-5298.1162\" fill=\"none\" stroke=\"#000000\"/>\n<polygon fill=\"#000000\" points=\"355.2521,-5295.1654 344.99,-5292.531 351.3694,-5300.9899 355.2521,-5295.1654\" stroke=\"#000000\"/>\n</g>\n<!-- 140707535897600 -->\n<g class=\"node\" id=\"node34\">\n<title>140707535897600</title>\n<polygon fill=\"none\" points=\"45,-5329.5 45,-5365.5 374,-5365.5 374,-5329.5 45,-5329.5\" stroke=\"#000000\"/>\n<text fill=\"#000000\" font-family=\"Times,serif\" font-size=\"14.00\" text-anchor=\"middle\" x=\"209.5\" y=\"-5343.8\">Encoder-4-MultiHeadSelfAttention-Dropout: Dropout</text>\n</g>\n<!-- 140707535859664&#45;&gt;140707535897600 -->\n<g class=\"edge\" id=\"edge39\">\n<title>140707535859664-&gt;140707535897600</title>\n<path d=\"M207.2416,-5402.4551C207.5733,-5394.3828 207.9722,-5384.6764 208.3418,-5375.6817\" fill=\"none\" stroke=\"#000000\"/>\n<polygon fill=\"#000000\" points=\"211.8429,-5375.7257 208.7566,-5365.5904 204.8488,-5375.4382 211.8429,-5375.7257\" stroke=\"#000000\"/>\n</g>\n<!-- 140707535897600&#45;&gt;140707535948992 -->\n<g class=\"edge\" id=\"edge41\">\n<title>140707535897600-&gt;140707535948992</title>\n<path d=\"M233.7247,-5329.4551C246.2105,-5320.1545 261.6086,-5308.6844 275.102,-5298.6332\" fill=\"none\" stroke=\"#000000\"/>\n<polygon fill=\"#000000\" points=\"277.2855,-5301.371 283.2143,-5292.5904 273.1039,-5295.7573 277.2855,-5301.371\" stroke=\"#000000\"/>\n</g>\n<!-- 140707535019928 -->\n<g class=\"node\" id=\"node36\">\n<title>140707535019928</title>\n<polygon fill=\"none\" points=\"117.5,-5183.5 117.5,-5219.5 497.5,-5219.5 497.5,-5183.5 117.5,-5183.5\" stroke=\"#000000\"/>\n<text fill=\"#000000\" font-family=\"Times,serif\" font-size=\"14.00\" text-anchor=\"middle\" x=\"307.5\" y=\"-5197.8\">Encoder-4-MultiHeadSelfAttention-Norm: LayerNormalization</text>\n</g>\n<!-- 140707535948992&#45;&gt;140707535019928 -->\n<g class=\"edge\" id=\"edge42\">\n<title>140707535948992-&gt;140707535019928</title>\n<path d=\"M307.5,-5256.4551C307.5,-5248.3828 307.5,-5238.6764 307.5,-5229.6817\" fill=\"none\" stroke=\"#000000\"/>\n<polygon fill=\"#000000\" points=\"311.0001,-5229.5903 307.5,-5219.5904 304.0001,-5229.5904 311.0001,-5229.5903\" stroke=\"#000000\"/>\n</g>\n<!-- 140707535080976 -->\n<g class=\"node\" id=\"node37\">\n<title>140707535080976</title>\n<polygon fill=\"none\" points=\"105.5,-5110.5 105.5,-5146.5 347.5,-5146.5 347.5,-5110.5 105.5,-5110.5\" stroke=\"#000000\"/>\n<text fill=\"#000000\" font-family=\"Times,serif\" font-size=\"14.00\" text-anchor=\"middle\" x=\"226.5\" y=\"-5124.8\">Encoder-4-FeedForward: FeedForward</text>\n</g>\n<!-- 140707535019928&#45;&gt;140707535080976 -->\n<g class=\"edge\" id=\"edge43\">\n<title>140707535019928-&gt;140707535080976</title>\n<path d=\"M287.4775,-5183.4551C277.4498,-5174.4177 265.1491,-5163.3319 254.2286,-5153.4899\" fill=\"none\" stroke=\"#000000\"/>\n<polygon fill=\"#000000\" points=\"256.3444,-5150.6852 246.5729,-5146.5904 251.6581,-5155.885 256.3444,-5150.6852\" stroke=\"#000000\"/>\n</g>\n<!-- 140707535170696 -->\n<g class=\"node\" id=\"node39\">\n<title>140707535170696</title>\n<polygon fill=\"none\" points=\"191.5,-4964.5 191.5,-5000.5 411.5,-5000.5 411.5,-4964.5 191.5,-4964.5\" stroke=\"#000000\"/>\n<text fill=\"#000000\" font-family=\"Times,serif\" font-size=\"14.00\" text-anchor=\"middle\" x=\"301.5\" y=\"-4978.8\">Encoder-4-FeedForward-Add: Add</text>\n</g>\n<!-- 140707535019928&#45;&gt;140707535170696 -->\n<g class=\"edge\" id=\"edge45\">\n<title>140707535019928-&gt;140707535170696</title>\n<path d=\"M329.3471,-5183.291C339.3936,-5173.6134 350.4097,-5160.8624 356.5,-5147 376.2044,-5102.1498 383.6917,-5081.6329 363.5,-5037 358.2852,-5025.4728 349.2939,-5015.4147 339.751,-5007.1833\" fill=\"none\" stroke=\"#000000\"/>\n<polygon fill=\"#000000\" points=\"341.6666,-5004.2331 331.676,-5000.7064 337.2868,-5009.6936 341.6666,-5004.2331\" stroke=\"#000000\"/>\n</g>\n<!-- 140707535121712 -->\n<g class=\"node\" id=\"node38\">\n<title>140707535121712</title>\n<polygon fill=\"none\" points=\"87,-5037.5 87,-5073.5 354,-5073.5 354,-5037.5 87,-5037.5\" stroke=\"#000000\"/>\n<text fill=\"#000000\" font-family=\"Times,serif\" font-size=\"14.00\" text-anchor=\"middle\" x=\"220.5\" y=\"-5051.8\">Encoder-4-FeedForward-Dropout: Dropout</text>\n</g>\n<!-- 140707535080976&#45;&gt;140707535121712 -->\n<g class=\"edge\" id=\"edge44\">\n<title>140707535080976-&gt;140707535121712</title>\n<path d=\"M225.0169,-5110.4551C224.3534,-5102.3828 223.5556,-5092.6764 222.8163,-5083.6817\" fill=\"none\" stroke=\"#000000\"/>\n<polygon fill=\"#000000\" points=\"226.2944,-5083.27 221.9869,-5073.5904 219.3179,-5083.8435 226.2944,-5083.27\" stroke=\"#000000\"/>\n</g>\n<!-- 140707535121712&#45;&gt;140707535170696 -->\n<g class=\"edge\" id=\"edge46\">\n<title>140707535121712-&gt;140707535170696</title>\n<path d=\"M240.5225,-5037.4551C250.5502,-5028.4177 262.8509,-5017.3319 273.7714,-5007.4899\" fill=\"none\" stroke=\"#000000\"/>\n<polygon fill=\"#000000\" points=\"276.3419,-5009.885 281.4271,-5000.5904 271.6556,-5004.6852 276.3419,-5009.885\" stroke=\"#000000\"/>\n</g>\n<!-- 140707534814400 -->\n<g class=\"node\" id=\"node40\">\n<title>140707534814400</title>\n<polygon fill=\"none\" points=\"142.5,-4891.5 142.5,-4927.5 460.5,-4927.5 460.5,-4891.5 142.5,-4891.5\" stroke=\"#000000\"/>\n<text fill=\"#000000\" font-family=\"Times,serif\" font-size=\"14.00\" text-anchor=\"middle\" x=\"301.5\" y=\"-4905.8\">Encoder-4-FeedForward-Norm: LayerNormalization</text>\n</g>\n<!-- 140707535170696&#45;&gt;140707534814400 -->\n<g class=\"edge\" id=\"edge47\">\n<title>140707535170696-&gt;140707534814400</title>\n<path d=\"M301.5,-4964.4551C301.5,-4956.3828 301.5,-4946.6764 301.5,-4937.6817\" fill=\"none\" stroke=\"#000000\"/>\n<polygon fill=\"#000000\" points=\"305.0001,-4937.5903 301.5,-4927.5904 298.0001,-4937.5904 305.0001,-4937.5903\" stroke=\"#000000\"/>\n</g>\n<!-- 140707534814736 -->\n<g class=\"node\" id=\"node41\">\n<title>140707534814736</title>\n<polygon fill=\"none\" points=\"31.5,-4818.5 31.5,-4854.5 373.5,-4854.5 373.5,-4818.5 31.5,-4818.5\" stroke=\"#000000\"/>\n<text fill=\"#000000\" font-family=\"Times,serif\" font-size=\"14.00\" text-anchor=\"middle\" x=\"202.5\" y=\"-4832.8\">Encoder-5-MultiHeadSelfAttention: MultiHeadAttention</text>\n</g>\n<!-- 140707534814400&#45;&gt;140707534814736 -->\n<g class=\"edge\" id=\"edge48\">\n<title>140707534814400-&gt;140707534814736</title>\n<path d=\"M277.0281,-4891.4551C264.4149,-4882.1545 248.8597,-4870.6844 235.2286,-4860.6332\" fill=\"none\" stroke=\"#000000\"/>\n<polygon fill=\"#000000\" points=\"237.1592,-4857.7082 227.0335,-4854.5904 233.0049,-4863.3421 237.1592,-4857.7082\" stroke=\"#000000\"/>\n</g>\n<!-- 140707534973528 -->\n<g class=\"node\" id=\"node43\">\n<title>140707534973528</title>\n<polygon fill=\"none\" points=\"163,-4672.5 163,-4708.5 444,-4708.5 444,-4672.5 163,-4672.5\" stroke=\"#000000\"/>\n<text fill=\"#000000\" font-family=\"Times,serif\" font-size=\"14.00\" text-anchor=\"middle\" x=\"303.5\" y=\"-4686.8\">Encoder-5-MultiHeadSelfAttention-Add: Add</text>\n</g>\n<!-- 140707534814400&#45;&gt;140707534973528 -->\n<g class=\"edge\" id=\"edge50\">\n<title>140707534814400-&gt;140707534973528</title>\n<path d=\"M344.0685,-4891.3804C359.0065,-4882.7 374.1359,-4870.7088 382.5,-4855 390.5894,-4839.8071 388.2511,-4762.9102 378.5,-4745 371.7494,-4732.601 360.8204,-4722.3006 349.3687,-4714.1162\" fill=\"none\" stroke=\"#000000\"/>\n<polygon fill=\"#000000\" points=\"351.2521,-4711.1654 340.99,-4708.531 347.3694,-4716.9899 351.2521,-4711.1654\" stroke=\"#000000\"/>\n</g>\n<!-- 140707534882800 -->\n<g class=\"node\" id=\"node42\">\n<title>140707534882800</title>\n<polygon fill=\"none\" points=\"41,-4745.5 41,-4781.5 370,-4781.5 370,-4745.5 41,-4745.5\" stroke=\"#000000\"/>\n<text fill=\"#000000\" font-family=\"Times,serif\" font-size=\"14.00\" text-anchor=\"middle\" x=\"205.5\" y=\"-4759.8\">Encoder-5-MultiHeadSelfAttention-Dropout: Dropout</text>\n</g>\n<!-- 140707534814736&#45;&gt;140707534882800 -->\n<g class=\"edge\" id=\"edge49\">\n<title>140707534814736-&gt;140707534882800</title>\n<path d=\"M203.2416,-4818.4551C203.5733,-4810.3828 203.9722,-4800.6764 204.3418,-4791.6817\" fill=\"none\" stroke=\"#000000\"/>\n<polygon fill=\"#000000\" points=\"207.8429,-4791.7257 204.7566,-4781.5904 200.8488,-4791.4382 207.8429,-4791.7257\" stroke=\"#000000\"/>\n</g>\n<!-- 140707534882800&#45;&gt;140707534973528 -->\n<g class=\"edge\" id=\"edge51\">\n<title>140707534882800-&gt;140707534973528</title>\n<path d=\"M229.7247,-4745.4551C242.2105,-4736.1545 257.6086,-4724.6844 271.102,-4714.6332\" fill=\"none\" stroke=\"#000000\"/>\n<polygon fill=\"#000000\" points=\"273.2855,-4717.371 279.2143,-4708.5904 269.1039,-4711.7573 273.2855,-4717.371\" stroke=\"#000000\"/>\n</g>\n<!-- 140707534048672 -->\n<g class=\"node\" id=\"node44\">\n<title>140707534048672</title>\n<polygon fill=\"none\" points=\"113.5,-4599.5 113.5,-4635.5 493.5,-4635.5 493.5,-4599.5 113.5,-4599.5\" stroke=\"#000000\"/>\n<text fill=\"#000000\" font-family=\"Times,serif\" font-size=\"14.00\" text-anchor=\"middle\" x=\"303.5\" y=\"-4613.8\">Encoder-5-MultiHeadSelfAttention-Norm: LayerNormalization</text>\n</g>\n<!-- 140707534973528&#45;&gt;140707534048672 -->\n<g class=\"edge\" id=\"edge52\">\n<title>140707534973528-&gt;140707534048672</title>\n<path d=\"M303.5,-4672.4551C303.5,-4664.3828 303.5,-4654.6764 303.5,-4645.6817\" fill=\"none\" stroke=\"#000000\"/>\n<polygon fill=\"#000000\" points=\"307.0001,-4645.5903 303.5,-4635.5904 300.0001,-4645.5904 307.0001,-4645.5903\" stroke=\"#000000\"/>\n</g>\n<!-- 140707534048336 -->\n<g class=\"node\" id=\"node45\">\n<title>140707534048336</title>\n<polygon fill=\"none\" points=\"101.5,-4526.5 101.5,-4562.5 343.5,-4562.5 343.5,-4526.5 101.5,-4526.5\" stroke=\"#000000\"/>\n<text fill=\"#000000\" font-family=\"Times,serif\" font-size=\"14.00\" text-anchor=\"middle\" x=\"222.5\" y=\"-4540.8\">Encoder-5-FeedForward: FeedForward</text>\n</g>\n<!-- 140707534048672&#45;&gt;140707534048336 -->\n<g class=\"edge\" id=\"edge53\">\n<title>140707534048672-&gt;140707534048336</title>\n<path d=\"M283.4775,-4599.4551C273.4498,-4590.4177 261.1491,-4579.3319 250.2286,-4569.4899\" fill=\"none\" stroke=\"#000000\"/>\n<polygon fill=\"#000000\" points=\"252.3444,-4566.6852 242.5729,-4562.5904 247.6581,-4571.885 252.3444,-4566.6852\" stroke=\"#000000\"/>\n</g>\n<!-- 140707533675040 -->\n<g class=\"node\" id=\"node47\">\n<title>140707533675040</title>\n<polygon fill=\"none\" points=\"187.5,-4380.5 187.5,-4416.5 407.5,-4416.5 407.5,-4380.5 187.5,-4380.5\" stroke=\"#000000\"/>\n<text fill=\"#000000\" font-family=\"Times,serif\" font-size=\"14.00\" text-anchor=\"middle\" x=\"297.5\" y=\"-4394.8\">Encoder-5-FeedForward-Add: Add</text>\n</g>\n<!-- 140707534048672&#45;&gt;140707533675040 -->\n<g class=\"edge\" id=\"edge55\">\n<title>140707534048672-&gt;140707533675040</title>\n<path d=\"M325.3471,-4599.291C335.3936,-4589.6134 346.4097,-4576.8624 352.5,-4563 372.2044,-4518.1498 379.6917,-4497.6329 359.5,-4453 354.2852,-4441.4728 345.2939,-4431.4147 335.751,-4423.1833\" fill=\"none\" stroke=\"#000000\"/>\n<polygon fill=\"#000000\" points=\"337.6666,-4420.2331 327.676,-4416.7064 333.2868,-4425.6936 337.6666,-4420.2331\" stroke=\"#000000\"/>\n</g>\n<!-- 140707534108600 -->\n<g class=\"node\" id=\"node46\">\n<title>140707534108600</title>\n<polygon fill=\"none\" points=\"83,-4453.5 83,-4489.5 350,-4489.5 350,-4453.5 83,-4453.5\" stroke=\"#000000\"/>\n<text fill=\"#000000\" font-family=\"Times,serif\" font-size=\"14.00\" text-anchor=\"middle\" x=\"216.5\" y=\"-4467.8\">Encoder-5-FeedForward-Dropout: Dropout</text>\n</g>\n<!-- 140707534048336&#45;&gt;140707534108600 -->\n<g class=\"edge\" id=\"edge54\">\n<title>140707534048336-&gt;140707534108600</title>\n<path d=\"M221.0169,-4526.4551C220.3534,-4518.3828 219.5556,-4508.6764 218.8163,-4499.6817\" fill=\"none\" stroke=\"#000000\"/>\n<polygon fill=\"#000000\" points=\"222.2944,-4499.27 217.9869,-4489.5904 215.3179,-4499.8435 222.2944,-4499.27\" stroke=\"#000000\"/>\n</g>\n<!-- 140707534108600&#45;&gt;140707533675040 -->\n<g class=\"edge\" id=\"edge56\">\n<title>140707534108600-&gt;140707533675040</title>\n<path d=\"M236.5225,-4453.4551C246.5502,-4444.4177 258.8509,-4433.3319 269.7714,-4423.4899\" fill=\"none\" stroke=\"#000000\"/>\n<polygon fill=\"#000000\" points=\"272.3419,-4425.885 277.4271,-4416.5904 267.6556,-4420.6852 272.3419,-4425.885\" stroke=\"#000000\"/>\n</g>\n<!-- 140707533835624 -->\n<g class=\"node\" id=\"node48\">\n<title>140707533835624</title>\n<polygon fill=\"none\" points=\"138.5,-4307.5 138.5,-4343.5 456.5,-4343.5 456.5,-4307.5 138.5,-4307.5\" stroke=\"#000000\"/>\n<text fill=\"#000000\" font-family=\"Times,serif\" font-size=\"14.00\" text-anchor=\"middle\" x=\"297.5\" y=\"-4321.8\">Encoder-5-FeedForward-Norm: LayerNormalization</text>\n</g>\n<!-- 140707533675040&#45;&gt;140707533835624 -->\n<g class=\"edge\" id=\"edge57\">\n<title>140707533675040-&gt;140707533835624</title>\n<path d=\"M297.5,-4380.4551C297.5,-4372.3828 297.5,-4362.6764 297.5,-4353.6817\" fill=\"none\" stroke=\"#000000\"/>\n<polygon fill=\"#000000\" points=\"301.0001,-4353.5903 297.5,-4343.5904 294.0001,-4353.5904 301.0001,-4353.5903\" stroke=\"#000000\"/>\n</g>\n<!-- 140707533834840 -->\n<g class=\"node\" id=\"node49\">\n<title>140707533834840</title>\n<polygon fill=\"none\" points=\"27.5,-4234.5 27.5,-4270.5 369.5,-4270.5 369.5,-4234.5 27.5,-4234.5\" stroke=\"#000000\"/>\n<text fill=\"#000000\" font-family=\"Times,serif\" font-size=\"14.00\" text-anchor=\"middle\" x=\"198.5\" y=\"-4248.8\">Encoder-6-MultiHeadSelfAttention: MultiHeadAttention</text>\n</g>\n<!-- 140707533835624&#45;&gt;140707533834840 -->\n<g class=\"edge\" id=\"edge58\">\n<title>140707533835624-&gt;140707533834840</title>\n<path d=\"M273.0281,-4307.4551C260.4149,-4298.1545 244.8597,-4286.6844 231.2286,-4276.6332\" fill=\"none\" stroke=\"#000000\"/>\n<polygon fill=\"#000000\" points=\"233.1592,-4273.7082 223.0335,-4270.5904 229.0049,-4279.3421 233.1592,-4273.7082\" stroke=\"#000000\"/>\n</g>\n<!-- 140707533457392 -->\n<g class=\"node\" id=\"node51\">\n<title>140707533457392</title>\n<polygon fill=\"none\" points=\"158,-4088.5 158,-4124.5 439,-4124.5 439,-4088.5 158,-4088.5\" stroke=\"#000000\"/>\n<text fill=\"#000000\" font-family=\"Times,serif\" font-size=\"14.00\" text-anchor=\"middle\" x=\"298.5\" y=\"-4102.8\">Encoder-6-MultiHeadSelfAttention-Add: Add</text>\n</g>\n<!-- 140707533835624&#45;&gt;140707533457392 -->\n<g class=\"edge\" id=\"edge60\">\n<title>140707533835624-&gt;140707533457392</title>\n<path d=\"M340.0685,-4307.3804C355.0065,-4298.7 370.1359,-4286.7088 378.5,-4271 386.1793,-4256.5774 385.9885,-4180.2923 375.5,-4161 368.7016,-4148.4953 357.6452,-4138.1998 346.0052,-4130.0548\" fill=\"none\" stroke=\"#000000\"/>\n<polygon fill=\"#000000\" points=\"347.7688,-4127.0266 337.4788,-4124.5031 343.9492,-4132.8927 347.7688,-4127.0266\" stroke=\"#000000\"/>\n</g>\n<!-- 140707533896504 -->\n<g class=\"node\" id=\"node50\">\n<title>140707533896504</title>\n<polygon fill=\"none\" points=\"38,-4161.5 38,-4197.5 367,-4197.5 367,-4161.5 38,-4161.5\" stroke=\"#000000\"/>\n<text fill=\"#000000\" font-family=\"Times,serif\" font-size=\"14.00\" text-anchor=\"middle\" x=\"202.5\" y=\"-4175.8\">Encoder-6-MultiHeadSelfAttention-Dropout: Dropout</text>\n</g>\n<!-- 140707533834840&#45;&gt;140707533896504 -->\n<g class=\"edge\" id=\"edge59\">\n<title>140707533834840-&gt;140707533896504</title>\n<path d=\"M199.4888,-4234.4551C199.9311,-4226.3828 200.4629,-4216.6764 200.9558,-4207.6817\" fill=\"none\" stroke=\"#000000\"/>\n<polygon fill=\"#000000\" points=\"204.4563,-4207.7669 201.5087,-4197.5904 197.4668,-4207.3839 204.4563,-4207.7669\" stroke=\"#000000\"/>\n</g>\n<!-- 140707533896504&#45;&gt;140707533457392 -->\n<g class=\"edge\" id=\"edge61\">\n<title>140707533896504-&gt;140707533457392</title>\n<path d=\"M226.2303,-4161.4551C238.3459,-4152.2422 253.2608,-4140.9006 266.3886,-4130.918\" fill=\"none\" stroke=\"#000000\"/>\n<polygon fill=\"#000000\" points=\"268.8684,-4133.4293 274.7099,-4124.5904 264.6314,-4127.8573 268.8684,-4133.4293\" stroke=\"#000000\"/>\n</g>\n<!-- 140707533012440 -->\n<g class=\"node\" id=\"node52\">\n<title>140707533012440</title>\n<polygon fill=\"none\" points=\"108.5,-4015.5 108.5,-4051.5 488.5,-4051.5 488.5,-4015.5 108.5,-4015.5\" stroke=\"#000000\"/>\n<text fill=\"#000000\" font-family=\"Times,serif\" font-size=\"14.00\" text-anchor=\"middle\" x=\"298.5\" y=\"-4029.8\">Encoder-6-MultiHeadSelfAttention-Norm: LayerNormalization</text>\n</g>\n<!-- 140707533457392&#45;&gt;140707533012440 -->\n<g class=\"edge\" id=\"edge62\">\n<title>140707533457392-&gt;140707533012440</title>\n<path d=\"M298.5,-4088.4551C298.5,-4080.3828 298.5,-4070.6764 298.5,-4061.6817\" fill=\"none\" stroke=\"#000000\"/>\n<polygon fill=\"#000000\" points=\"302.0001,-4061.5903 298.5,-4051.5904 295.0001,-4061.5904 302.0001,-4061.5903\" stroke=\"#000000\"/>\n</g>\n<!-- 140707533052728 -->\n<g class=\"node\" id=\"node53\">\n<title>140707533052728</title>\n<polygon fill=\"none\" points=\"96.5,-3942.5 96.5,-3978.5 338.5,-3978.5 338.5,-3942.5 96.5,-3942.5\" stroke=\"#000000\"/>\n<text fill=\"#000000\" font-family=\"Times,serif\" font-size=\"14.00\" text-anchor=\"middle\" x=\"217.5\" y=\"-3956.8\">Encoder-6-FeedForward: FeedForward</text>\n</g>\n<!-- 140707533012440&#45;&gt;140707533052728 -->\n<g class=\"edge\" id=\"edge63\">\n<title>140707533012440-&gt;140707533052728</title>\n<path d=\"M278.4775,-4015.4551C268.4498,-4006.4177 256.1491,-3995.3319 245.2286,-3985.4899\" fill=\"none\" stroke=\"#000000\"/>\n<polygon fill=\"#000000\" points=\"247.3444,-3982.6852 237.5729,-3978.5904 242.6581,-3987.885 247.3444,-3982.6852\" stroke=\"#000000\"/>\n</g>\n<!-- 140707532683192 -->\n<g class=\"node\" id=\"node55\">\n<title>140707532683192</title>\n<polygon fill=\"none\" points=\"182.5,-3796.5 182.5,-3832.5 402.5,-3832.5 402.5,-3796.5 182.5,-3796.5\" stroke=\"#000000\"/>\n<text fill=\"#000000\" font-family=\"Times,serif\" font-size=\"14.00\" text-anchor=\"middle\" x=\"292.5\" y=\"-3810.8\">Encoder-6-FeedForward-Add: Add</text>\n</g>\n<!-- 140707533012440&#45;&gt;140707532683192 -->\n<g class=\"edge\" id=\"edge65\">\n<title>140707533012440-&gt;140707532683192</title>\n<path d=\"M320.3471,-4015.291C330.3936,-4005.6134 341.4097,-3992.8624 347.5,-3979 367.2044,-3934.1498 374.6917,-3913.6329 354.5,-3869 349.2852,-3857.4728 340.2939,-3847.4147 330.751,-3839.1833\" fill=\"none\" stroke=\"#000000\"/>\n<polygon fill=\"#000000\" points=\"332.6666,-3836.2331 322.676,-3832.7064 328.2868,-3841.6936 332.6666,-3836.2331\" stroke=\"#000000\"/>\n</g>\n<!-- 140707533110016 -->\n<g class=\"node\" id=\"node54\">\n<title>140707533110016</title>\n<polygon fill=\"none\" points=\"78,-3869.5 78,-3905.5 345,-3905.5 345,-3869.5 78,-3869.5\" stroke=\"#000000\"/>\n<text fill=\"#000000\" font-family=\"Times,serif\" font-size=\"14.00\" text-anchor=\"middle\" x=\"211.5\" y=\"-3883.8\">Encoder-6-FeedForward-Dropout: Dropout</text>\n</g>\n<!-- 140707533052728&#45;&gt;140707533110016 -->\n<g class=\"edge\" id=\"edge64\">\n<title>140707533052728-&gt;140707533110016</title>\n<path d=\"M216.0169,-3942.4551C215.3534,-3934.3828 214.5556,-3924.6764 213.8163,-3915.6817\" fill=\"none\" stroke=\"#000000\"/>\n<polygon fill=\"#000000\" points=\"217.2944,-3915.27 212.9869,-3905.5904 210.3179,-3915.8435 217.2944,-3915.27\" stroke=\"#000000\"/>\n</g>\n<!-- 140707533110016&#45;&gt;140707532683192 -->\n<g class=\"edge\" id=\"edge66\">\n<title>140707533110016-&gt;140707532683192</title>\n<path d=\"M231.5225,-3869.4551C241.5502,-3860.4177 253.8509,-3849.3319 264.7714,-3839.4899\" fill=\"none\" stroke=\"#000000\"/>\n<polygon fill=\"#000000\" points=\"267.3419,-3841.885 272.4271,-3832.5904 262.6556,-3836.6852 267.3419,-3841.885\" stroke=\"#000000\"/>\n</g>\n<!-- 140707532843776 -->\n<g class=\"node\" id=\"node56\">\n<title>140707532843776</title>\n<polygon fill=\"none\" points=\"133.5,-3723.5 133.5,-3759.5 451.5,-3759.5 451.5,-3723.5 133.5,-3723.5\" stroke=\"#000000\"/>\n<text fill=\"#000000\" font-family=\"Times,serif\" font-size=\"14.00\" text-anchor=\"middle\" x=\"292.5\" y=\"-3737.8\">Encoder-6-FeedForward-Norm: LayerNormalization</text>\n</g>\n<!-- 140707532683192&#45;&gt;140707532843776 -->\n<g class=\"edge\" id=\"edge67\">\n<title>140707532683192-&gt;140707532843776</title>\n<path d=\"M292.5,-3796.4551C292.5,-3788.3828 292.5,-3778.6764 292.5,-3769.6817\" fill=\"none\" stroke=\"#000000\"/>\n<polygon fill=\"#000000\" points=\"296.0001,-3769.5903 292.5,-3759.5904 289.0001,-3769.5904 296.0001,-3769.5903\" stroke=\"#000000\"/>\n</g>\n<!-- 140707532842992 -->\n<g class=\"node\" id=\"node57\">\n<title>140707532842992</title>\n<polygon fill=\"none\" points=\"22.5,-3650.5 22.5,-3686.5 364.5,-3686.5 364.5,-3650.5 22.5,-3650.5\" stroke=\"#000000\"/>\n<text fill=\"#000000\" font-family=\"Times,serif\" font-size=\"14.00\" text-anchor=\"middle\" x=\"193.5\" y=\"-3664.8\">Encoder-7-MultiHeadSelfAttention: MultiHeadAttention</text>\n</g>\n<!-- 140707532843776&#45;&gt;140707532842992 -->\n<g class=\"edge\" id=\"edge68\">\n<title>140707532843776-&gt;140707532842992</title>\n<path d=\"M268.0281,-3723.4551C255.4149,-3714.1545 239.8597,-3702.6844 226.2286,-3692.6332\" fill=\"none\" stroke=\"#000000\"/>\n<polygon fill=\"#000000\" points=\"228.1592,-3689.7082 218.0335,-3686.5904 224.0049,-3695.3421 228.1592,-3689.7082\" stroke=\"#000000\"/>\n</g>\n<!-- 140707532465376 -->\n<g class=\"node\" id=\"node59\">\n<title>140707532465376</title>\n<polygon fill=\"none\" points=\"153,-3504.5 153,-3540.5 434,-3540.5 434,-3504.5 153,-3504.5\" stroke=\"#000000\"/>\n<text fill=\"#000000\" font-family=\"Times,serif\" font-size=\"14.00\" text-anchor=\"middle\" x=\"293.5\" y=\"-3518.8\">Encoder-7-MultiHeadSelfAttention-Add: Add</text>\n</g>\n<!-- 140707532843776&#45;&gt;140707532465376 -->\n<g class=\"edge\" id=\"edge70\">\n<title>140707532843776-&gt;140707532465376</title>\n<path d=\"M335.0685,-3723.3804C350.0065,-3714.7 365.1359,-3702.7088 373.5,-3687 381.1793,-3672.5774 380.9885,-3596.2923 370.5,-3577 363.7016,-3564.4953 352.6452,-3554.1998 341.0052,-3546.0548\" fill=\"none\" stroke=\"#000000\"/>\n<polygon fill=\"#000000\" points=\"342.7688,-3543.0266 332.4788,-3540.5031 338.9492,-3548.8927 342.7688,-3543.0266\" stroke=\"#000000\"/>\n</g>\n<!-- 140707532365552 -->\n<g class=\"node\" id=\"node58\">\n<title>140707532365552</title>\n<polygon fill=\"none\" points=\"33,-3577.5 33,-3613.5 362,-3613.5 362,-3577.5 33,-3577.5\" stroke=\"#000000\"/>\n<text fill=\"#000000\" font-family=\"Times,serif\" font-size=\"14.00\" text-anchor=\"middle\" x=\"197.5\" y=\"-3591.8\">Encoder-7-MultiHeadSelfAttention-Dropout: Dropout</text>\n</g>\n<!-- 140707532842992&#45;&gt;140707532365552 -->\n<g class=\"edge\" id=\"edge69\">\n<title>140707532842992-&gt;140707532365552</title>\n<path d=\"M194.4888,-3650.4551C194.9311,-3642.3828 195.4629,-3632.6764 195.9558,-3623.6817\" fill=\"none\" stroke=\"#000000\"/>\n<polygon fill=\"#000000\" points=\"199.4563,-3623.7669 196.5087,-3613.5904 192.4668,-3623.3839 199.4563,-3623.7669\" stroke=\"#000000\"/>\n</g>\n<!-- 140707532365552&#45;&gt;140707532465376 -->\n<g class=\"edge\" id=\"edge71\">\n<title>140707532365552-&gt;140707532465376</title>\n<path d=\"M221.2303,-3577.4551C233.3459,-3568.2422 248.2608,-3556.9006 261.3886,-3546.918\" fill=\"none\" stroke=\"#000000\"/>\n<polygon fill=\"#000000\" points=\"263.8684,-3549.4293 269.7099,-3540.5904 259.6314,-3543.8573 263.8684,-3549.4293\" stroke=\"#000000\"/>\n</g>\n<!-- 140707532024632 -->\n<g class=\"node\" id=\"node60\">\n<title>140707532024632</title>\n<polygon fill=\"none\" points=\"103.5,-3431.5 103.5,-3467.5 483.5,-3467.5 483.5,-3431.5 103.5,-3431.5\" stroke=\"#000000\"/>\n<text fill=\"#000000\" font-family=\"Times,serif\" font-size=\"14.00\" text-anchor=\"middle\" x=\"293.5\" y=\"-3445.8\">Encoder-7-MultiHeadSelfAttention-Norm: LayerNormalization</text>\n</g>\n<!-- 140707532465376&#45;&gt;140707532024632 -->\n<g class=\"edge\" id=\"edge72\">\n<title>140707532465376-&gt;140707532024632</title>\n<path d=\"M293.5,-3504.4551C293.5,-3496.3828 293.5,-3486.6764 293.5,-3477.6817\" fill=\"none\" stroke=\"#000000\"/>\n<polygon fill=\"#000000\" points=\"297.0001,-3477.5903 293.5,-3467.5904 290.0001,-3477.5904 297.0001,-3477.5903\" stroke=\"#000000\"/>\n</g>\n<!-- 140707532025528 -->\n<g class=\"node\" id=\"node61\">\n<title>140707532025528</title>\n<polygon fill=\"none\" points=\"91.5,-3358.5 91.5,-3394.5 333.5,-3394.5 333.5,-3358.5 91.5,-3358.5\" stroke=\"#000000\"/>\n<text fill=\"#000000\" font-family=\"Times,serif\" font-size=\"14.00\" text-anchor=\"middle\" x=\"212.5\" y=\"-3372.8\">Encoder-7-FeedForward: FeedForward</text>\n</g>\n<!-- 140707532024632&#45;&gt;140707532025528 -->\n<g class=\"edge\" id=\"edge73\">\n<title>140707532024632-&gt;140707532025528</title>\n<path d=\"M273.4775,-3431.4551C263.4498,-3422.4177 251.1491,-3411.3319 240.2286,-3401.4899\" fill=\"none\" stroke=\"#000000\"/>\n<polygon fill=\"#000000\" points=\"242.3444,-3398.6852 232.5729,-3394.5904 237.6581,-3403.885 242.3444,-3398.6852\" stroke=\"#000000\"/>\n</g>\n<!-- 140707531687080 -->\n<g class=\"node\" id=\"node63\">\n<title>140707531687080</title>\n<polygon fill=\"none\" points=\"177.5,-3212.5 177.5,-3248.5 397.5,-3248.5 397.5,-3212.5 177.5,-3212.5\" stroke=\"#000000\"/>\n<text fill=\"#000000\" font-family=\"Times,serif\" font-size=\"14.00\" text-anchor=\"middle\" x=\"287.5\" y=\"-3226.8\">Encoder-7-FeedForward-Add: Add</text>\n</g>\n<!-- 140707532024632&#45;&gt;140707531687080 -->\n<g class=\"edge\" id=\"edge75\">\n<title>140707532024632-&gt;140707531687080</title>\n<path d=\"M315.3471,-3431.291C325.3936,-3421.6134 336.4097,-3408.8624 342.5,-3395 362.2044,-3350.1498 369.6917,-3329.6329 349.5,-3285 344.2852,-3273.4728 335.2939,-3263.4147 325.751,-3255.1833\" fill=\"none\" stroke=\"#000000\"/>\n<polygon fill=\"#000000\" points=\"327.6666,-3252.2331 317.676,-3248.7064 323.2868,-3257.6936 327.6666,-3252.2331\" stroke=\"#000000\"/>\n</g>\n<!-- 140707531603640 -->\n<g class=\"node\" id=\"node62\">\n<title>140707531603640</title>\n<polygon fill=\"none\" points=\"73,-3285.5 73,-3321.5 340,-3321.5 340,-3285.5 73,-3285.5\" stroke=\"#000000\"/>\n<text fill=\"#000000\" font-family=\"Times,serif\" font-size=\"14.00\" text-anchor=\"middle\" x=\"206.5\" y=\"-3299.8\">Encoder-7-FeedForward-Dropout: Dropout</text>\n</g>\n<!-- 140707532025528&#45;&gt;140707531603640 -->\n<g class=\"edge\" id=\"edge74\">\n<title>140707532025528-&gt;140707531603640</title>\n<path d=\"M211.0169,-3358.4551C210.3534,-3350.3828 209.5556,-3340.6764 208.8163,-3331.6817\" fill=\"none\" stroke=\"#000000\"/>\n<polygon fill=\"#000000\" points=\"212.2944,-3331.27 207.9869,-3321.5904 205.3179,-3331.8435 212.2944,-3331.27\" stroke=\"#000000\"/>\n</g>\n<!-- 140707531603640&#45;&gt;140707531687080 -->\n<g class=\"edge\" id=\"edge76\">\n<title>140707531603640-&gt;140707531687080</title>\n<path d=\"M226.5225,-3285.4551C236.5502,-3276.4177 248.8509,-3265.3319 259.7714,-3255.4899\" fill=\"none\" stroke=\"#000000\"/>\n<polygon fill=\"#000000\" points=\"262.3419,-3257.885 267.4271,-3248.5904 257.6556,-3252.6852 262.3419,-3257.885\" stroke=\"#000000\"/>\n</g>\n<!-- 140707531831336 -->\n<g class=\"node\" id=\"node64\">\n<title>140707531831336</title>\n<polygon fill=\"none\" points=\"128.5,-3139.5 128.5,-3175.5 446.5,-3175.5 446.5,-3139.5 128.5,-3139.5\" stroke=\"#000000\"/>\n<text fill=\"#000000\" font-family=\"Times,serif\" font-size=\"14.00\" text-anchor=\"middle\" x=\"287.5\" y=\"-3153.8\">Encoder-7-FeedForward-Norm: LayerNormalization</text>\n</g>\n<!-- 140707531687080&#45;&gt;140707531831336 -->\n<g class=\"edge\" id=\"edge77\">\n<title>140707531687080-&gt;140707531831336</title>\n<path d=\"M287.5,-3212.4551C287.5,-3204.3828 287.5,-3194.6764 287.5,-3185.6817\" fill=\"none\" stroke=\"#000000\"/>\n<polygon fill=\"#000000\" points=\"291.0001,-3185.5903 287.5,-3175.5904 284.0001,-3185.5904 291.0001,-3185.5903\" stroke=\"#000000\"/>\n</g>\n<!-- 140707531830552 -->\n<g class=\"node\" id=\"node65\">\n<title>140707531830552</title>\n<polygon fill=\"none\" points=\"17.5,-3066.5 17.5,-3102.5 359.5,-3102.5 359.5,-3066.5 17.5,-3066.5\" stroke=\"#000000\"/>\n<text fill=\"#000000\" font-family=\"Times,serif\" font-size=\"14.00\" text-anchor=\"middle\" x=\"188.5\" y=\"-3080.8\">Encoder-8-MultiHeadSelfAttention: MultiHeadAttention</text>\n</g>\n<!-- 140707531831336&#45;&gt;140707531830552 -->\n<g class=\"edge\" id=\"edge78\">\n<title>140707531831336-&gt;140707531830552</title>\n<path d=\"M263.0281,-3139.4551C250.4149,-3130.1545 234.8597,-3118.6844 221.2286,-3108.6332\" fill=\"none\" stroke=\"#000000\"/>\n<polygon fill=\"#000000\" points=\"223.1592,-3105.7082 213.0335,-3102.5904 219.0049,-3111.3421 223.1592,-3105.7082\" stroke=\"#000000\"/>\n</g>\n<!-- 140707531358448 -->\n<g class=\"node\" id=\"node67\">\n<title>140707531358448</title>\n<polygon fill=\"none\" points=\"149,-2920.5 149,-2956.5 430,-2956.5 430,-2920.5 149,-2920.5\" stroke=\"#000000\"/>\n<text fill=\"#000000\" font-family=\"Times,serif\" font-size=\"14.00\" text-anchor=\"middle\" x=\"289.5\" y=\"-2934.8\">Encoder-8-MultiHeadSelfAttention-Add: Add</text>\n</g>\n<!-- 140707531831336&#45;&gt;140707531358448 -->\n<g class=\"edge\" id=\"edge80\">\n<title>140707531831336-&gt;140707531358448</title>\n<path d=\"M330.0685,-3139.3804C345.0065,-3130.7 360.1359,-3118.7088 368.5,-3103 376.5894,-3087.8071 374.2511,-3010.9102 364.5,-2993 357.7494,-2980.601 346.8204,-2970.3006 335.3687,-2962.1162\" fill=\"none\" stroke=\"#000000\"/>\n<polygon fill=\"#000000\" points=\"337.2521,-2959.1654 326.99,-2956.531 333.3694,-2964.9899 337.2521,-2959.1654\" stroke=\"#000000\"/>\n</g>\n<!-- 140707531341776 -->\n<g class=\"node\" id=\"node66\">\n<title>140707531341776</title>\n<polygon fill=\"none\" points=\"27,-2993.5 27,-3029.5 356,-3029.5 356,-2993.5 27,-2993.5\" stroke=\"#000000\"/>\n<text fill=\"#000000\" font-family=\"Times,serif\" font-size=\"14.00\" text-anchor=\"middle\" x=\"191.5\" y=\"-3007.8\">Encoder-8-MultiHeadSelfAttention-Dropout: Dropout</text>\n</g>\n<!-- 140707531830552&#45;&gt;140707531341776 -->\n<g class=\"edge\" id=\"edge79\">\n<title>140707531830552-&gt;140707531341776</title>\n<path d=\"M189.2416,-3066.4551C189.5733,-3058.3828 189.9722,-3048.6764 190.3418,-3039.6817\" fill=\"none\" stroke=\"#000000\"/>\n<polygon fill=\"#000000\" points=\"193.8429,-3039.7257 190.7566,-3029.5904 186.8488,-3039.4382 193.8429,-3039.7257\" stroke=\"#000000\"/>\n</g>\n<!-- 140707531341776&#45;&gt;140707531358448 -->\n<g class=\"edge\" id=\"edge81\">\n<title>140707531341776-&gt;140707531358448</title>\n<path d=\"M215.7247,-2993.4551C228.2105,-2984.1545 243.6086,-2972.6844 257.102,-2962.6332\" fill=\"none\" stroke=\"#000000\"/>\n<polygon fill=\"#000000\" points=\"259.2855,-2965.371 265.2143,-2956.5904 255.1039,-2959.7573 259.2855,-2965.371\" stroke=\"#000000\"/>\n</g>\n<!-- 140707530936048 -->\n<g class=\"node\" id=\"node68\">\n<title>140707530936048</title>\n<polygon fill=\"none\" points=\"99.5,-2847.5 99.5,-2883.5 479.5,-2883.5 479.5,-2847.5 99.5,-2847.5\" stroke=\"#000000\"/>\n<text fill=\"#000000\" font-family=\"Times,serif\" font-size=\"14.00\" text-anchor=\"middle\" x=\"289.5\" y=\"-2861.8\">Encoder-8-MultiHeadSelfAttention-Norm: LayerNormalization</text>\n</g>\n<!-- 140707531358448&#45;&gt;140707530936048 -->\n<g class=\"edge\" id=\"edge82\">\n<title>140707531358448-&gt;140707530936048</title>\n<path d=\"M289.5,-2920.4551C289.5,-2912.3828 289.5,-2902.6764 289.5,-2893.6817\" fill=\"none\" stroke=\"#000000\"/>\n<polygon fill=\"#000000\" points=\"293.0001,-2893.5903 289.5,-2883.5904 286.0001,-2893.5904 293.0001,-2893.5903\" stroke=\"#000000\"/>\n</g>\n<!-- 140707530935376 -->\n<g class=\"node\" id=\"node69\">\n<title>140707530935376</title>\n<polygon fill=\"none\" points=\"87.5,-2774.5 87.5,-2810.5 329.5,-2810.5 329.5,-2774.5 87.5,-2774.5\" stroke=\"#000000\"/>\n<text fill=\"#000000\" font-family=\"Times,serif\" font-size=\"14.00\" text-anchor=\"middle\" x=\"208.5\" y=\"-2788.8\">Encoder-8-FeedForward: FeedForward</text>\n</g>\n<!-- 140707530936048&#45;&gt;140707530935376 -->\n<g class=\"edge\" id=\"edge83\">\n<title>140707530936048-&gt;140707530935376</title>\n<path d=\"M269.4775,-2847.4551C259.4498,-2838.4177 247.1491,-2827.3319 236.2286,-2817.4899\" fill=\"none\" stroke=\"#000000\"/>\n<polygon fill=\"#000000\" points=\"238.3444,-2814.6852 228.5729,-2810.5904 233.6581,-2819.885 238.3444,-2814.6852\" stroke=\"#000000\"/>\n</g>\n<!-- 140707530559440 -->\n<g class=\"node\" id=\"node71\">\n<title>140707530559440</title>\n<polygon fill=\"none\" points=\"173.5,-2628.5 173.5,-2664.5 393.5,-2664.5 393.5,-2628.5 173.5,-2628.5\" stroke=\"#000000\"/>\n<text fill=\"#000000\" font-family=\"Times,serif\" font-size=\"14.00\" text-anchor=\"middle\" x=\"283.5\" y=\"-2642.8\">Encoder-8-FeedForward-Add: Add</text>\n</g>\n<!-- 140707530936048&#45;&gt;140707530559440 -->\n<g class=\"edge\" id=\"edge85\">\n<title>140707530936048-&gt;140707530559440</title>\n<path d=\"M311.3471,-2847.291C321.3936,-2837.6134 332.4097,-2824.8624 338.5,-2811 358.2044,-2766.1498 365.6917,-2745.6329 345.5,-2701 340.2852,-2689.4728 331.2939,-2679.4147 321.751,-2671.1833\" fill=\"none\" stroke=\"#000000\"/>\n<polygon fill=\"#000000\" points=\"323.6666,-2668.2331 313.676,-2664.7064 319.2868,-2673.6936 323.6666,-2668.2331\" stroke=\"#000000\"/>\n</g>\n<!-- 140707531016288 -->\n<g class=\"node\" id=\"node70\">\n<title>140707531016288</title>\n<polygon fill=\"none\" points=\"69,-2701.5 69,-2737.5 336,-2737.5 336,-2701.5 69,-2701.5\" stroke=\"#000000\"/>\n<text fill=\"#000000\" font-family=\"Times,serif\" font-size=\"14.00\" text-anchor=\"middle\" x=\"202.5\" y=\"-2715.8\">Encoder-8-FeedForward-Dropout: Dropout</text>\n</g>\n<!-- 140707530935376&#45;&gt;140707531016288 -->\n<g class=\"edge\" id=\"edge84\">\n<title>140707530935376-&gt;140707531016288</title>\n<path d=\"M207.0169,-2774.4551C206.3534,-2766.3828 205.5556,-2756.6764 204.8163,-2747.6817\" fill=\"none\" stroke=\"#000000\"/>\n<polygon fill=\"#000000\" points=\"208.2944,-2747.27 203.9869,-2737.5904 201.3179,-2747.8435 208.2944,-2747.27\" stroke=\"#000000\"/>\n</g>\n<!-- 140707531016288&#45;&gt;140707530559440 -->\n<g class=\"edge\" id=\"edge86\">\n<title>140707531016288-&gt;140707530559440</title>\n<path d=\"M222.5225,-2701.4551C232.5502,-2692.4177 244.8509,-2681.3319 255.7714,-2671.4899\" fill=\"none\" stroke=\"#000000\"/>\n<polygon fill=\"#000000\" points=\"258.3419,-2673.885 263.4271,-2664.5904 253.6556,-2668.6852 258.3419,-2673.885\" stroke=\"#000000\"/>\n</g>\n<!-- 140707530722888 -->\n<g class=\"node\" id=\"node72\">\n<title>140707530722888</title>\n<polygon fill=\"none\" points=\"124.5,-2555.5 124.5,-2591.5 442.5,-2591.5 442.5,-2555.5 124.5,-2555.5\" stroke=\"#000000\"/>\n<text fill=\"#000000\" font-family=\"Times,serif\" font-size=\"14.00\" text-anchor=\"middle\" x=\"283.5\" y=\"-2569.8\">Encoder-8-FeedForward-Norm: LayerNormalization</text>\n</g>\n<!-- 140707530559440&#45;&gt;140707530722888 -->\n<g class=\"edge\" id=\"edge87\">\n<title>140707530559440-&gt;140707530722888</title>\n<path d=\"M283.5,-2628.4551C283.5,-2620.3828 283.5,-2610.6764 283.5,-2601.6817\" fill=\"none\" stroke=\"#000000\"/>\n<polygon fill=\"#000000\" points=\"287.0001,-2601.5903 283.5,-2591.5904 280.0001,-2601.5904 287.0001,-2601.5903\" stroke=\"#000000\"/>\n</g>\n<!-- 140707530722496 -->\n<g class=\"node\" id=\"node73\">\n<title>140707530722496</title>\n<polygon fill=\"none\" points=\"13.5,-2482.5 13.5,-2518.5 355.5,-2518.5 355.5,-2482.5 13.5,-2482.5\" stroke=\"#000000\"/>\n<text fill=\"#000000\" font-family=\"Times,serif\" font-size=\"14.00\" text-anchor=\"middle\" x=\"184.5\" y=\"-2496.8\">Encoder-9-MultiHeadSelfAttention: MultiHeadAttention</text>\n</g>\n<!-- 140707530722888&#45;&gt;140707530722496 -->\n<g class=\"edge\" id=\"edge88\">\n<title>140707530722888-&gt;140707530722496</title>\n<path d=\"M259.0281,-2555.4551C246.4149,-2546.1545 230.8597,-2534.6844 217.2286,-2524.6332\" fill=\"none\" stroke=\"#000000\"/>\n<polygon fill=\"#000000\" points=\"219.1592,-2521.7082 209.0335,-2518.5904 215.0049,-2527.3421 219.1592,-2521.7082\" stroke=\"#000000\"/>\n</g>\n<!-- 140707530345272 -->\n<g class=\"node\" id=\"node75\">\n<title>140707530345272</title>\n<polygon fill=\"none\" points=\"145,-2336.5 145,-2372.5 426,-2372.5 426,-2336.5 145,-2336.5\" stroke=\"#000000\"/>\n<text fill=\"#000000\" font-family=\"Times,serif\" font-size=\"14.00\" text-anchor=\"middle\" x=\"285.5\" y=\"-2350.8\">Encoder-9-MultiHeadSelfAttention-Add: Add</text>\n</g>\n<!-- 140707530722888&#45;&gt;140707530345272 -->\n<g class=\"edge\" id=\"edge90\">\n<title>140707530722888-&gt;140707530345272</title>\n<path d=\"M326.0685,-2555.3804C341.0065,-2546.7 356.1359,-2534.7088 364.5,-2519 372.5894,-2503.8071 370.2511,-2426.9102 360.5,-2409 353.7494,-2396.601 342.8204,-2386.3006 331.3687,-2378.1162\" fill=\"none\" stroke=\"#000000\"/>\n<polygon fill=\"#000000\" points=\"333.2521,-2375.1654 322.99,-2372.531 329.3694,-2380.9899 333.2521,-2375.1654\" stroke=\"#000000\"/>\n</g>\n<!-- 140707530290848 -->\n<g class=\"node\" id=\"node74\">\n<title>140707530290848</title>\n<polygon fill=\"none\" points=\"23,-2409.5 23,-2445.5 352,-2445.5 352,-2409.5 23,-2409.5\" stroke=\"#000000\"/>\n<text fill=\"#000000\" font-family=\"Times,serif\" font-size=\"14.00\" text-anchor=\"middle\" x=\"187.5\" y=\"-2423.8\">Encoder-9-MultiHeadSelfAttention-Dropout: Dropout</text>\n</g>\n<!-- 140707530722496&#45;&gt;140707530290848 -->\n<g class=\"edge\" id=\"edge89\">\n<title>140707530722496-&gt;140707530290848</title>\n<path d=\"M185.2416,-2482.4551C185.5733,-2474.3828 185.9722,-2464.6764 186.3418,-2455.6817\" fill=\"none\" stroke=\"#000000\"/>\n<polygon fill=\"#000000\" points=\"189.8429,-2455.7257 186.7566,-2445.5904 182.8488,-2455.4382 189.8429,-2455.7257\" stroke=\"#000000\"/>\n</g>\n<!-- 140707530290848&#45;&gt;140707530345272 -->\n<g class=\"edge\" id=\"edge91\">\n<title>140707530290848-&gt;140707530345272</title>\n<path d=\"M211.7247,-2409.4551C224.2105,-2400.1545 239.6086,-2388.6844 253.102,-2378.6332\" fill=\"none\" stroke=\"#000000\"/>\n<polygon fill=\"#000000\" points=\"255.2855,-2381.371 261.2143,-2372.5904 251.1039,-2375.7573 255.2855,-2381.371\" stroke=\"#000000\"/>\n</g>\n<!-- 140707529936568 -->\n<g class=\"node\" id=\"node76\">\n<title>140707529936568</title>\n<polygon fill=\"none\" points=\"95.5,-2263.5 95.5,-2299.5 475.5,-2299.5 475.5,-2263.5 95.5,-2263.5\" stroke=\"#000000\"/>\n<text fill=\"#000000\" font-family=\"Times,serif\" font-size=\"14.00\" text-anchor=\"middle\" x=\"285.5\" y=\"-2277.8\">Encoder-9-MultiHeadSelfAttention-Norm: LayerNormalization</text>\n</g>\n<!-- 140707530345272&#45;&gt;140707529936568 -->\n<g class=\"edge\" id=\"edge92\">\n<title>140707530345272-&gt;140707529936568</title>\n<path d=\"M285.5,-2336.4551C285.5,-2328.3828 285.5,-2318.6764 285.5,-2309.6817\" fill=\"none\" stroke=\"#000000\"/>\n<polygon fill=\"#000000\" points=\"289.0001,-2309.5903 285.5,-2299.5904 282.0001,-2309.5904 289.0001,-2309.5903\" stroke=\"#000000\"/>\n</g>\n<!-- 140707529935336 -->\n<g class=\"node\" id=\"node77\">\n<title>140707529935336</title>\n<polygon fill=\"none\" points=\"83.5,-2190.5 83.5,-2226.5 325.5,-2226.5 325.5,-2190.5 83.5,-2190.5\" stroke=\"#000000\"/>\n<text fill=\"#000000\" font-family=\"Times,serif\" font-size=\"14.00\" text-anchor=\"middle\" x=\"204.5\" y=\"-2204.8\">Encoder-9-FeedForward: FeedForward</text>\n</g>\n<!-- 140707529936568&#45;&gt;140707529935336 -->\n<g class=\"edge\" id=\"edge93\">\n<title>140707529936568-&gt;140707529935336</title>\n<path d=\"M265.4775,-2263.4551C255.4498,-2254.4177 243.1491,-2243.3319 232.2286,-2233.4899\" fill=\"none\" stroke=\"#000000\"/>\n<polygon fill=\"#000000\" points=\"234.3444,-2230.6852 224.5729,-2226.5904 229.6581,-2235.885 234.3444,-2230.6852\" stroke=\"#000000\"/>\n</g>\n<!-- 140707529562880 -->\n<g class=\"node\" id=\"node79\">\n<title>140707529562880</title>\n<polygon fill=\"none\" points=\"169.5,-2044.5 169.5,-2080.5 389.5,-2080.5 389.5,-2044.5 169.5,-2044.5\" stroke=\"#000000\"/>\n<text fill=\"#000000\" font-family=\"Times,serif\" font-size=\"14.00\" text-anchor=\"middle\" x=\"279.5\" y=\"-2058.8\">Encoder-9-FeedForward-Add: Add</text>\n</g>\n<!-- 140707529936568&#45;&gt;140707529562880 -->\n<g class=\"edge\" id=\"edge95\">\n<title>140707529936568-&gt;140707529562880</title>\n<path d=\"M307.3471,-2263.291C317.3936,-2253.6134 328.4097,-2240.8624 334.5,-2227 354.2044,-2182.1498 361.6917,-2161.6329 341.5,-2117 336.2852,-2105.4728 327.2939,-2095.4147 317.751,-2087.1833\" fill=\"none\" stroke=\"#000000\"/>\n<polygon fill=\"#000000\" points=\"319.6666,-2084.2331 309.676,-2080.7064 315.2868,-2089.6936 319.6666,-2084.2331\" stroke=\"#000000\"/>\n</g>\n<!-- 140707529508456 -->\n<g class=\"node\" id=\"node78\">\n<title>140707529508456</title>\n<polygon fill=\"none\" points=\"65,-2117.5 65,-2153.5 332,-2153.5 332,-2117.5 65,-2117.5\" stroke=\"#000000\"/>\n<text fill=\"#000000\" font-family=\"Times,serif\" font-size=\"14.00\" text-anchor=\"middle\" x=\"198.5\" y=\"-2131.8\">Encoder-9-FeedForward-Dropout: Dropout</text>\n</g>\n<!-- 140707529935336&#45;&gt;140707529508456 -->\n<g class=\"edge\" id=\"edge94\">\n<title>140707529935336-&gt;140707529508456</title>\n<path d=\"M203.0169,-2190.4551C202.3534,-2182.3828 201.5556,-2172.6764 200.8163,-2163.6817\" fill=\"none\" stroke=\"#000000\"/>\n<polygon fill=\"#000000\" points=\"204.2944,-2163.27 199.9869,-2153.5904 197.3179,-2163.8435 204.2944,-2163.27\" stroke=\"#000000\"/>\n</g>\n<!-- 140707529508456&#45;&gt;140707529562880 -->\n<g class=\"edge\" id=\"edge96\">\n<title>140707529508456-&gt;140707529562880</title>\n<path d=\"M218.5225,-2117.4551C228.5502,-2108.4177 240.8509,-2097.3319 251.7714,-2087.4899\" fill=\"none\" stroke=\"#000000\"/>\n<polygon fill=\"#000000\" points=\"254.3419,-2089.885 259.4271,-2080.5904 249.6556,-2084.6852 254.3419,-2089.885\" stroke=\"#000000\"/>\n</g>\n<!-- 140707529729416 -->\n<g class=\"node\" id=\"node80\">\n<title>140707529729416</title>\n<polygon fill=\"none\" points=\"120.5,-1971.5 120.5,-2007.5 438.5,-2007.5 438.5,-1971.5 120.5,-1971.5\" stroke=\"#000000\"/>\n<text fill=\"#000000\" font-family=\"Times,serif\" font-size=\"14.00\" text-anchor=\"middle\" x=\"279.5\" y=\"-1985.8\">Encoder-9-FeedForward-Norm: LayerNormalization</text>\n</g>\n<!-- 140707529562880&#45;&gt;140707529729416 -->\n<g class=\"edge\" id=\"edge97\">\n<title>140707529562880-&gt;140707529729416</title>\n<path d=\"M279.5,-2044.4551C279.5,-2036.3828 279.5,-2026.6764 279.5,-2017.6817\" fill=\"none\" stroke=\"#000000\"/>\n<polygon fill=\"#000000\" points=\"283.0001,-2017.5903 279.5,-2007.5904 276.0001,-2017.5904 283.0001,-2017.5903\" stroke=\"#000000\"/>\n</g>\n<!-- 140707529273240 -->\n<g class=\"node\" id=\"node81\">\n<title>140707529273240</title>\n<polygon fill=\"none\" points=\"3.5,-1898.5 3.5,-1934.5 353.5,-1934.5 353.5,-1898.5 3.5,-1898.5\" stroke=\"#000000\"/>\n<text fill=\"#000000\" font-family=\"Times,serif\" font-size=\"14.00\" text-anchor=\"middle\" x=\"178.5\" y=\"-1912.8\">Encoder-10-MultiHeadSelfAttention: MultiHeadAttention</text>\n</g>\n<!-- 140707529729416&#45;&gt;140707529273240 -->\n<g class=\"edge\" id=\"edge98\">\n<title>140707529729416-&gt;140707529273240</title>\n<path d=\"M254.5337,-1971.4551C241.6658,-1962.1545 225.7962,-1950.6844 211.8898,-1940.6332\" fill=\"none\" stroke=\"#000000\"/>\n<polygon fill=\"#000000\" points=\"213.6841,-1937.6116 203.5291,-1934.5904 209.5836,-1943.2849 213.6841,-1937.6116\" stroke=\"#000000\"/>\n</g>\n<!-- 140707529362960 -->\n<g class=\"node\" id=\"node83\">\n<title>140707529362960</title>\n<polygon fill=\"none\" points=\"137,-1752.5 137,-1788.5 426,-1788.5 426,-1752.5 137,-1752.5\" stroke=\"#000000\"/>\n<text fill=\"#000000\" font-family=\"Times,serif\" font-size=\"14.00\" text-anchor=\"middle\" x=\"281.5\" y=\"-1766.8\">Encoder-10-MultiHeadSelfAttention-Add: Add</text>\n</g>\n<!-- 140707529729416&#45;&gt;140707529362960 -->\n<g class=\"edge\" id=\"edge100\">\n<title>140707529729416-&gt;140707529362960</title>\n<path d=\"M323.5299,-1971.3618C338.6906,-1962.7299 353.9854,-1950.7771 362.5,-1935 370.6814,-1919.8405 368.4328,-1842.9762 358.5,-1825 351.6163,-1812.542 340.5325,-1802.2616 328.8935,-1794.116\" fill=\"none\" stroke=\"#000000\"/>\n<polygon fill=\"#000000\" points=\"330.6612,-1791.0903 320.3726,-1788.5614 326.8385,-1796.9544 330.6612,-1791.0903\" stroke=\"#000000\"/>\n</g>\n<!-- 140707529295184 -->\n<g class=\"node\" id=\"node82\">\n<title>140707529295184</title>\n<polygon fill=\"none\" points=\"13.5,-1825.5 13.5,-1861.5 349.5,-1861.5 349.5,-1825.5 13.5,-1825.5\" stroke=\"#000000\"/>\n<text fill=\"#000000\" font-family=\"Times,serif\" font-size=\"14.00\" text-anchor=\"middle\" x=\"181.5\" y=\"-1839.8\">Encoder-10-MultiHeadSelfAttention-Dropout: Dropout</text>\n</g>\n<!-- 140707529273240&#45;&gt;140707529295184 -->\n<g class=\"edge\" id=\"edge99\">\n<title>140707529273240-&gt;140707529295184</title>\n<path d=\"M179.2416,-1898.4551C179.5733,-1890.3828 179.9722,-1880.6764 180.3418,-1871.6817\" fill=\"none\" stroke=\"#000000\"/>\n<polygon fill=\"#000000\" points=\"183.8429,-1871.7257 180.7566,-1861.5904 176.8488,-1871.4382 183.8429,-1871.7257\" stroke=\"#000000\"/>\n</g>\n<!-- 140707529295184&#45;&gt;140707529362960 -->\n<g class=\"edge\" id=\"edge101\">\n<title>140707529295184-&gt;140707529362960</title>\n<path d=\"M206.2191,-1825.4551C218.9597,-1816.1545 234.6721,-1804.6844 248.4408,-1794.6332\" fill=\"none\" stroke=\"#000000\"/>\n<polygon fill=\"#000000\" points=\"250.7055,-1797.3134 256.7187,-1788.5904 246.5781,-1791.6596 250.7055,-1797.3134\" stroke=\"#000000\"/>\n</g>\n<!-- 140707528953752 -->\n<g class=\"node\" id=\"node84\">\n<title>140707528953752</title>\n<polygon fill=\"none\" points=\"88,-1679.5 88,-1715.5 475,-1715.5 475,-1679.5 88,-1679.5\" stroke=\"#000000\"/>\n<text fill=\"#000000\" font-family=\"Times,serif\" font-size=\"14.00\" text-anchor=\"middle\" x=\"281.5\" y=\"-1693.8\">Encoder-10-MultiHeadSelfAttention-Norm: LayerNormalization</text>\n</g>\n<!-- 140707529362960&#45;&gt;140707528953752 -->\n<g class=\"edge\" id=\"edge102\">\n<title>140707529362960-&gt;140707528953752</title>\n<path d=\"M281.5,-1752.4551C281.5,-1744.3828 281.5,-1734.6764 281.5,-1725.6817\" fill=\"none\" stroke=\"#000000\"/>\n<polygon fill=\"#000000\" points=\"285.0001,-1725.5903 281.5,-1715.5904 278.0001,-1725.5904 285.0001,-1725.5903\" stroke=\"#000000\"/>\n</g>\n<!-- 140707528490848 -->\n<g class=\"node\" id=\"node85\">\n<title>140707528490848</title>\n<polygon fill=\"none\" points=\"74,-1606.5 74,-1642.5 323,-1642.5 323,-1606.5 74,-1606.5\" stroke=\"#000000\"/>\n<text fill=\"#000000\" font-family=\"Times,serif\" font-size=\"14.00\" text-anchor=\"middle\" x=\"198.5\" y=\"-1620.8\">Encoder-10-FeedForward: FeedForward</text>\n</g>\n<!-- 140707528953752&#45;&gt;140707528490848 -->\n<g class=\"edge\" id=\"edge103\">\n<title>140707528953752-&gt;140707528490848</title>\n<path d=\"M260.9831,-1679.4551C250.608,-1670.3299 237.8584,-1659.1165 226.5877,-1649.2036\" fill=\"none\" stroke=\"#000000\"/>\n<polygon fill=\"#000000\" points=\"228.8889,-1646.5665 219.0685,-1642.5904 224.2659,-1651.8228 228.8889,-1646.5665\" stroke=\"#000000\"/>\n</g>\n<!-- 140707528572376 -->\n<g class=\"node\" id=\"node87\">\n<title>140707528572376</title>\n<polygon fill=\"none\" points=\"162,-1460.5 162,-1496.5 389,-1496.5 389,-1460.5 162,-1460.5\" stroke=\"#000000\"/>\n<text fill=\"#000000\" font-family=\"Times,serif\" font-size=\"14.00\" text-anchor=\"middle\" x=\"275.5\" y=\"-1474.8\">Encoder-10-FeedForward-Add: Add</text>\n</g>\n<!-- 140707528953752&#45;&gt;140707528572376 -->\n<g class=\"edge\" id=\"edge105\">\n<title>140707528953752-&gt;140707528572376</title>\n<path d=\"M303.7102,-1679.3371C313.9414,-1669.6709 325.1891,-1656.916 331.5,-1643 351.745,-1598.358 360.0543,-1577.5004 339.5,-1533 334.0436,-1521.1867 324.6242,-1510.9911 314.6643,-1502.7193\" fill=\"none\" stroke=\"#000000\"/>\n<polygon fill=\"#000000\" points=\"316.678,-1499.8521 306.6262,-1496.5038 312.396,-1505.3897 316.678,-1499.8521\" stroke=\"#000000\"/>\n</g>\n<!-- 140707528516888 -->\n<g class=\"node\" id=\"node86\">\n<title>140707528516888</title>\n<polygon fill=\"none\" points=\"55,-1533.5 55,-1569.5 330,-1569.5 330,-1533.5 55,-1533.5\" stroke=\"#000000\"/>\n<text fill=\"#000000\" font-family=\"Times,serif\" font-size=\"14.00\" text-anchor=\"middle\" x=\"192.5\" y=\"-1547.8\">Encoder-10-FeedForward-Dropout: Dropout</text>\n</g>\n<!-- 140707528490848&#45;&gt;140707528516888 -->\n<g class=\"edge\" id=\"edge104\">\n<title>140707528490848-&gt;140707528516888</title>\n<path d=\"M197.0169,-1606.4551C196.3534,-1598.3828 195.5556,-1588.6764 194.8163,-1579.6817\" fill=\"none\" stroke=\"#000000\"/>\n<polygon fill=\"#000000\" points=\"198.2944,-1579.27 193.9869,-1569.5904 191.3179,-1579.8435 198.2944,-1579.27\" stroke=\"#000000\"/>\n</g>\n<!-- 140707528516888&#45;&gt;140707528572376 -->\n<g class=\"edge\" id=\"edge106\">\n<title>140707528516888-&gt;140707528572376</title>\n<path d=\"M213.0169,-1533.4551C223.392,-1524.3299 236.1416,-1513.1165 247.4123,-1503.2036\" fill=\"none\" stroke=\"#000000\"/>\n<polygon fill=\"#000000\" points=\"249.7341,-1505.8228 254.9315,-1496.5904 245.1111,-1500.5665 249.7341,-1505.8228\" stroke=\"#000000\"/>\n</g>\n<!-- 140707528207888 -->\n<g class=\"node\" id=\"node88\">\n<title>140707528207888</title>\n<polygon fill=\"none\" points=\"112.5,-1387.5 112.5,-1423.5 438.5,-1423.5 438.5,-1387.5 112.5,-1387.5\" stroke=\"#000000\"/>\n<text fill=\"#000000\" font-family=\"Times,serif\" font-size=\"14.00\" text-anchor=\"middle\" x=\"275.5\" y=\"-1401.8\">Encoder-10-FeedForward-Norm: LayerNormalization</text>\n</g>\n<!-- 140707528572376&#45;&gt;140707528207888 -->\n<g class=\"edge\" id=\"edge107\">\n<title>140707528572376-&gt;140707528207888</title>\n<path d=\"M275.5,-1460.4551C275.5,-1452.3828 275.5,-1442.6764 275.5,-1433.6817\" fill=\"none\" stroke=\"#000000\"/>\n<polygon fill=\"#000000\" points=\"279.0001,-1433.5903 275.5,-1423.5904 272.0001,-1433.5904 279.0001,-1433.5903\" stroke=\"#000000\"/>\n</g>\n<!-- 140707528277296 -->\n<g class=\"node\" id=\"node89\">\n<title>140707528277296</title>\n<polygon fill=\"none\" points=\"0,-1314.5 0,-1350.5 349,-1350.5 349,-1314.5 0,-1314.5\" stroke=\"#000000\"/>\n<text fill=\"#000000\" font-family=\"Times,serif\" font-size=\"14.00\" text-anchor=\"middle\" x=\"174.5\" y=\"-1328.8\">Encoder-11-MultiHeadSelfAttention: MultiHeadAttention</text>\n</g>\n<!-- 140707528207888&#45;&gt;140707528277296 -->\n<g class=\"edge\" id=\"edge108\">\n<title>140707528207888-&gt;140707528277296</title>\n<path d=\"M250.5337,-1387.4551C237.6658,-1378.1545 221.7962,-1366.6844 207.8898,-1356.6332\" fill=\"none\" stroke=\"#000000\"/>\n<polygon fill=\"#000000\" points=\"209.6841,-1353.6116 199.5291,-1350.5904 205.5836,-1359.2849 209.6841,-1353.6116\" stroke=\"#000000\"/>\n</g>\n<!-- 140707528375208 -->\n<g class=\"node\" id=\"node91\">\n<title>140707528375208</title>\n<polygon fill=\"none\" points=\"133.5,-1168.5 133.5,-1204.5 421.5,-1204.5 421.5,-1168.5 133.5,-1168.5\" stroke=\"#000000\"/>\n<text fill=\"#000000\" font-family=\"Times,serif\" font-size=\"14.00\" text-anchor=\"middle\" x=\"277.5\" y=\"-1182.8\">Encoder-11-MultiHeadSelfAttention-Add: Add</text>\n</g>\n<!-- 140707528207888&#45;&gt;140707528375208 -->\n<g class=\"edge\" id=\"edge110\">\n<title>140707528207888-&gt;140707528375208</title>\n<path d=\"M319.5299,-1387.3618C334.6906,-1378.7299 349.9854,-1366.7771 358.5,-1351 366.6814,-1335.8405 364.4328,-1258.9762 354.5,-1241 347.6163,-1228.542 336.5325,-1218.2616 324.8935,-1210.116\" fill=\"none\" stroke=\"#000000\"/>\n<polygon fill=\"#000000\" points=\"326.6612,-1207.0903 316.3726,-1204.5614 322.8385,-1212.9544 326.6612,-1207.0903\" stroke=\"#000000\"/>\n</g>\n<!-- 140707528313936 -->\n<g class=\"node\" id=\"node90\">\n<title>140707528313936</title>\n<polygon fill=\"none\" points=\"10,-1241.5 10,-1277.5 345,-1277.5 345,-1241.5 10,-1241.5\" stroke=\"#000000\"/>\n<text fill=\"#000000\" font-family=\"Times,serif\" font-size=\"14.00\" text-anchor=\"middle\" x=\"177.5\" y=\"-1255.8\">Encoder-11-MultiHeadSelfAttention-Dropout: Dropout</text>\n</g>\n<!-- 140707528277296&#45;&gt;140707528313936 -->\n<g class=\"edge\" id=\"edge109\">\n<title>140707528277296-&gt;140707528313936</title>\n<path d=\"M175.2416,-1314.4551C175.5733,-1306.3828 175.9722,-1296.6764 176.3418,-1287.6817\" fill=\"none\" stroke=\"#000000\"/>\n<polygon fill=\"#000000\" points=\"179.8429,-1287.7257 176.7566,-1277.5904 172.8488,-1287.4382 179.8429,-1287.7257\" stroke=\"#000000\"/>\n</g>\n<!-- 140707528313936&#45;&gt;140707528375208 -->\n<g class=\"edge\" id=\"edge111\">\n<title>140707528313936-&gt;140707528375208</title>\n<path d=\"M202.2191,-1241.4551C214.9597,-1232.1545 230.6721,-1220.6844 244.4408,-1210.6332\" fill=\"none\" stroke=\"#000000\"/>\n<polygon fill=\"#000000\" points=\"246.7055,-1213.3134 252.7187,-1204.5904 242.5781,-1207.6596 246.7055,-1213.3134\" stroke=\"#000000\"/>\n</g>\n<!-- 140707527450016 -->\n<g class=\"node\" id=\"node92\">\n<title>140707527450016</title>\n<polygon fill=\"none\" points=\"84.5,-1095.5 84.5,-1131.5 470.5,-1131.5 470.5,-1095.5 84.5,-1095.5\" stroke=\"#000000\"/>\n<text fill=\"#000000\" font-family=\"Times,serif\" font-size=\"14.00\" text-anchor=\"middle\" x=\"277.5\" y=\"-1109.8\">Encoder-11-MultiHeadSelfAttention-Norm: LayerNormalization</text>\n</g>\n<!-- 140707528375208&#45;&gt;140707527450016 -->\n<g class=\"edge\" id=\"edge112\">\n<title>140707528375208-&gt;140707527450016</title>\n<path d=\"M277.5,-1168.4551C277.5,-1160.3828 277.5,-1150.6764 277.5,-1141.6817\" fill=\"none\" stroke=\"#000000\"/>\n<polygon fill=\"#000000\" points=\"281.0001,-1141.5903 277.5,-1131.5904 274.0001,-1141.5904 281.0001,-1141.5903\" stroke=\"#000000\"/>\n</g>\n<!-- 140707527511288 -->\n<g class=\"node\" id=\"node93\">\n<title>140707527511288</title>\n<polygon fill=\"none\" points=\"77.5,-1022.5 77.5,-1058.5 325.5,-1058.5 325.5,-1022.5 77.5,-1022.5\" stroke=\"#000000\"/>\n<text fill=\"#000000\" font-family=\"Times,serif\" font-size=\"14.00\" text-anchor=\"middle\" x=\"201.5\" y=\"-1036.8\">Encoder-11-FeedForward: FeedForward</text>\n</g>\n<!-- 140707527450016&#45;&gt;140707527511288 -->\n<g class=\"edge\" id=\"edge113\">\n<title>140707527450016-&gt;140707527511288</title>\n<path d=\"M258.7135,-1095.4551C249.3961,-1086.5054 237.9873,-1075.547 227.8157,-1065.7769\" fill=\"none\" stroke=\"#000000\"/>\n<polygon fill=\"#000000\" points=\"229.9704,-1062.9935 220.3338,-1058.5904 225.1212,-1068.0419 229.9704,-1062.9935\" stroke=\"#000000\"/>\n</g>\n<!-- 140707527605104 -->\n<g class=\"node\" id=\"node95\">\n<title>140707527605104</title>\n<polygon fill=\"none\" points=\"163,-876.5 163,-912.5 390,-912.5 390,-876.5 163,-876.5\" stroke=\"#000000\"/>\n<text fill=\"#000000\" font-family=\"Times,serif\" font-size=\"14.00\" text-anchor=\"middle\" x=\"276.5\" y=\"-890.8\">Encoder-11-FeedForward-Add: Add</text>\n</g>\n<!-- 140707527450016&#45;&gt;140707527605104 -->\n<g class=\"edge\" id=\"edge115\">\n<title>140707527450016-&gt;140707527605104</title>\n<path d=\"M303.8634,-1095.2916C315.3206,-1085.8699 327.6647,-1073.3358 334.5,-1059 355.572,-1014.8049 361.0306,-993.4492 340.5,-949 335.0436,-937.1867 325.6242,-926.9911 315.6643,-918.7193\" fill=\"none\" stroke=\"#000000\"/>\n<polygon fill=\"#000000\" points=\"317.678,-915.8521 307.6262,-912.5038 313.396,-921.3897 317.678,-915.8521\" stroke=\"#000000\"/>\n</g>\n<!-- 140707527515160 -->\n<g class=\"node\" id=\"node94\">\n<title>140707527515160</title>\n<polygon fill=\"none\" points=\"57.5,-949.5 57.5,-985.5 331.5,-985.5 331.5,-949.5 57.5,-949.5\" stroke=\"#000000\"/>\n<text fill=\"#000000\" font-family=\"Times,serif\" font-size=\"14.00\" text-anchor=\"middle\" x=\"194.5\" y=\"-963.8\">Encoder-11-FeedForward-Dropout: Dropout</text>\n</g>\n<!-- 140707527511288&#45;&gt;140707527515160 -->\n<g class=\"edge\" id=\"edge114\">\n<title>140707527511288-&gt;140707527515160</title>\n<path d=\"M199.7697,-1022.4551C198.9956,-1014.3828 198.0649,-1004.6764 197.2024,-995.6817\" fill=\"none\" stroke=\"#000000\"/>\n<polygon fill=\"#000000\" points=\"200.6733,-995.2106 196.2347,-985.5904 193.7053,-995.8788 200.6733,-995.2106\" stroke=\"#000000\"/>\n</g>\n<!-- 140707527515160&#45;&gt;140707527605104 -->\n<g class=\"edge\" id=\"edge116\">\n<title>140707527515160-&gt;140707527605104</title>\n<path d=\"M214.7697,-949.4551C224.9212,-940.4177 237.3738,-929.3319 248.4291,-919.4899\" fill=\"none\" stroke=\"#000000\"/>\n<polygon fill=\"#000000\" points=\"251.0375,-921.8539 256.1793,-912.5904 246.383,-916.6255 251.0375,-921.8539\" stroke=\"#000000\"/>\n</g>\n<!-- 140707527237304 -->\n<g class=\"node\" id=\"node96\">\n<title>140707527237304</title>\n<polygon fill=\"none\" points=\"114,-803.5 114,-839.5 439,-839.5 439,-803.5 114,-803.5\" stroke=\"#000000\"/>\n<text fill=\"#000000\" font-family=\"Times,serif\" font-size=\"14.00\" text-anchor=\"middle\" x=\"276.5\" y=\"-817.8\">Encoder-11-FeedForward-Norm: LayerNormalization</text>\n</g>\n<!-- 140707527605104&#45;&gt;140707527237304 -->\n<g class=\"edge\" id=\"edge117\">\n<title>140707527605104-&gt;140707527237304</title>\n<path d=\"M276.5,-876.4551C276.5,-868.3828 276.5,-858.6764 276.5,-849.6817\" fill=\"none\" stroke=\"#000000\"/>\n<polygon fill=\"#000000\" points=\"280.0001,-849.5903 276.5,-839.5904 273.0001,-849.5904 280.0001,-849.5903\" stroke=\"#000000\"/>\n</g>\n<!-- 140707527236520 -->\n<g class=\"node\" id=\"node97\">\n<title>140707527236520</title>\n<polygon fill=\"none\" points=\".5,-730.5 .5,-766.5 350.5,-766.5 350.5,-730.5 .5,-730.5\" stroke=\"#000000\"/>\n<text fill=\"#000000\" font-family=\"Times,serif\" font-size=\"14.00\" text-anchor=\"middle\" x=\"175.5\" y=\"-744.8\">Encoder-12-MultiHeadSelfAttention: MultiHeadAttention</text>\n</g>\n<!-- 140707527237304&#45;&gt;140707527236520 -->\n<g class=\"edge\" id=\"edge118\">\n<title>140707527237304-&gt;140707527236520</title>\n<path d=\"M251.5337,-803.4551C238.6658,-794.1545 222.7962,-782.6844 208.8898,-772.6332\" fill=\"none\" stroke=\"#000000\"/>\n<polygon fill=\"#000000\" points=\"210.6841,-769.6116 200.5291,-766.5904 206.5836,-775.2849 210.6841,-769.6116\" stroke=\"#000000\"/>\n</g>\n<!-- 140707527346496 -->\n<g class=\"node\" id=\"node99\">\n<title>140707527346496</title>\n<polygon fill=\"none\" points=\"134,-584.5 134,-620.5 423,-620.5 423,-584.5 134,-584.5\" stroke=\"#000000\"/>\n<text fill=\"#000000\" font-family=\"Times,serif\" font-size=\"14.00\" text-anchor=\"middle\" x=\"278.5\" y=\"-598.8\">Encoder-12-MultiHeadSelfAttention-Add: Add</text>\n</g>\n<!-- 140707527237304&#45;&gt;140707527346496 -->\n<g class=\"edge\" id=\"edge120\">\n<title>140707527237304-&gt;140707527346496</title>\n<path d=\"M320.5299,-803.3618C335.6906,-794.7299 350.9854,-782.7771 359.5,-767 367.6814,-751.8405 365.4328,-674.9762 355.5,-657 348.6163,-644.542 337.5325,-634.2616 325.8935,-626.116\" fill=\"none\" stroke=\"#000000\"/>\n<polygon fill=\"#000000\" points=\"327.6612,-623.0903 317.3726,-620.5614 323.8385,-628.9544 327.6612,-623.0903\" stroke=\"#000000\"/>\n</g>\n<!-- 140707527302280 -->\n<g class=\"node\" id=\"node98\">\n<title>140707527302280</title>\n<polygon fill=\"none\" points=\"10.5,-657.5 10.5,-693.5 346.5,-693.5 346.5,-657.5 10.5,-657.5\" stroke=\"#000000\"/>\n<text fill=\"#000000\" font-family=\"Times,serif\" font-size=\"14.00\" text-anchor=\"middle\" x=\"178.5\" y=\"-671.8\">Encoder-12-MultiHeadSelfAttention-Dropout: Dropout</text>\n</g>\n<!-- 140707527236520&#45;&gt;140707527302280 -->\n<g class=\"edge\" id=\"edge119\">\n<title>140707527236520-&gt;140707527302280</title>\n<path d=\"M176.2416,-730.4551C176.5733,-722.3828 176.9722,-712.6764 177.3418,-703.6817\" fill=\"none\" stroke=\"#000000\"/>\n<polygon fill=\"#000000\" points=\"180.8429,-703.7257 177.7566,-693.5904 173.8488,-703.4382 180.8429,-703.7257\" stroke=\"#000000\"/>\n</g>\n<!-- 140707527302280&#45;&gt;140707527346496 -->\n<g class=\"edge\" id=\"edge121\">\n<title>140707527302280-&gt;140707527346496</title>\n<path d=\"M203.2191,-657.4551C215.9597,-648.1545 231.6721,-636.6844 245.4408,-626.6332\" fill=\"none\" stroke=\"#000000\"/>\n<polygon fill=\"#000000\" points=\"247.7055,-629.3134 253.7187,-620.5904 243.5781,-623.6596 247.7055,-629.3134\" stroke=\"#000000\"/>\n</g>\n<!-- 140707526413336 -->\n<g class=\"node\" id=\"node100\">\n<title>140707526413336</title>\n<polygon fill=\"none\" points=\"85,-511.5 85,-547.5 472,-547.5 472,-511.5 85,-511.5\" stroke=\"#000000\"/>\n<text fill=\"#000000\" font-family=\"Times,serif\" font-size=\"14.00\" text-anchor=\"middle\" x=\"278.5\" y=\"-525.8\">Encoder-12-MultiHeadSelfAttention-Norm: LayerNormalization</text>\n</g>\n<!-- 140707527346496&#45;&gt;140707526413336 -->\n<g class=\"edge\" id=\"edge122\">\n<title>140707527346496-&gt;140707526413336</title>\n<path d=\"M278.5,-584.4551C278.5,-576.3828 278.5,-566.6764 278.5,-557.6817\" fill=\"none\" stroke=\"#000000\"/>\n<polygon fill=\"#000000\" points=\"282.0001,-557.5903 278.5,-547.5904 275.0001,-557.5904 282.0001,-557.5903\" stroke=\"#000000\"/>\n</g>\n<!-- 140707526446216 -->\n<g class=\"node\" id=\"node101\">\n<title>140707526446216</title>\n<polygon fill=\"none\" points=\"71,-438.5 71,-474.5 320,-474.5 320,-438.5 71,-438.5\" stroke=\"#000000\"/>\n<text fill=\"#000000\" font-family=\"Times,serif\" font-size=\"14.00\" text-anchor=\"middle\" x=\"195.5\" y=\"-452.8\">Encoder-12-FeedForward: FeedForward</text>\n</g>\n<!-- 140707526413336&#45;&gt;140707526446216 -->\n<g class=\"edge\" id=\"edge123\">\n<title>140707526413336-&gt;140707526446216</title>\n<path d=\"M257.9831,-511.4551C247.608,-502.3299 234.8584,-491.1165 223.5877,-481.2036\" fill=\"none\" stroke=\"#000000\"/>\n<polygon fill=\"#000000\" points=\"225.8889,-478.5665 216.0685,-474.5904 221.2659,-483.8228 225.8889,-478.5665\" stroke=\"#000000\"/>\n</g>\n<!-- 140707526097160 -->\n<g class=\"node\" id=\"node103\">\n<title>140707526097160</title>\n<polygon fill=\"none\" points=\"159,-292.5 159,-328.5 386,-328.5 386,-292.5 159,-292.5\" stroke=\"#000000\"/>\n<text fill=\"#000000\" font-family=\"Times,serif\" font-size=\"14.00\" text-anchor=\"middle\" x=\"272.5\" y=\"-306.8\">Encoder-12-FeedForward-Add: Add</text>\n</g>\n<!-- 140707526413336&#45;&gt;140707526097160 -->\n<g class=\"edge\" id=\"edge125\">\n<title>140707526413336-&gt;140707526097160</title>\n<path d=\"M300.7102,-511.3371C310.9414,-501.6709 322.1891,-488.916 328.5,-475 348.745,-430.358 357.0543,-409.5004 336.5,-365 331.0436,-353.1867 321.6242,-342.9911 311.6643,-334.7193\" fill=\"none\" stroke=\"#000000\"/>\n<polygon fill=\"#000000\" points=\"313.678,-331.8521 303.6262,-328.5038 309.396,-337.3897 313.678,-331.8521\" stroke=\"#000000\"/>\n</g>\n<!-- 140707526532176 -->\n<g class=\"node\" id=\"node102\">\n<title>140707526532176</title>\n<polygon fill=\"none\" points=\"52,-365.5 52,-401.5 327,-401.5 327,-365.5 52,-365.5\" stroke=\"#000000\"/>\n<text fill=\"#000000\" font-family=\"Times,serif\" font-size=\"14.00\" text-anchor=\"middle\" x=\"189.5\" y=\"-379.8\">Encoder-12-FeedForward-Dropout: Dropout</text>\n</g>\n<!-- 140707526446216&#45;&gt;140707526532176 -->\n<g class=\"edge\" id=\"edge124\">\n<title>140707526446216-&gt;140707526532176</title>\n<path d=\"M194.0169,-438.4551C193.3534,-430.3828 192.5556,-420.6764 191.8163,-411.6817\" fill=\"none\" stroke=\"#000000\"/>\n<polygon fill=\"#000000\" points=\"195.2944,-411.27 190.9869,-401.5904 188.3179,-411.8435 195.2944,-411.27\" stroke=\"#000000\"/>\n</g>\n<!-- 140707526532176&#45;&gt;140707526097160 -->\n<g class=\"edge\" id=\"edge126\">\n<title>140707526532176-&gt;140707526097160</title>\n<path d=\"M210.0169,-365.4551C220.392,-356.3299 233.1416,-345.1165 244.4123,-335.2036\" fill=\"none\" stroke=\"#000000\"/>\n<polygon fill=\"#000000\" points=\"246.7341,-337.8228 251.9315,-328.5904 242.1111,-332.5665 246.7341,-337.8228\" stroke=\"#000000\"/>\n</g>\n<!-- 140707526261840 -->\n<g class=\"node\" id=\"node104\">\n<title>140707526261840</title>\n<polygon fill=\"none\" points=\"109.5,-219.5 109.5,-255.5 435.5,-255.5 435.5,-219.5 109.5,-219.5\" stroke=\"#000000\"/>\n<text fill=\"#000000\" font-family=\"Times,serif\" font-size=\"14.00\" text-anchor=\"middle\" x=\"272.5\" y=\"-233.8\">Encoder-12-FeedForward-Norm: LayerNormalization</text>\n</g>\n<!-- 140707526097160&#45;&gt;140707526261840 -->\n<g class=\"edge\" id=\"edge127\">\n<title>140707526097160-&gt;140707526261840</title>\n<path d=\"M272.5,-292.4551C272.5,-284.3828 272.5,-274.6764 272.5,-265.6817\" fill=\"none\" stroke=\"#000000\"/>\n<polygon fill=\"#000000\" points=\"276.0001,-265.5903 272.5,-255.5904 269.0001,-265.5904 276.0001,-265.5903\" stroke=\"#000000\"/>\n</g>\n<!-- 140707526020792 -->\n<g class=\"node\" id=\"node105\">\n<title>140707526020792</title>\n<polygon fill=\"none\" points=\"220,-146.5 220,-182.5 325,-182.5 325,-146.5 220,-146.5\" stroke=\"#000000\"/>\n<text fill=\"#000000\" font-family=\"Times,serif\" font-size=\"14.00\" text-anchor=\"middle\" x=\"272.5\" y=\"-160.8\">Extract: Extract</text>\n</g>\n<!-- 140707526261840&#45;&gt;140707526020792 -->\n<g class=\"edge\" id=\"edge128\">\n<title>140707526261840-&gt;140707526020792</title>\n<path d=\"M272.5,-219.4551C272.5,-211.3828 272.5,-201.6764 272.5,-192.6817\" fill=\"none\" stroke=\"#000000\"/>\n<polygon fill=\"#000000\" points=\"276.0001,-192.5903 272.5,-182.5904 269.0001,-192.5904 276.0001,-192.5903\" stroke=\"#000000\"/>\n</g>\n<!-- 140707525577360 -->\n<g class=\"node\" id=\"node106\">\n<title>140707525577360</title>\n<polygon fill=\"none\" points=\"209.5,-73.5 209.5,-109.5 335.5,-109.5 335.5,-73.5 209.5,-73.5\" stroke=\"#000000\"/>\n<text fill=\"#000000\" font-family=\"Times,serif\" font-size=\"14.00\" text-anchor=\"middle\" x=\"272.5\" y=\"-87.8\">NSP-Dense: Dense</text>\n</g>\n<!-- 140707526020792&#45;&gt;140707525577360 -->\n<g class=\"edge\" id=\"edge129\">\n<title>140707526020792-&gt;140707525577360</title>\n<path d=\"M272.5,-146.4551C272.5,-138.3828 272.5,-128.6764 272.5,-119.6817\" fill=\"none\" stroke=\"#000000\"/>\n<polygon fill=\"#000000\" points=\"276.0001,-119.5903 272.5,-109.5904 269.0001,-119.5904 276.0001,-119.5903\" stroke=\"#000000\"/>\n</g>\n<!-- 140707296742648 -->\n<g class=\"node\" id=\"node107\">\n<title>140707296742648</title>\n<polygon fill=\"none\" points=\"210,-.5 210,-36.5 335,-36.5 335,-.5 210,-.5\" stroke=\"#000000\"/>\n<text fill=\"#000000\" font-family=\"Times,serif\" font-size=\"14.00\" text-anchor=\"middle\" x=\"272.5\" y=\"-14.8\">real_output: Dense</text>\n</g>\n<!-- 140707525577360&#45;&gt;140707296742648 -->\n<g class=\"edge\" id=\"edge130\">\n<title>140707525577360-&gt;140707296742648</title>\n<path d=\"M272.5,-73.4551C272.5,-65.3828 272.5,-55.6764 272.5,-46.6817\" fill=\"none\" stroke=\"#000000\"/>\n<polygon fill=\"#000000\" points=\"276.0001,-46.5903 272.5,-36.5904 269.0001,-46.5904 276.0001,-46.5903\" stroke=\"#000000\"/>\n</g>\n</g>\n</svg>"
          },
          "metadata": {
            "tags": []
          },
          "execution_count": 29
        }
      ]
    },
    {
      "cell_type": "markdown",
      "metadata": {
        "colab_type": "text",
        "id": "gLLayijHNEjz"
      },
      "source": [
        "bert_model을 get_bert_finetuning_model 함수로 불러들입니다.\n",
        "이 다음에 bert_model.fit을 활용하여 버트 모형 파인튜닝을 시작하게 됩니다.\n",
        "실시간으로 테스트 데이터에 대한 정확도를 알기 위해 validation_data = (test_x, test_y)로 정하였습니다.\n",
        "\n",
        "**2 에포크 만에 정확도가 88.02%에 도달함을 알 수 있습니다.**  \n",
        "  \n",
        "\n",
        "만약에 ETRI에서 만든 한국어로 학습된 BERT 모형을 사용하면 정확도가 90%가 넘기도 합니다.(조만간 ETRI BERT를 활용하여 정확도 높이는 기법도 알려 드리겠습니다.)  \n",
        "  \n",
        "\n",
        "사실 아무 전처리 없이 네이버 감성분석의 정확도가 2 에포크 만에 88.02%가 나온 것은 상당히 고무적인 것입니다.  \n",
        "  \n",
        "\n",
        "BiLSTM 이나 어텐션 기법을 사용했을 시 보통 테스트셋에 대한 정확도가 86% 정도로 알려져 있습니다."
      ]
    },
    {
      "cell_type": "code",
      "metadata": {
        "id": "xRQE_SXtLIOc",
        "colab_type": "code",
        "colab": {}
      },
      "source": [
        "from keras.utils import to_categorical\n",
        "\n",
        "train_y_new = to_categorical(train_y, num_classes=5)\n",
        "test_y_new = to_categorical(test_y, num_classes=5)"
      ],
      "execution_count": 0,
      "outputs": []
    },
    {
      "cell_type": "code",
      "metadata": {
        "colab_type": "code",
        "id": "-7On1hY3I7o1",
        "outputId": "fadc1cca-f20a-4fc3-9900-1b12d376a4d7",
        "colab": {
          "base_uri": "https://localhost:8080/",
          "height": 190
        }
      },
      "source": [
        "sess = K.get_session()\n",
        "uninitialized_variables = set([i.decode('ascii') for i in sess.run(tf.report_uninitialized_variables())])\n",
        "init = tf.variables_initializer([v for v in tf.global_variables() if v.name.split(':')[0] in uninitialized_variables])\n",
        "sess.run(init)\n",
        "\n",
        "bert_model = get_bert_finetuning_model(model)\n",
        "history = bert_model.fit(train_x, train_y_new, epochs=2, batch_size=16, verbose = 1, validation_data=(test_x, test_y_new), shuffle=True)"
      ],
      "execution_count": 36,
      "outputs": [
        {
          "output_type": "stream",
          "text": [
            "WARNING:tensorflow:From /usr/local/lib/python3.6/dist-packages/keras/backend/tensorflow_backend.py:1033: The name tf.assign_add is deprecated. Please use tf.compat.v1.assign_add instead.\n",
            "\n",
            "WARNING:tensorflow:From /usr/local/lib/python3.6/dist-packages/keras/backend/tensorflow_backend.py:1020: The name tf.assign is deprecated. Please use tf.compat.v1.assign instead.\n",
            "\n",
            "Train on 15000 samples, validate on 1495 samples\n",
            "Epoch 1/2\n",
            "15000/15000 [==============================] - 578s 39ms/step - loss: 1.3407 - acc: 0.3979 - val_loss: 1.2386 - val_acc: 0.4689\n",
            "Epoch 2/2\n",
            "15000/15000 [==============================] - 573s 38ms/step - loss: 1.1008 - acc: 0.5121 - val_loss: 1.1045 - val_acc: 0.5251\n"
          ],
          "name": "stdout"
        }
      ]
    },
    {
      "cell_type": "code",
      "metadata": {
        "id": "a9FwMF-wQ9Cl",
        "colab_type": "code",
        "colab": {
          "base_uri": "https://localhost:8080/",
          "height": 204
        },
        "outputId": "8b1c1065-6cf2-4d3b-da50-6d793e8e469f"
      },
      "source": [
        "sess = K.get_session()\n",
        "uninitialized_variables = set([i.decode('ascii') for i in sess.run(tf.report_uninitialized_variables())])\n",
        "init = tf.variables_initializer([v for v in tf.global_variables() if v.name.split(':')[0] in uninitialized_variables])\n",
        "sess.run(init)\n",
        "\n",
        "bert_model2 = get_bert_finetuning_model(model)\n",
        "history = bert_model2.fit(train_x, train_y_new, epochs=5, batch_size=16, verbose = 1, validation_data=(test_x, test_y_new), shuffle=True)"
      ],
      "execution_count": 38,
      "outputs": [
        {
          "output_type": "stream",
          "text": [
            "Train on 15000 samples, validate on 1495 samples\n",
            "Epoch 1/5\n",
            "15000/15000 [==============================] - 584s 39ms/step - loss: 1.0377 - acc: 0.5652 - val_loss: 1.0735 - val_acc: 0.5438\n",
            "Epoch 2/5\n",
            "15000/15000 [==============================] - 577s 38ms/step - loss: 0.8942 - acc: 0.6145 - val_loss: 1.0602 - val_acc: 0.5592\n",
            "Epoch 3/5\n",
            "15000/15000 [==============================] - 578s 39ms/step - loss: 0.8110 - acc: 0.6511 - val_loss: 1.0835 - val_acc: 0.5485\n",
            "Epoch 4/5\n",
            "15000/15000 [==============================] - 578s 39ms/step - loss: 0.7193 - acc: 0.6968 - val_loss: 1.1526 - val_acc: 0.5465\n",
            "Epoch 5/5\n",
            "15000/15000 [==============================] - 578s 39ms/step - loss: 0.6233 - acc: 0.7423 - val_loss: 1.2355 - val_acc: 0.5505\n"
          ],
          "name": "stdout"
        }
      ]
    },
    {
      "cell_type": "markdown",
      "metadata": {
        "id": "nM3U6_p7iEi0",
        "colab_type": "text"
      },
      "source": [
        "# 이진분류 도전"
      ]
    },
    {
      "cell_type": "code",
      "metadata": {
        "id": "-ipR17D4CYaO",
        "colab_type": "code",
        "outputId": "f5a8fdcd-ddce-46cf-81fd-11c0b179626e",
        "colab": {
          "base_uri": "https://localhost:8080/",
          "height": 606
        }
      },
      "source": [
        "label = list(data['label'])\n",
        "\n",
        "binary_label = []\n",
        "\n",
        "for i in range(len(label)):\n",
        "  if label[i] == 1 or label[i] == 2 or label[i] == 3:\n",
        "    binary_label = 0\n",
        "  elif label[i] == 4 or label[i] ==  5:\n",
        "    binary_label = 1\n",
        "data['bin_label'] = binary_label\n",
        "data"
      ],
      "execution_count": 0,
      "outputs": [
        {
          "output_type": "execute_result",
          "data": {
            "text/html": [
              "<div>\n",
              "<style scoped>\n",
              "    .dataframe tbody tr th:only-of-type {\n",
              "        vertical-align: middle;\n",
              "    }\n",
              "\n",
              "    .dataframe tbody tr th {\n",
              "        vertical-align: top;\n",
              "    }\n",
              "\n",
              "    .dataframe thead th {\n",
              "        text-align: right;\n",
              "    }\n",
              "</style>\n",
              "<table border=\"1\" class=\"dataframe\">\n",
              "  <thead>\n",
              "    <tr style=\"text-align: right;\">\n",
              "      <th></th>\n",
              "      <th>Unnamed: 0</th>\n",
              "      <th>product</th>\n",
              "      <th>brand</th>\n",
              "      <th>user</th>\n",
              "      <th>star</th>\n",
              "      <th>review</th>\n",
              "      <th>label</th>\n",
              "      <th>clear_review</th>\n",
              "      <th>bin_label</th>\n",
              "    </tr>\n",
              "  </thead>\n",
              "  <tbody>\n",
              "    <tr>\n",
              "      <th>0</th>\n",
              "      <td>0</td>\n",
              "      <td>녹차실감 샴푸액 지성용</td>\n",
              "      <td>아모스프로페셔널</td>\n",
              "      <td>타이니콩콩</td>\n",
              "      <td>별다섯개</td>\n",
              "      <td>일단 커서 좋고. 거품잘나서 좋고. 특유의 초록빛깔에 알갱이 박힌 느낌이 뭔가 내머...</td>\n",
              "      <td>4</td>\n",
              "      <td>일단 커서 좋고 거품잘나서 좋고 특유의 초록빛깔에 알갱이 박힌 느낌이 뭔가 내머리를...</td>\n",
              "      <td>0</td>\n",
              "    </tr>\n",
              "    <tr>\n",
              "      <th>1</th>\n",
              "      <td>1</td>\n",
              "      <td>녹차실감 샴푸액 지성용</td>\n",
              "      <td>아모스프로페셔널</td>\n",
              "      <td>팥죽</td>\n",
              "      <td>별다섯개</td>\n",
              "      <td>거품이 정말 부드럽게 나서 그런지 머리도 부드럽게 감긴다. 거품낼 때 거칠고 뻣뻣한...</td>\n",
              "      <td>4</td>\n",
              "      <td>거품이 정말 부드럽게 나서 그런지 머리도 부드럽게 감긴다 거품낼 때 거칠고 뻣뻣한 ...</td>\n",
              "      <td>0</td>\n",
              "    </tr>\n",
              "    <tr>\n",
              "      <th>2</th>\n",
              "      <td>2</td>\n",
              "      <td>녹차실감 샴푸액 지성용</td>\n",
              "      <td>아모스프로페셔널</td>\n",
              "      <td>먊먊</td>\n",
              "      <td>별세개</td>\n",
              "      <td>샴푸에도 건성 지성이 있구나를 알려준 제품입니다 두피타입에 따라 호불호가 확 갈리겠...</td>\n",
              "      <td>2</td>\n",
              "      <td>샴푸에도 건성 지성이 있구나를 알려준 제품입니다 두피타입에 따라 호불호가 확 갈리겠...</td>\n",
              "      <td>0</td>\n",
              "    </tr>\n",
              "    <tr>\n",
              "      <th>3</th>\n",
              "      <td>3</td>\n",
              "      <td>녹차실감 샴푸액 지성용</td>\n",
              "      <td>아모스프로페셔널</td>\n",
              "      <td>깽우니</td>\n",
              "      <td>별다섯개</td>\n",
              "      <td>우선 저는 #건성 입니다. (읭?) 네 저도 희안해요. 저의 문제는 ,,, 두피가 ...</td>\n",
              "      <td>4</td>\n",
              "      <td>우선 저는 건성 입니다 읭 네 저도 희안해요 저의 문제는  두피가 너무 건조해서 하...</td>\n",
              "      <td>0</td>\n",
              "    </tr>\n",
              "    <tr>\n",
              "      <th>4</th>\n",
              "      <td>4</td>\n",
              "      <td>녹차실감 샴푸액 지성용</td>\n",
              "      <td>아모스프로페셔널</td>\n",
              "      <td>늘양</td>\n",
              "      <td>별두개</td>\n",
              "      <td>기름기 하나는 확실히 잡아줌. 두피는 지성인데 2.5일 동안 머리 안 감아도 떡 안...</td>\n",
              "      <td>1</td>\n",
              "      <td>기름기 하나는 확실히 잡아줌 두피는 지성인데 25일 동안 머리 안 감아도 떡 안 짐...</td>\n",
              "      <td>0</td>\n",
              "    </tr>\n",
              "    <tr>\n",
              "      <th>...</th>\n",
              "      <td>...</td>\n",
              "      <td>...</td>\n",
              "      <td>...</td>\n",
              "      <td>...</td>\n",
              "      <td>...</td>\n",
              "      <td>...</td>\n",
              "      <td>...</td>\n",
              "      <td>...</td>\n",
              "      <td>...</td>\n",
              "    </tr>\n",
              "    <tr>\n",
              "      <th>16491</th>\n",
              "      <td>16491</td>\n",
              "      <td>프리미엄TS샴푸</td>\n",
              "      <td>TS</td>\n",
              "      <td>후회없는청춘</td>\n",
              "      <td>별세개</td>\n",
              "      <td>탈모 방지 샴푸라 주변에서 많이 사용해서 사용해봤는데 피부가 약해서 그런지 두피가 ...</td>\n",
              "      <td>2</td>\n",
              "      <td>탈모 방지 샴푸라 주변에서 많이 사용해서 사용해봤는데 피부가 약해서 그런지 두피가 ...</td>\n",
              "      <td>0</td>\n",
              "    </tr>\n",
              "    <tr>\n",
              "      <th>16492</th>\n",
              "      <td>16492</td>\n",
              "      <td>프리미엄TS샴푸</td>\n",
              "      <td>TS</td>\n",
              "      <td>허모찌</td>\n",
              "      <td>별네개</td>\n",
              "      <td>머리카락이 덜 빠지고 잔머리가 엄청 돋아납니다. 머리카락이 가늘고 잘 빠지는 편이라...</td>\n",
              "      <td>3</td>\n",
              "      <td>머리카락이 덜 빠지고 잔머리가 엄청 돋아납니다 머리카락이 가늘고 잘 빠지는 편이라 ...</td>\n",
              "      <td>0</td>\n",
              "    </tr>\n",
              "    <tr>\n",
              "      <th>16493</th>\n",
              "      <td>16493</td>\n",
              "      <td>프리미엄TS샴푸</td>\n",
              "      <td>TS</td>\n",
              "      <td>베싸메</td>\n",
              "      <td>별두개</td>\n",
              "      <td>엄마의 요청으로 구매 적은 사용으로 풍성한거품 생성 거품이 넘 많이 생성돼서 자극적...</td>\n",
              "      <td>1</td>\n",
              "      <td>엄마의 요청으로 구매 적은 사용으로 풍성한거품 생성 거품이 넘 많이 생성돼서 자극적...</td>\n",
              "      <td>0</td>\n",
              "    </tr>\n",
              "    <tr>\n",
              "      <th>16494</th>\n",
              "      <td>16494</td>\n",
              "      <td>프리미엄TS샴푸</td>\n",
              "      <td>TS</td>\n",
              "      <td>빠샤이</td>\n",
              "      <td>별두개</td>\n",
              "      <td>아 어쩐지 아무 효과 없더라.. TS 종류 많은거 몰랐네요.. 다 떨어져서 엄마랑 ...</td>\n",
              "      <td>1</td>\n",
              "      <td>아 어쩐지 아무 효과 없더라 TS 종류 많은거 몰랐네요 다 떨어져서 엄마랑 홈쇼핑에...</td>\n",
              "      <td>0</td>\n",
              "    </tr>\n",
              "    <tr>\n",
              "      <th>16495</th>\n",
              "      <td>16495</td>\n",
              "      <td>프리미엄TS샴푸</td>\n",
              "      <td>TS</td>\n",
              "      <td>뿌리지존</td>\n",
              "      <td>별두개</td>\n",
              "      <td>일단 향이 너무 별로이고ㅜㅠ 약냄새? 그냥 좋은건지 안좋은건지 딱히 모르겠어용</td>\n",
              "      <td>1</td>\n",
              "      <td>일단 향이 너무 별로이고ㅜㅠ 약냄새 그냥 좋은건지 안좋은건지 딱히 모르겠어용</td>\n",
              "      <td>0</td>\n",
              "    </tr>\n",
              "  </tbody>\n",
              "</table>\n",
              "<p>16496 rows × 9 columns</p>\n",
              "</div>"
            ],
            "text/plain": [
              "       Unnamed: 0  ... bin_label\n",
              "0               0  ...         0\n",
              "1               1  ...         0\n",
              "2               2  ...         0\n",
              "3               3  ...         0\n",
              "4               4  ...         0\n",
              "...           ...  ...       ...\n",
              "16491       16491  ...         0\n",
              "16492       16492  ...         0\n",
              "16493       16493  ...         0\n",
              "16494       16494  ...         0\n",
              "16495       16495  ...         0\n",
              "\n",
              "[16496 rows x 9 columns]"
            ]
          },
          "metadata": {
            "tags": []
          },
          "execution_count": 38
        }
      ]
    },
    {
      "cell_type": "code",
      "metadata": {
        "id": "kHOGz2udC-nK",
        "colab_type": "code",
        "colab": {}
      },
      "source": [
        "train_new = data.iloc[0:15000]\n",
        "test_new = data.iloc[15000:-1]"
      ],
      "execution_count": 0,
      "outputs": []
    },
    {
      "cell_type": "code",
      "metadata": {
        "id": "3M4uaeXGDM93",
        "colab_type": "code",
        "colab": {}
      },
      "source": [
        "SEQ_LEN = 128\n",
        "BATCH_SIZE = 16\n",
        "EPOCHS=2\n",
        "LR=1e-5\n",
        "\n",
        "pretrained_path =\"./devmatcing/bert\"\n",
        "config_path = os.path.join(pretrained_path, 'bert_config.json')\n",
        "checkpoint_path = os.path.join(pretrained_path, 'bert_model.ckpt')\n",
        "vocab_path = os.path.join(pretrained_path, 'vocab.txt')\n",
        "\n",
        "DATA_COLUMN = \"clear_review\"\n",
        "LABEL_COLUMN = \"bin_label\""
      ],
      "execution_count": 0,
      "outputs": []
    },
    {
      "cell_type": "code",
      "metadata": {
        "id": "M5h_4ImMDYbN",
        "colab_type": "code",
        "colab": {}
      },
      "source": [
        "token_dict = {}\n",
        "with codecs.open(vocab_path, 'r', 'utf8') as reader:\n",
        "    for line in reader:\n",
        "        token = line.strip()\n",
        "        if \"_\" in token:\n",
        "          token = token.replace(\"_\",\"\")\n",
        "          token = \"##\" + token\n",
        "        token_dict[token] = len(token_dict)"
      ],
      "execution_count": 0,
      "outputs": []
    },
    {
      "cell_type": "code",
      "metadata": {
        "id": "WDaryoObDbXD",
        "colab_type": "code",
        "colab": {}
      },
      "source": [
        "class inherit_Tokenizer(Tokenizer):\n",
        "  def _tokenize(self, text):\n",
        "        if not self._cased:\n",
        "            text = text\n",
        "            \n",
        "            text = text.lower()\n",
        "        spaced = ''\n",
        "        for ch in text:\n",
        "            if self._is_punctuation(ch) or self._is_cjk_character(ch):\n",
        "                spaced += ' ' + ch + ' '\n",
        "            elif self._is_space(ch):\n",
        "                spaced += ' '\n",
        "            elif ord(ch) == 0 or ord(ch) == 0xfffd or self._is_control(ch):\n",
        "                continue\n",
        "            else:\n",
        "                spaced += ch\n",
        "        tokens = []\n",
        "        for word in spaced.strip().split():\n",
        "            tokens += self._word_piece_tokenize(word)\n",
        "        return tokens"
      ],
      "execution_count": 0,
      "outputs": []
    },
    {
      "cell_type": "code",
      "metadata": {
        "id": "PUQMEQReDfHL",
        "colab_type": "code",
        "colab": {}
      },
      "source": [
        "tokenizer = inherit_Tokenizer(token_dict)"
      ],
      "execution_count": 0,
      "outputs": []
    },
    {
      "cell_type": "code",
      "metadata": {
        "id": "W3Vw8gySDj2w",
        "colab_type": "code",
        "colab": {}
      },
      "source": [
        "def convert_data(data_df):\n",
        "    global tokenizer\n",
        "    indices, targets = [], []\n",
        "    for i in tqdm(range(len(data_df))):\n",
        "        ids, segments = tokenizer.encode(data_df[DATA_COLUMN].iloc[i], max_len=SEQ_LEN)\n",
        "        indices.append(ids)\n",
        "        targets.append(data_df[LABEL_COLUMN].iloc[i])\n",
        "    items = list(zip(indices, targets))\n",
        "    \n",
        "    indices, targets = zip(*items)\n",
        "    indices = np.array(indices)\n",
        "    return [indices, np.zeros_like(indices)], np.array(targets)\n",
        "\n",
        "def load_data(pandas_dataframe):\n",
        "    data_df = pandas_dataframe\n",
        "    \n",
        "    \n",
        "    data_df[DATA_COLUMN] = data_df[DATA_COLUMN].astype(str)\n",
        "\n",
        "\n",
        "    data_x, data_y = convert_data(data_df)\n",
        "\n",
        "    return data_x, data_y"
      ],
      "execution_count": 0,
      "outputs": []
    },
    {
      "cell_type": "code",
      "metadata": {
        "id": "yUQYsZHkD9Vn",
        "colab_type": "code",
        "outputId": "db77afe5-df86-47ee-a48d-512ddc9338d0",
        "colab": {
          "base_uri": "https://localhost:8080/",
          "height": 589
        }
      },
      "source": [
        "train"
      ],
      "execution_count": 0,
      "outputs": [
        {
          "output_type": "execute_result",
          "data": {
            "text/html": [
              "<div>\n",
              "<style scoped>\n",
              "    .dataframe tbody tr th:only-of-type {\n",
              "        vertical-align: middle;\n",
              "    }\n",
              "\n",
              "    .dataframe tbody tr th {\n",
              "        vertical-align: top;\n",
              "    }\n",
              "\n",
              "    .dataframe thead th {\n",
              "        text-align: right;\n",
              "    }\n",
              "</style>\n",
              "<table border=\"1\" class=\"dataframe\">\n",
              "  <thead>\n",
              "    <tr style=\"text-align: right;\">\n",
              "      <th></th>\n",
              "      <th>Unnamed: 0</th>\n",
              "      <th>product</th>\n",
              "      <th>brand</th>\n",
              "      <th>user</th>\n",
              "      <th>star</th>\n",
              "      <th>review</th>\n",
              "      <th>label</th>\n",
              "      <th>clear_review</th>\n",
              "    </tr>\n",
              "  </thead>\n",
              "  <tbody>\n",
              "    <tr>\n",
              "      <th>0</th>\n",
              "      <td>0</td>\n",
              "      <td>녹차실감 샴푸액 지성용</td>\n",
              "      <td>아모스프로페셔널</td>\n",
              "      <td>타이니콩콩</td>\n",
              "      <td>별다섯개</td>\n",
              "      <td>일단 커서 좋고. 거품잘나서 좋고. 특유의 초록빛깔에 알갱이 박힌 느낌이 뭔가 내머...</td>\n",
              "      <td>4</td>\n",
              "      <td>일단 커서 좋고 거품잘나서 좋고 특유의 초록빛깔에 알갱이 박힌 느낌이 뭔가 내머리를...</td>\n",
              "    </tr>\n",
              "    <tr>\n",
              "      <th>1</th>\n",
              "      <td>1</td>\n",
              "      <td>녹차실감 샴푸액 지성용</td>\n",
              "      <td>아모스프로페셔널</td>\n",
              "      <td>팥죽</td>\n",
              "      <td>별다섯개</td>\n",
              "      <td>거품이 정말 부드럽게 나서 그런지 머리도 부드럽게 감긴다. 거품낼 때 거칠고 뻣뻣한...</td>\n",
              "      <td>4</td>\n",
              "      <td>거품이 정말 부드럽게 나서 그런지 머리도 부드럽게 감긴다 거품낼 때 거칠고 뻣뻣한 ...</td>\n",
              "    </tr>\n",
              "    <tr>\n",
              "      <th>2</th>\n",
              "      <td>2</td>\n",
              "      <td>녹차실감 샴푸액 지성용</td>\n",
              "      <td>아모스프로페셔널</td>\n",
              "      <td>먊먊</td>\n",
              "      <td>별세개</td>\n",
              "      <td>샴푸에도 건성 지성이 있구나를 알려준 제품입니다 두피타입에 따라 호불호가 확 갈리겠...</td>\n",
              "      <td>2</td>\n",
              "      <td>샴푸에도 건성 지성이 있구나를 알려준 제품입니다 두피타입에 따라 호불호가 확 갈리겠...</td>\n",
              "    </tr>\n",
              "    <tr>\n",
              "      <th>3</th>\n",
              "      <td>3</td>\n",
              "      <td>녹차실감 샴푸액 지성용</td>\n",
              "      <td>아모스프로페셔널</td>\n",
              "      <td>깽우니</td>\n",
              "      <td>별다섯개</td>\n",
              "      <td>우선 저는 #건성 입니다. (읭?) 네 저도 희안해요. 저의 문제는 ,,, 두피가 ...</td>\n",
              "      <td>4</td>\n",
              "      <td>우선 저는 건성 입니다 읭 네 저도 희안해요 저의 문제는  두피가 너무 건조해서 하...</td>\n",
              "    </tr>\n",
              "    <tr>\n",
              "      <th>4</th>\n",
              "      <td>4</td>\n",
              "      <td>녹차실감 샴푸액 지성용</td>\n",
              "      <td>아모스프로페셔널</td>\n",
              "      <td>늘양</td>\n",
              "      <td>별두개</td>\n",
              "      <td>기름기 하나는 확실히 잡아줌. 두피는 지성인데 2.5일 동안 머리 안 감아도 떡 안...</td>\n",
              "      <td>1</td>\n",
              "      <td>기름기 하나는 확실히 잡아줌 두피는 지성인데 25일 동안 머리 안 감아도 떡 안 짐...</td>\n",
              "    </tr>\n",
              "    <tr>\n",
              "      <th>...</th>\n",
              "      <td>...</td>\n",
              "      <td>...</td>\n",
              "      <td>...</td>\n",
              "      <td>...</td>\n",
              "      <td>...</td>\n",
              "      <td>...</td>\n",
              "      <td>...</td>\n",
              "      <td>...</td>\n",
              "    </tr>\n",
              "    <tr>\n",
              "      <th>14995</th>\n",
              "      <td>14995</td>\n",
              "      <td>애플 프레쉬 샴푸</td>\n",
              "      <td>헤드앤숄더</td>\n",
              "      <td>alicek2</td>\n",
              "      <td>별세개</td>\n",
              "      <td>외국에서 살 때 거의 이 샴푸만 썼어요 무난하게 썼는데, 특별히 좋다는 건 못 느꼈네요</td>\n",
              "      <td>2</td>\n",
              "      <td>외국에서 살 때 거의 이 샴푸만 썼어요 무난하게 썼는데 특별히 좋다는 건 못 느꼈네요</td>\n",
              "    </tr>\n",
              "    <tr>\n",
              "      <th>14996</th>\n",
              "      <td>14996</td>\n",
              "      <td>애플 프레쉬 샴푸</td>\n",
              "      <td>헤드앤숄더</td>\n",
              "      <td>우단</td>\n",
              "      <td>별다섯개</td>\n",
              "      <td>피지가 진짜많이나와서 이샴푸를 검색하고 사봤어요 어느순간부터 샴푸자리에 당당히 서있...</td>\n",
              "      <td>4</td>\n",
              "      <td>피지가 진짜많이나와서 이샴푸를 검색하고 사봤어요 어느순간부터 샴푸자리에 당당히 서있...</td>\n",
              "    </tr>\n",
              "    <tr>\n",
              "      <th>14997</th>\n",
              "      <td>14997</td>\n",
              "      <td>애플 프레쉬 샴푸</td>\n",
              "      <td>헤드앤숄더</td>\n",
              "      <td>밍밍쓰</td>\n",
              "      <td>별다섯개</td>\n",
              "      <td>항상 이 샴푸로 머리감고나면 친구들이 다 물어봄... 샴푸 뭐쓰냐고.. 그럼 머리어...</td>\n",
              "      <td>4</td>\n",
              "      <td>항상 이 샴푸로 머리감고나면 친구들이 다 물어봄 샴푸 뭐쓰냐고 그럼 머리어깨무릎발샴...</td>\n",
              "    </tr>\n",
              "    <tr>\n",
              "      <th>14998</th>\n",
              "      <td>14998</td>\n",
              "      <td>애플 프레쉬 샴푸</td>\n",
              "      <td>헤드앤숄더</td>\n",
              "      <td>이쁜앙마</td>\n",
              "      <td>별다섯개</td>\n",
              "      <td>지성 두피라 헤드앤숄더 제품을 쓰게 되었어요^^ 다른 제품의 샴푸를 쓰면 오후만 되...</td>\n",
              "      <td>4</td>\n",
              "      <td>지성 두피라 헤드앤숄더 제품을 쓰게 되었어요 다른 제품의 샴푸를 쓰면 오후만 되어도...</td>\n",
              "    </tr>\n",
              "    <tr>\n",
              "      <th>14999</th>\n",
              "      <td>14999</td>\n",
              "      <td>애플 프레쉬 샴푸</td>\n",
              "      <td>헤드앤숄더</td>\n",
              "      <td>kimdia</td>\n",
              "      <td>별다섯개</td>\n",
              "      <td>영원한 클래식 단독으로 쓰는 것 보다 다른 종류 샴푸랑 번갈아가며 쓰면 더 좋아요 ...</td>\n",
              "      <td>4</td>\n",
              "      <td>영원한 클래식 단독으로 쓰는 것 보다 다른 종류 샴푸랑 번갈아가며 쓰면 더 좋아요 ...</td>\n",
              "    </tr>\n",
              "  </tbody>\n",
              "</table>\n",
              "<p>15000 rows × 8 columns</p>\n",
              "</div>"
            ],
            "text/plain": [
              "       Unnamed: 0  ...                                       clear_review\n",
              "0               0  ...  일단 커서 좋고 거품잘나서 좋고 특유의 초록빛깔에 알갱이 박힌 느낌이 뭔가 내머리를...\n",
              "1               1  ...  거품이 정말 부드럽게 나서 그런지 머리도 부드럽게 감긴다 거품낼 때 거칠고 뻣뻣한 ...\n",
              "2               2  ...  샴푸에도 건성 지성이 있구나를 알려준 제품입니다 두피타입에 따라 호불호가 확 갈리겠...\n",
              "3               3  ...  우선 저는 건성 입니다 읭 네 저도 희안해요 저의 문제는  두피가 너무 건조해서 하...\n",
              "4               4  ...  기름기 하나는 확실히 잡아줌 두피는 지성인데 25일 동안 머리 안 감아도 떡 안 짐...\n",
              "...           ...  ...                                                ...\n",
              "14995       14995  ...    외국에서 살 때 거의 이 샴푸만 썼어요 무난하게 썼는데 특별히 좋다는 건 못 느꼈네요\n",
              "14996       14996  ...  피지가 진짜많이나와서 이샴푸를 검색하고 사봤어요 어느순간부터 샴푸자리에 당당히 서있...\n",
              "14997       14997  ...  항상 이 샴푸로 머리감고나면 친구들이 다 물어봄 샴푸 뭐쓰냐고 그럼 머리어깨무릎발샴...\n",
              "14998       14998  ...  지성 두피라 헤드앤숄더 제품을 쓰게 되었어요 다른 제품의 샴푸를 쓰면 오후만 되어도...\n",
              "14999       14999  ...  영원한 클래식 단독으로 쓰는 것 보다 다른 종류 샴푸랑 번갈아가며 쓰면 더 좋아요 ...\n",
              "\n",
              "[15000 rows x 8 columns]"
            ]
          },
          "metadata": {
            "tags": []
          },
          "execution_count": 47
        }
      ]
    },
    {
      "cell_type": "code",
      "metadata": {
        "id": "UZgaRusRDoSr",
        "colab_type": "code",
        "outputId": "ed218c43-b437-49c5-d25e-4b730d71e0fe",
        "colab": {
          "base_uri": "https://localhost:8080/",
          "height": 34
        }
      },
      "source": [
        "train_x, train_y = load_data(train_new)"
      ],
      "execution_count": 0,
      "outputs": [
        {
          "output_type": "stream",
          "text": [
            "100%|██████████| 15000/15000 [00:05<00:00, 2734.16it/s]\n"
          ],
          "name": "stderr"
        }
      ]
    },
    {
      "cell_type": "code",
      "metadata": {
        "id": "mpBIXicyEFF8",
        "colab_type": "code",
        "outputId": "b84ab4bb-16c2-4963-cc45-3e7ee27745ea",
        "colab": {
          "base_uri": "https://localhost:8080/",
          "height": 34
        }
      },
      "source": [
        "test_x, test_y = load_data(test_new)"
      ],
      "execution_count": 0,
      "outputs": [
        {
          "output_type": "stream",
          "text": [
            "100%|██████████| 1495/1495 [00:00<00:00, 2844.04it/s]\n"
          ],
          "name": "stderr"
        }
      ]
    },
    {
      "cell_type": "code",
      "metadata": {
        "id": "vNbFaW_FER0E",
        "colab_type": "code",
        "colab": {}
      },
      "source": [
        "def sentence_convert_data(data):\n",
        "    global tokenizer\n",
        "    indices = []\n",
        "    for i in tqdm(range(len(data))):\n",
        "        print(tokenizer.tokenize(data[i]))\n",
        "        ids, segments = tokenizer.encode(data[i], max_len=SEQ_LEN)\n",
        "        indices.append(ids)\n",
        "        \n",
        "    items = indices\n",
        "    indices = np.array(indices)\n",
        "    return [indices, np.zeros_like(indices)]\n",
        "\n",
        "def sentence_load_data(sentences):#sentence는 List로 받는다\n",
        "           \n",
        "    data_x = sentence_convert_data(sentences)\n",
        "\n",
        "    return data_x"
      ],
      "execution_count": 0,
      "outputs": []
    },
    {
      "cell_type": "code",
      "metadata": {
        "id": "XwM7SrC0EW7a",
        "colab_type": "code",
        "colab": {}
      },
      "source": [
        "layer_num = 12\n",
        "model = load_trained_model_from_checkpoint(\n",
        "    config_path,\n",
        "    checkpoint_path,\n",
        "    training=True,\n",
        "    trainable=True,\n",
        "    seq_len=SEQ_LEN,)"
      ],
      "execution_count": 0,
      "outputs": []
    },
    {
      "cell_type": "code",
      "metadata": {
        "id": "wrHcJEHREaMj",
        "colab_type": "code",
        "colab": {}
      },
      "source": [
        "def get_bert_finetuning_model(model):\n",
        "  inputs = model.inputs[:2]\n",
        "  dense = model.layers[-3].output\n",
        "\n",
        "\n",
        "  outputs = keras.layers.Dense(1, activation='sigmoid',kernel_initializer=keras.initializers.TruncatedNormal(stddev=0.02),\n",
        "                              name = 'real_output')(dense)\n",
        "\n",
        "\n",
        "\n",
        "  bert_model = keras.models.Model(inputs, outputs)\n",
        "  bert_model.compile(\n",
        "      optimizer=RAdam(learning_rate=0.00001, weight_decay=0.0025),\n",
        "      loss='binary_crossentropy',\n",
        "      metrics=['accuracy'])\n",
        "  \n",
        "  return bert_model\n",
        "  "
      ],
      "execution_count": 0,
      "outputs": []
    },
    {
      "cell_type": "code",
      "metadata": {
        "id": "B3sIZa74EkN1",
        "colab_type": "code",
        "outputId": "cd48f5eb-b3bc-4ebb-992c-c8d4ec03a9e5",
        "colab": {
          "base_uri": "https://localhost:8080/",
          "height": 102
        }
      },
      "source": [
        "sess = K.get_session()\n",
        "uninitialized_variables = set([i.decode('ascii') for i in sess.run(tf.report_uninitialized_variables())])\n",
        "init = tf.variables_initializer([v for v in tf.global_variables() if v.name.split(':')[0] in uninitialized_variables])\n",
        "sess.run(init)\n",
        "\n",
        "bert_model = get_bert_finetuning_model(model)\n",
        "history = bert_model.fit(train_x, train_y, epochs=2, batch_size=16, verbose = 1, validation_data=(test_x, test_y), shuffle=True)"
      ],
      "execution_count": 0,
      "outputs": [
        {
          "output_type": "stream",
          "text": [
            "Train on 15000 samples, validate on 1495 samples\n",
            "Epoch 1/2\n",
            "15000/15000 [==============================] - 572s 38ms/step - loss: 0.0543 - acc: 0.9989 - val_loss: 0.0019 - val_acc: 1.0000\n",
            "Epoch 2/2\n",
            "15000/15000 [==============================] - 552s 37ms/step - loss: 0.0012 - acc: 1.0000 - val_loss: 4.7578e-04 - val_acc: 1.0000\n"
          ],
          "name": "stdout"
        }
      ]
    },
    {
      "cell_type": "code",
      "metadata": {
        "colab_type": "code",
        "id": "E3pc5zhjCet-",
        "colab": {}
      },
      "source": [
        "bert_model.save_weights(path+\"/bert.h5\")"
      ],
      "execution_count": 0,
      "outputs": []
    },
    {
      "cell_type": "markdown",
      "metadata": {
        "colab_type": "text",
        "id": "f0ZgfR6MRIul"
      },
      "source": [
        "버트 모형을 로드해줍니다. 이미 로드하였던 모델에 계수들만 살짝 얹혀 줍니다."
      ]
    },
    {
      "cell_type": "code",
      "metadata": {
        "colab_type": "code",
        "id": "DwMLCYp0TzTv",
        "colab": {}
      },
      "source": [
        "bert_model = get_bert_finetuning_model(model)\n",
        "bert_model.load_weights(path+\"/bert.h5\")"
      ],
      "execution_count": 0,
      "outputs": []
    },
    {
      "cell_type": "markdown",
      "metadata": {
        "colab_type": "text",
        "id": "xqkDeYdwUC5x"
      },
      "source": [
        "파인튜닝한 버트 모형에 test 데이터 셋을 넣어 평가해 봅니다.\n",
        "사실 머신러닝에서는 정확도인 accuracy도 중요하지만, **F1 score**가 상당히 중요합니다.\n",
        "  \n",
        "\n",
        "긍정문장으로 판별된 문장이 진짜로 **긍정 문장에 속할 확률**  \n",
        "  \n",
        "\n",
        "부정문장으로 판별된 문장이 진짜로 **부정 문장에 속할 확률**  \n",
        " **이 두가지를 고려한 종합적인 성능이 F1 score입니다.**\n",
        "\n",
        "한번 F1-score를 확인해 보겠습니다.\n"
      ]
    },
    {
      "cell_type": "markdown",
      "metadata": {
        "colab_type": "text",
        "id": "5-lkxG0_Ul-_"
      },
      "source": [
        "먼저 테스트 데이터를 버트 모형에 넣을 수 있도록 predict_convert_data 함수를 정의해줍니다. <br> 위에 정의한 convert_data 함수와 다른 점은, test 데이터이기 때문에 label은 고려하지 않는다는 점입니다"
      ]
    },
    {
      "cell_type": "code",
      "metadata": {
        "colab_type": "code",
        "id": "ssOqKQeQXOe2",
        "colab": {}
      },
      "source": [
        "def predict_convert_data(data_df):\n",
        "    global tokenizer\n",
        "    indices = []\n",
        "    for i in tqdm(range(len(data_df))):\n",
        "        ids, segments = tokenizer.encode(data_df[DATA_COLUMN].iloc[i], max_len=SEQ_LEN)\n",
        "        indices.append(ids)\n",
        "        \n",
        "    items = indices\n",
        "    \n",
        "    \n",
        "    indices = np.array(indices)\n",
        "    return [indices, np.zeros_like(indices)]\n",
        "\n",
        "def predict_load_data(x): #Pandas Dataframe을 인풋으로 받는다\n",
        "    data_df = x\n",
        "    \n",
        "    \n",
        "    data_df[DATA_COLUMN] = data_df[DATA_COLUMN].astype(str)\n",
        "\n",
        "\n",
        "    data_x = predict_convert_data(data_df)\n",
        "\n",
        "    return data_x"
      ],
      "execution_count": 0,
      "outputs": []
    },
    {
      "cell_type": "code",
      "metadata": {
        "colab_type": "code",
        "id": "7OGi5CQpVE0S",
        "outputId": "981f5861-7ad6-4e78-e32f-6bf424378967",
        "colab": {
          "base_uri": "https://localhost:8080/",
          "height": 34
        }
      },
      "source": [
        "test_set = predict_load_data(test)"
      ],
      "execution_count": 0,
      "outputs": [
        {
          "output_type": "stream",
          "text": [
            "100%|██████████| 1495/1495 [00:00<00:00, 2782.62it/s]\n"
          ],
          "name": "stderr"
        }
      ]
    },
    {
      "cell_type": "code",
      "metadata": {
        "colab_type": "code",
        "id": "_ON1vhhIVWWj",
        "outputId": "79514e0b-90bd-40f1-eb63-60cd81003d7a",
        "colab": {
          "base_uri": "https://localhost:8080/",
          "height": 255
        }
      },
      "source": [
        "test_set"
      ],
      "execution_count": 0,
      "outputs": [
        {
          "output_type": "execute_result",
          "data": {
            "text/plain": [
              "[array([[  101,  9546,   119, ..., 54780,  9041,   102],\n",
              "        [  101, 83953,  9638, ...,     0,     0,     0],\n",
              "        [  101,  9638, 41521, ...,     0,     0,     0],\n",
              "        ...,\n",
              "        [  101,  9265, 12692, ...,     0,     0,     0],\n",
              "        [  101,  9553, 23811, ...,     0,     0,     0],\n",
              "        [  101,  9519,  9546, ...,     0,     0,     0]]),\n",
              " array([[0, 0, 0, ..., 0, 0, 0],\n",
              "        [0, 0, 0, ..., 0, 0, 0],\n",
              "        [0, 0, 0, ..., 0, 0, 0],\n",
              "        ...,\n",
              "        [0, 0, 0, ..., 0, 0, 0],\n",
              "        [0, 0, 0, ..., 0, 0, 0],\n",
              "        [0, 0, 0, ..., 0, 0, 0]])]"
            ]
          },
          "metadata": {
            "tags": []
          },
          "execution_count": 36
        }
      ]
    },
    {
      "cell_type": "markdown",
      "metadata": {
        "colab_type": "text",
        "id": "FiHzDNCxVXPA"
      },
      "source": [
        "테스트 셋으로 예측하기"
      ]
    },
    {
      "cell_type": "code",
      "metadata": {
        "colab_type": "code",
        "id": "mhvOT0wiVNmj",
        "colab": {}
      },
      "source": [
        "#예측\n",
        "preds = bert_model.predict(test_set)"
      ],
      "execution_count": 0,
      "outputs": []
    },
    {
      "cell_type": "code",
      "metadata": {
        "colab_type": "code",
        "id": "PcLzb1iuWeCg",
        "outputId": "c228712f-6068-4482-f0b0-8607d51df62a",
        "colab": {
          "base_uri": "https://localhost:8080/",
          "height": 136
        }
      },
      "source": [
        "# 부정이면 0, 긍정이면 1 출력\n",
        "preds"
      ],
      "execution_count": 0,
      "outputs": [
        {
          "output_type": "execute_result",
          "data": {
            "text/plain": [
              "array([[0.99999994],\n",
              "       [1.        ],\n",
              "       [0.99999994],\n",
              "       ...,\n",
              "       [1.        ],\n",
              "       [1.        ],\n",
              "       [1.        ]], dtype=float32)"
            ]
          },
          "metadata": {
            "tags": []
          },
          "execution_count": 38
        }
      ]
    },
    {
      "cell_type": "code",
      "metadata": {
        "colab_type": "code",
        "id": "Fq3GjEB8Vr0d",
        "colab": {}
      },
      "source": [
        "from sklearn.metrics import classification_report"
      ],
      "execution_count": 0,
      "outputs": []
    },
    {
      "cell_type": "code",
      "metadata": {
        "colab_type": "code",
        "id": "nBwXhtRHVs1I",
        "outputId": "8af79258-c95f-4fd0-e946-79abd663d6c2",
        "colab": {
          "base_uri": "https://localhost:8080/",
          "height": 221
        }
      },
      "source": [
        "y_true = test['label']\n",
        "# F1 Score 확인\n",
        "print(classification_report(y_true, np.round(preds,0)))"
      ],
      "execution_count": 0,
      "outputs": [
        {
          "output_type": "stream",
          "text": [
            "              precision    recall  f1-score   support\n",
            "\n",
            "           0       0.00      0.00      0.00       104\n",
            "           1       0.12      1.00      0.22       184\n",
            "           2       0.00      0.00      0.00       358\n",
            "           3       0.00      0.00      0.00       488\n",
            "           4       0.00      0.00      0.00       361\n",
            "\n",
            "    accuracy                           0.12      1495\n",
            "   macro avg       0.02      0.20      0.04      1495\n",
            "weighted avg       0.02      0.12      0.03      1495\n",
            "\n"
          ],
          "name": "stdout"
        }
      ]
    },
    {
      "cell_type": "markdown",
      "metadata": {
        "colab_type": "text",
        "id": "3VfY5HbAWr1W"
      },
      "source": [
        "F1 스코어와 Accuracy가 거의 비슷함을 알 수 있습니다. 훈련이 치우치지 않고 잘 됐음을 알 수 있습니다."
      ]
    }
  ]
}